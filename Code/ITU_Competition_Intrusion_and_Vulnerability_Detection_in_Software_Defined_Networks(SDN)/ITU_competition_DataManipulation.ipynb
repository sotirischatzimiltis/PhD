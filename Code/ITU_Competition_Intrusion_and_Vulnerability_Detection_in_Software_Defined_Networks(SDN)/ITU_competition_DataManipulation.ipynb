{
  "cells": [
    {
      "cell_type": "code",
      "source": [
        "# mount drive\n",
        "from google.colab import drive\n",
        "drive.mount('/content/drive')"
      ],
      "metadata": {
        "colab": {
          "base_uri": "https://localhost:8080/"
        },
        "id": "fdfYsZrWOcmb",
        "outputId": "7f098a3e-e067-4aa8-cc57-cff3cdd4abeb"
      },
      "execution_count": 1,
      "outputs": [
        {
          "output_type": "stream",
          "name": "stdout",
          "text": [
            "Drive already mounted at /content/drive; to attempt to forcibly remount, call drive.mount(\"/content/drive\", force_remount=True).\n"
          ]
        }
      ]
    },
    {
      "cell_type": "code",
      "execution_count": 2,
      "metadata": {
        "id": "nYsSmUzvKufB"
      },
      "outputs": [],
      "source": [
        "import numpy as np\n",
        "import pandas as pd\n",
        "import seaborn as sns\n",
        "import matplotlib.pyplot as plt\n",
        "from sklearn import preprocessing\n",
        "from sklearn.preprocessing import OneHotEncoder\n",
        "from sklearn.feature_selection import RFE"
      ]
    },
    {
      "cell_type": "markdown",
      "source": [
        "# Read Files and Basic Pre-processing"
      ],
      "metadata": {
        "id": "GlE35J9ATy_W"
      }
    },
    {
      "cell_type": "code",
      "execution_count": 3,
      "metadata": {
        "colab": {
          "base_uri": "https://localhost:8080/"
        },
        "id": "yMDOqmA6LkZP",
        "outputId": "9fc52fc2-9688-4d4e-c4ee-60544448c61e"
      },
      "outputs": [
        {
          "output_type": "stream",
          "name": "stdout",
          "text": [
            "Data loaded successfully!\n",
            "Train Data:\n",
            "   Destination Port  Flow Duration  Total Fwd Packets  Total Backward Packets  \\\n",
            "0                80       68855579                 10                       6   \n",
            "1                53            196                  2                       2   \n",
            "2               123            118                  2                       2   \n",
            "3                80         295657                  7                      10   \n",
            "4                80       15705351                  7                       5   \n",
            "\n",
            "   Total Length of Fwd Packets  Total Length of Bwd Packets  \\\n",
            "0                         1038                        11595   \n",
            "1                           70                          174   \n",
            "2                           96                           96   \n",
            "3                         1114                        15841   \n",
            "4                          407                          452   \n",
            "\n",
            "   Fwd Packet Length Max  Fwd Packet Length Min  Fwd Packet Length Mean  \\\n",
            "0                    346                      0              103.800000   \n",
            "1                     35                     35               35.000000   \n",
            "2                     48                     48               48.000000   \n",
            "3                   1084                      0              159.142857   \n",
            "4                    377                      0               58.142857   \n",
            "\n",
            "   Fwd Packet Length Std  ...  min_seg_size_forward  Active Mean  Active Std  \\\n",
            "0             167.133879  ...                    32        998.0         0.0   \n",
            "1               0.000000  ...                    32          0.0         0.0   \n",
            "2               0.000000  ...                    20          0.0         0.0   \n",
            "3             407.829796  ...                    20          0.0         0.0   \n",
            "4             140.620563  ...                    20     360718.0         0.0   \n",
            "\n",
            "   Active Max  Active Min   Idle Mean  Idle Std  Idle Max  Idle Min     Label  \n",
            "0         998         998  68300000.0       0.0  68300000  68300000  DoS Hulk  \n",
            "1           0           0         0.0       0.0         0         0    BENIGN  \n",
            "2           0           0         0.0       0.0         0         0    BENIGN  \n",
            "3           0           0         0.0       0.0         0         0    BENIGN  \n",
            "4      360718      360718   9767208.0       0.0   9767208   9767208    BENIGN  \n",
            "\n",
            "[5 rows x 79 columns]\n",
            "\n",
            "Test Data:\n",
            "   Destination Port  Flow Duration  Total Fwd Packets  Total Backward Packets  \\\n",
            "0                80            998                  2                       0   \n",
            "1                80       63111103                  7                       0   \n",
            "2                53            202                  2                       2   \n",
            "3                80              3                  2                       0   \n",
            "4              7200             37                  1                       1   \n",
            "\n",
            "   Total Length of Fwd Packets  Total Length of Bwd Packets  \\\n",
            "0                            0                            0   \n",
            "1                            0                            0   \n",
            "2                           98                          130   \n",
            "3                            0                            0   \n",
            "4                            0                            6   \n",
            "\n",
            "   Fwd Packet Length Max  Fwd Packet Length Min  Fwd Packet Length Mean  \\\n",
            "0                      0                      0                     0.0   \n",
            "1                      0                      0                     0.0   \n",
            "2                     49                     49                    49.0   \n",
            "3                      0                      0                     0.0   \n",
            "4                      0                      0                     0.0   \n",
            "\n",
            "   Fwd Packet Length Std  ...  min_seg_size_forward  Active Mean  Active Std  \\\n",
            "0                    0.0  ...                    32          0.0         0.0   \n",
            "1                    0.0  ...                    40    7015565.0         0.0   \n",
            "2                    0.0  ...                    20          0.0         0.0   \n",
            "3                    0.0  ...                    32          0.0         0.0   \n",
            "4                    0.0  ...                    40          0.0         0.0   \n",
            "\n",
            "   Active Max  Active Min   Idle Mean    Idle Std  Idle Max  Idle Min  \\\n",
            "0           0           0         0.0         0.0         0         0   \n",
            "1     7015565     7015565  18700000.0  12200000.0  32100000   8015910   \n",
            "2           0           0         0.0         0.0         0         0   \n",
            "3           0           0         0.0         0.0         0         0   \n",
            "4           0           0         0.0         0.0         0         0   \n",
            "\n",
            "              Label  \n",
            "0          DoS Hulk  \n",
            "1  DoS Slowhttptest  \n",
            "2            BENIGN  \n",
            "3          DoS Hulk  \n",
            "4          PortScan  \n",
            "\n",
            "[5 rows x 79 columns]\n"
          ]
        }
      ],
      "source": [
        "train_file_path = '/content/drive/MyDrive/ITU_Competition_Intrusion_and_Vulnerability_Detection_in_Software_Defined_Networks(SDN)/Train_ULAK.csv'\n",
        "test_file_path = '/content/drive/MyDrive/ITU_Competition_Intrusion_and_Vulnerability_Detection_in_Software_Defined_Networks(SDN)/Test_ULAK.csv'\n",
        "\n",
        "train_df = pd.read_csv(train_file_path,skipinitialspace=True)\n",
        "test_df = pd.read_csv(test_file_path,skipinitialspace=True)\n",
        "\n",
        "if train_df is not None and test_df is not None:\n",
        "    print(\"Data loaded successfully!\")\n",
        "    print(\"Train Data:\")\n",
        "    print(train_df.head())  # Display the first few rows of the train DataFrame\n",
        "    print(\"\\nTest Data:\")\n",
        "    print(test_df.head())   # Display the first few rows of the test DataFrame"
      ]
    },
    {
      "cell_type": "code",
      "source": [
        "# Print the sizes of train and test dataframes\n",
        "print(\"Shape of Training Dataset:\", train_df.shape)\n",
        "print(\"Shape of Testing Dataset:\", test_df.shape)"
      ],
      "metadata": {
        "colab": {
          "base_uri": "https://localhost:8080/"
        },
        "id": "jqEDE7YxAPJO",
        "outputId": "5a1a7ee7-809c-4bcd-9200-fb70d336f92c"
      },
      "execution_count": 4,
      "outputs": [
        {
          "output_type": "stream",
          "name": "stdout",
          "text": [
            "Shape of Training Dataset: (1783356, 79)\n",
            "Shape of Testing Dataset: (512077, 79)\n"
          ]
        }
      ]
    },
    {
      "cell_type": "code",
      "source": [
        "#train_df.info()\n",
        "#test_df.info()"
      ],
      "metadata": {
        "id": "TEK46OlpQpKE"
      },
      "execution_count": 5,
      "outputs": []
    },
    {
      "cell_type": "code",
      "execution_count": 6,
      "metadata": {
        "id": "fG5m5uB8T9jH"
      },
      "outputs": [],
      "source": [
        "# Summary statistics of the dataset\n",
        "#train_df.describe()"
      ]
    },
    {
      "cell_type": "code",
      "source": [
        "# number of each label type train df\n",
        "train_df['Label'].value_counts()"
      ],
      "metadata": {
        "colab": {
          "base_uri": "https://localhost:8080/"
        },
        "id": "0DMNvhmYWOLw",
        "outputId": "1815e364-7a82-4448-87a4-eeb3e925239f"
      },
      "execution_count": 7,
      "outputs": [
        {
          "output_type": "execute_result",
          "data": {
            "text/plain": [
              "BENIGN                        1432050\n",
              "DoS Hulk                       145575\n",
              "PortScan                       100125\n",
              "DDoS                            80656\n",
              "DoS GoldenEye                    6484\n",
              "FTP-Patator                      5000\n",
              "SSH-Patator                      3714\n",
              "DoS slowloris                    3651\n",
              "DoS Slowhttptest                 3464\n",
              "Bot                              1238\n",
              "Web Attack � Brute Force          949\n",
              "Web Attack � XSS                  410\n",
              "Infiltration                       22\n",
              "Web Attack � Sql Injection         12\n",
              "Heartbleed                          6\n",
              "Name: Label, dtype: int64"
            ]
          },
          "metadata": {},
          "execution_count": 7
        }
      ]
    },
    {
      "cell_type": "code",
      "source": [
        "# number of each label type test df\n",
        "test_df['Label'].value_counts()"
      ],
      "metadata": {
        "colab": {
          "base_uri": "https://localhost:8080/"
        },
        "id": "GPGBmJJscib7",
        "outputId": "a3d3ae93-c10f-4253-928f-3e9d63aae7c9"
      },
      "execution_count": 8,
      "outputs": [
        {
          "output_type": "execute_result",
          "data": {
            "text/plain": [
              "BENIGN                        411203\n",
              "DoS Hulk                       41801\n",
              "PortScan                       28751\n",
              "DDoS                           23160\n",
              "DoS GoldenEye                   1861\n",
              "FTP-Patator                     1436\n",
              "SSH-Patator                     1067\n",
              "DoS slowloris                   1048\n",
              "DoS Slowhttptest                 994\n",
              "Bot                              355\n",
              "Web Attack � Brute Force         272\n",
              "Web Attack � XSS                 117\n",
              "Infiltration                       6\n",
              "Web Attack � Sql Injection         4\n",
              "Heartbleed                         2\n",
              "Name: Label, dtype: int64"
            ]
          },
          "metadata": {},
          "execution_count": 8
        }
      ]
    },
    {
      "cell_type": "markdown",
      "source": [
        "# Pre-processing of Data"
      ],
      "metadata": {
        "id": "Z3PyXfylTv_u"
      }
    },
    {
      "cell_type": "markdown",
      "source": [
        "One-Hot-Encoding to Replace Label Values with Columns"
      ],
      "metadata": {
        "id": "AodBpkY-c_v1"
      }
    },
    {
      "cell_type": "code",
      "source": [
        "labels = train_df['Label'].values.reshape(-1, 1)\n",
        "# Initialize the OneHotEncoder\n",
        "encoder = OneHotEncoder()\n",
        "# transform fit labels of train and test daframe\n",
        "one_hot_labels = encoder.fit_transform(labels).toarray()\n",
        "test_labels = encoder.transform(test_df['Label'].values.reshape(-1,1)).toarray()\n",
        "\n",
        "feature_names = encoder.get_feature_names_out(input_features=['Label'])\n",
        "one_hot_df = pd.DataFrame(one_hot_labels, columns=feature_names)\n",
        "one_hot_df_test = pd.DataFrame(test_labels,columns=feature_names)\n",
        "# apend one hot encoding to dataset for both train and test dataframes\n",
        "df_encoded_train = pd.concat([train_df, one_hot_df], axis=1)\n",
        "df_encoded_train = df_encoded_train.drop('Label', axis=1)\n",
        "\n",
        "df_encoded_test = pd.concat([test_df, one_hot_df_test], axis=1)\n",
        "df_encoded_test = df_encoded_test.drop('Label', axis=1)"
      ],
      "metadata": {
        "id": "dSDKNFyLdEjy"
      },
      "execution_count": 9,
      "outputs": []
    },
    {
      "cell_type": "code",
      "source": [
        "print(train_df['Label'].unique())"
      ],
      "metadata": {
        "id": "e6Qx_Dtf4Ep-",
        "outputId": "fe5981bb-74a3-4e8e-d4d0-930ae2af457f",
        "colab": {
          "base_uri": "https://localhost:8080/"
        }
      },
      "execution_count": 10,
      "outputs": [
        {
          "output_type": "stream",
          "name": "stdout",
          "text": [
            "['DoS Hulk' 'BENIGN' 'DDoS' 'PortScan' 'DoS GoldenEye' 'FTP-Patator'\n",
            " 'DoS slowloris' 'DoS Slowhttptest' 'SSH-Patator' 'Web Attack � XSS'\n",
            " 'Web Attack � Brute Force' 'Web Attack � Sql Injection' 'Bot'\n",
            " 'Infiltration' 'Heartbleed']\n"
          ]
        }
      ]
    },
    {
      "cell_type": "markdown",
      "source": [
        "Drop Records Containing Infitiy Values, are Null and Nan Values"
      ],
      "metadata": {
        "id": "PBjkYAVjJtjz"
      }
    },
    {
      "cell_type": "code",
      "source": [
        "# Replace infinite number with NaN values\n",
        "df_encoded_train.replace([np.inf, -np.inf], np.nan, inplace=True)\n",
        "df_encoded_test.replace([np.inf, -np.inf], np.nan, inplace=True)\n",
        "# Drop null and NaN values\n",
        "print(\"Records deleted in training dataset:\", df_encoded_train.isnull().sum().sum())\n",
        "print(\"Records deleted in test dataset:\", df_encoded_test.isnull().sum().sum())\n",
        "\n",
        "df_encoded_train = df_encoded_train.dropna().reset_index(drop=True)\n",
        "df_encoded_test = df_encoded_test.dropna().reset_index(drop=True)"
      ],
      "metadata": {
        "colab": {
          "base_uri": "https://localhost:8080/"
        },
        "id": "PPp3i9cyIBIK",
        "outputId": "316789c8-1f71-4ae2-9b54-a2250e9fa8fb"
      },
      "execution_count": 11,
      "outputs": [
        {
          "output_type": "stream",
          "name": "stdout",
          "text": [
            "Records deleted in training dataset: 3622\n",
            "Records deleted in test dataset: 1074\n"
          ]
        }
      ]
    },
    {
      "cell_type": "code",
      "source": [
        "# Print the new sizes of train and test dataframes\n",
        "print(\"Shape of Training Dataset:\", df_encoded_train.shape)\n",
        "print(\"Shape of Testing Dataset:\", df_encoded_test.shape)"
      ],
      "metadata": {
        "colab": {
          "base_uri": "https://localhost:8080/"
        },
        "id": "Micsfg2BIomi",
        "outputId": "67e9ae94-a53f-4ae3-a0b3-587c94ef92ac"
      },
      "execution_count": 12,
      "outputs": [
        {
          "output_type": "stream",
          "name": "stdout",
          "text": [
            "Shape of Training Dataset: (1781545, 93)\n",
            "Shape of Testing Dataset: (511540, 93)\n"
          ]
        }
      ]
    },
    {
      "cell_type": "markdown",
      "source": [
        "Split Data"
      ],
      "metadata": {
        "id": "boYFWhCWKbR2"
      }
    },
    {
      "cell_type": "code",
      "source": [
        "X_train = df_encoded_train.drop(df_encoded_train.columns[-15:], axis=1)\n",
        "y_train = df_encoded_train[df_encoded_train.columns[-15:]]\n",
        "\n",
        "X_test = df_encoded_test.drop(df_encoded_test.columns[-15:], axis=1)\n",
        "y_test = df_encoded_test[df_encoded_test.columns[-15:]]"
      ],
      "metadata": {
        "id": "MuLtIOuiKaYd"
      },
      "execution_count": 13,
      "outputs": []
    },
    {
      "cell_type": "code",
      "source": [
        "print(X_train.shape)\n",
        "print(y_train.shape)"
      ],
      "metadata": {
        "id": "SUNW6bf5QJjK",
        "outputId": "1e36680d-0f2a-4742-f0c3-70a5092f4743",
        "colab": {
          "base_uri": "https://localhost:8080/"
        }
      },
      "execution_count": 14,
      "outputs": [
        {
          "output_type": "stream",
          "name": "stdout",
          "text": [
            "(1781545, 78)\n",
            "(1781545, 15)\n"
          ]
        }
      ]
    },
    {
      "cell_type": "code",
      "source": [
        "print(X_test.shape)\n",
        "print(y_test.shape)"
      ],
      "metadata": {
        "id": "cHBaHCEfQidS",
        "outputId": "148bd98b-9903-4386-c582-86e80f859180",
        "colab": {
          "base_uri": "https://localhost:8080/"
        }
      },
      "execution_count": 15,
      "outputs": [
        {
          "output_type": "stream",
          "name": "stdout",
          "text": [
            "(511540, 78)\n",
            "(511540, 15)\n"
          ]
        }
      ]
    },
    {
      "cell_type": "code",
      "source": [
        "# Delete dafarames to empty memory\n",
        "del df_encoded_train,df_encoded_test\n",
        "del train_df, test_df"
      ],
      "metadata": {
        "id": "eMnyEV_zNwM5"
      },
      "execution_count": 16,
      "outputs": []
    },
    {
      "cell_type": "markdown",
      "source": [
        "Scale Data using Standard Scaler"
      ],
      "metadata": {
        "id": "ikcYGsHOJz4b"
      }
    },
    {
      "cell_type": "code",
      "source": [
        "scaler = preprocessing.StandardScaler()\n",
        "scaler.fit(X_train)\n",
        "x_train = scaler.transform(X_train)\n",
        "x_test = scaler.transform(X_test)"
      ],
      "metadata": {
        "id": "K1JlrrNYJ1Mr"
      },
      "execution_count": 17,
      "outputs": []
    },
    {
      "cell_type": "markdown",
      "source": [
        "Random Forest for Feature Importance"
      ],
      "metadata": {
        "id": "BSiBrrhXUcLO"
      }
    },
    {
      "cell_type": "code",
      "source": [
        "from sklearn.ensemble import RandomForestClassifier\n",
        "rf = RandomForestClassifier(n_estimators=100, max_depth=3,\n",
        "                                 bootstrap=True, n_jobs=-1,\n",
        "                                 random_state=0,verbose=2)\n",
        "rf.fit(x_train, y_train)"
      ],
      "metadata": {
        "colab": {
          "base_uri": "https://localhost:8080/",
          "height": 1000
        },
        "id": "NoyGQA1rOK16",
        "outputId": "e5f1c5f0-0ea6-4bff-8f12-40c3686da5cd"
      },
      "execution_count": 18,
      "outputs": [
        {
          "output_type": "stream",
          "name": "stderr",
          "text": [
            "[Parallel(n_jobs=-1)]: Using backend ThreadingBackend with 2 concurrent workers.\n"
          ]
        },
        {
          "output_type": "stream",
          "name": "stdout",
          "text": [
            "building tree 1 of 100building tree 2 of 100\n",
            "\n",
            "building tree 3 of 100\n",
            "building tree 4 of 100\n",
            "building tree 5 of 100\n",
            "building tree 6 of 100\n",
            "building tree 7 of 100\n",
            "building tree 8 of 100\n",
            "building tree 9 of 100\n",
            "building tree 10 of 100\n",
            "building tree 11 of 100\n",
            "building tree 12 of 100\n",
            "building tree 13 of 100\n",
            "building tree 14 of 100\n",
            "building tree 15 of 100\n",
            "building tree 16 of 100\n",
            "building tree 17 of 100\n",
            "building tree 18 of 100\n",
            "building tree 19 of 100\n",
            "building tree 20 of 100\n",
            "building tree 21 of 100\n",
            "building tree 22 of 100\n",
            "building tree 23 of 100\n",
            "building tree 24 of 100\n",
            "building tree 25 of 100\n",
            "building tree 26 of 100\n",
            "building tree 27 of 100\n",
            "building tree 28 of 100\n",
            "building tree 29 of 100\n",
            "building tree 30 of 100\n",
            "building tree 31 of 100\n",
            "building tree 32 of 100\n",
            "building tree 33 of 100\n",
            "building tree 34 of 100\n",
            "building tree 35 of 100\n",
            "building tree 36 of 100\n",
            "building tree 37 of 100\n",
            "building tree 38 of 100\n"
          ]
        },
        {
          "output_type": "stream",
          "name": "stderr",
          "text": [
            "[Parallel(n_jobs=-1)]: Done  37 tasks      | elapsed:  4.3min\n"
          ]
        },
        {
          "output_type": "stream",
          "name": "stdout",
          "text": [
            "building tree 39 of 100\n",
            "building tree 40 of 100\n",
            "building tree 41 of 100\n",
            "building tree 42 of 100\n",
            "building tree 43 of 100\n",
            "building tree 44 of 100\n",
            "building tree 45 of 100\n",
            "building tree 46 of 100\n",
            "building tree 47 of 100\n",
            "building tree 48 of 100\n",
            "building tree 49 of 100\n",
            "building tree 50 of 100\n",
            "building tree 51 of 100\n",
            "building tree 52 of 100\n",
            "building tree 53 of 100\n",
            "building tree 54 of 100\n",
            "building tree 55 of 100\n",
            "building tree 56 of 100\n",
            "building tree 57 of 100\n",
            "building tree 58 of 100\n",
            "building tree 59 of 100\n",
            "building tree 60 of 100\n",
            "building tree 61 of 100\n",
            "building tree 62 of 100\n",
            "building tree 63 of 100\n",
            "building tree 64 of 100\n",
            "building tree 65 of 100\n",
            "building tree 66 of 100\n",
            "building tree 67 of 100\n",
            "building tree 68 of 100\n",
            "building tree 69 of 100\n",
            "building tree 70 of 100\n",
            "building tree 71 of 100\n",
            "building tree 72 of 100\n",
            "building tree 73 of 100\n",
            "building tree 74 of 100\n",
            "building tree 75 of 100\n",
            "building tree 76 of 100\n",
            "building tree 77 of 100\n",
            "building tree 78 of 100\n",
            "building tree 79 of 100\n",
            "building tree 80 of 100\n",
            "building tree 81 of 100\n",
            "building tree 82 of 100\n",
            "building tree 83 of 100\n",
            "building tree 84 of 100\n",
            "building tree 85 of 100\n",
            "building tree 86 of 100\n",
            "building tree 87 of 100\n",
            "building tree 88 of 100\n",
            "building tree 89 of 100\n",
            "building tree 90 of 100\n",
            "building tree 91 of 100\n",
            "building tree 92 of 100\n",
            "building tree 93 of 100\n",
            "building tree 94 of 100\n",
            "building tree 95 of 100\n",
            "building tree 96 of 100\n",
            "building tree 97 of 100\n",
            "building tree 98 of 100\n",
            "building tree 99 of 100\n",
            "building tree 100 of 100\n"
          ]
        },
        {
          "output_type": "stream",
          "name": "stderr",
          "text": [
            "[Parallel(n_jobs=-1)]: Done 100 out of 100 | elapsed: 11.4min finished\n"
          ]
        },
        {
          "output_type": "execute_result",
          "data": {
            "text/plain": [
              "RandomForestClassifier(max_depth=3, n_jobs=-1, random_state=0, verbose=2)"
            ],
            "text/html": [
              "<style>#sk-container-id-1 {color: black;background-color: white;}#sk-container-id-1 pre{padding: 0;}#sk-container-id-1 div.sk-toggleable {background-color: white;}#sk-container-id-1 label.sk-toggleable__label {cursor: pointer;display: block;width: 100%;margin-bottom: 0;padding: 0.3em;box-sizing: border-box;text-align: center;}#sk-container-id-1 label.sk-toggleable__label-arrow:before {content: \"▸\";float: left;margin-right: 0.25em;color: #696969;}#sk-container-id-1 label.sk-toggleable__label-arrow:hover:before {color: black;}#sk-container-id-1 div.sk-estimator:hover label.sk-toggleable__label-arrow:before {color: black;}#sk-container-id-1 div.sk-toggleable__content {max-height: 0;max-width: 0;overflow: hidden;text-align: left;background-color: #f0f8ff;}#sk-container-id-1 div.sk-toggleable__content pre {margin: 0.2em;color: black;border-radius: 0.25em;background-color: #f0f8ff;}#sk-container-id-1 input.sk-toggleable__control:checked~div.sk-toggleable__content {max-height: 200px;max-width: 100%;overflow: auto;}#sk-container-id-1 input.sk-toggleable__control:checked~label.sk-toggleable__label-arrow:before {content: \"▾\";}#sk-container-id-1 div.sk-estimator input.sk-toggleable__control:checked~label.sk-toggleable__label {background-color: #d4ebff;}#sk-container-id-1 div.sk-label input.sk-toggleable__control:checked~label.sk-toggleable__label {background-color: #d4ebff;}#sk-container-id-1 input.sk-hidden--visually {border: 0;clip: rect(1px 1px 1px 1px);clip: rect(1px, 1px, 1px, 1px);height: 1px;margin: -1px;overflow: hidden;padding: 0;position: absolute;width: 1px;}#sk-container-id-1 div.sk-estimator {font-family: monospace;background-color: #f0f8ff;border: 1px dotted black;border-radius: 0.25em;box-sizing: border-box;margin-bottom: 0.5em;}#sk-container-id-1 div.sk-estimator:hover {background-color: #d4ebff;}#sk-container-id-1 div.sk-parallel-item::after {content: \"\";width: 100%;border-bottom: 1px solid gray;flex-grow: 1;}#sk-container-id-1 div.sk-label:hover label.sk-toggleable__label {background-color: #d4ebff;}#sk-container-id-1 div.sk-serial::before {content: \"\";position: absolute;border-left: 1px solid gray;box-sizing: border-box;top: 0;bottom: 0;left: 50%;z-index: 0;}#sk-container-id-1 div.sk-serial {display: flex;flex-direction: column;align-items: center;background-color: white;padding-right: 0.2em;padding-left: 0.2em;position: relative;}#sk-container-id-1 div.sk-item {position: relative;z-index: 1;}#sk-container-id-1 div.sk-parallel {display: flex;align-items: stretch;justify-content: center;background-color: white;position: relative;}#sk-container-id-1 div.sk-item::before, #sk-container-id-1 div.sk-parallel-item::before {content: \"\";position: absolute;border-left: 1px solid gray;box-sizing: border-box;top: 0;bottom: 0;left: 50%;z-index: -1;}#sk-container-id-1 div.sk-parallel-item {display: flex;flex-direction: column;z-index: 1;position: relative;background-color: white;}#sk-container-id-1 div.sk-parallel-item:first-child::after {align-self: flex-end;width: 50%;}#sk-container-id-1 div.sk-parallel-item:last-child::after {align-self: flex-start;width: 50%;}#sk-container-id-1 div.sk-parallel-item:only-child::after {width: 0;}#sk-container-id-1 div.sk-dashed-wrapped {border: 1px dashed gray;margin: 0 0.4em 0.5em 0.4em;box-sizing: border-box;padding-bottom: 0.4em;background-color: white;}#sk-container-id-1 div.sk-label label {font-family: monospace;font-weight: bold;display: inline-block;line-height: 1.2em;}#sk-container-id-1 div.sk-label-container {text-align: center;}#sk-container-id-1 div.sk-container {/* jupyter's `normalize.less` sets `[hidden] { display: none; }` but bootstrap.min.css set `[hidden] { display: none !important; }` so we also need the `!important` here to be able to override the default hidden behavior on the sphinx rendered scikit-learn.org. See: https://github.com/scikit-learn/scikit-learn/issues/21755 */display: inline-block !important;position: relative;}#sk-container-id-1 div.sk-text-repr-fallback {display: none;}</style><div id=\"sk-container-id-1\" class=\"sk-top-container\"><div class=\"sk-text-repr-fallback\"><pre>RandomForestClassifier(max_depth=3, n_jobs=-1, random_state=0, verbose=2)</pre><b>In a Jupyter environment, please rerun this cell to show the HTML representation or trust the notebook. <br />On GitHub, the HTML representation is unable to render, please try loading this page with nbviewer.org.</b></div><div class=\"sk-container\" hidden><div class=\"sk-item\"><div class=\"sk-estimator sk-toggleable\"><input class=\"sk-toggleable__control sk-hidden--visually\" id=\"sk-estimator-id-1\" type=\"checkbox\" checked><label for=\"sk-estimator-id-1\" class=\"sk-toggleable__label sk-toggleable__label-arrow\">RandomForestClassifier</label><div class=\"sk-toggleable__content\"><pre>RandomForestClassifier(max_depth=3, n_jobs=-1, random_state=0, verbose=2)</pre></div></div></div></div></div>"
            ]
          },
          "metadata": {},
          "execution_count": 18
        }
      ]
    },
    {
      "cell_type": "markdown",
      "source": [
        "Test accuracy to find the base performance with all features"
      ],
      "metadata": {
        "id": "UD9Tgy7_Vx_M"
      }
    },
    {
      "cell_type": "code",
      "source": [
        "y_pred = rf.predict(x_test)\n",
        "from sklearn.metrics import accuracy_score\n",
        "accuracy = accuracy_score(y_test, y_pred)\n",
        "print(\"Accuracy:\", accuracy)"
      ],
      "metadata": {
        "colab": {
          "base_uri": "https://localhost:8080/"
        },
        "id": "WiC9gojrUr8L",
        "outputId": "1f8b67ad-2688-43b5-8967-6f9a945cdcfc"
      },
      "execution_count": 19,
      "outputs": [
        {
          "output_type": "stream",
          "name": "stderr",
          "text": [
            "[Parallel(n_jobs=2)]: Using backend ThreadingBackend with 2 concurrent workers.\n",
            "[Parallel(n_jobs=2)]: Done  37 tasks      | elapsed:   40.7s\n",
            "[Parallel(n_jobs=2)]: Done 100 out of 100 | elapsed:  1.8min finished\n"
          ]
        },
        {
          "output_type": "stream",
          "name": "stdout",
          "text": [
            "Accuracy: 0.9384564256949604\n"
          ]
        }
      ]
    },
    {
      "cell_type": "markdown",
      "source": [
        "Find out what features contribute the most"
      ],
      "metadata": {
        "id": "WEGV7Ab4V5A-"
      }
    },
    {
      "cell_type": "code",
      "source": [
        "feature_imp = pd.Series(rf.feature_importances_,\n",
        "                        index=X_train.columns).sort_values(ascending=False)"
      ],
      "metadata": {
        "id": "19HlOHxPU3aN"
      },
      "execution_count": 20,
      "outputs": []
    },
    {
      "cell_type": "code",
      "source": [
        "for i in range(0,len(feature_imp)):\n",
        "    print(i,end =\" \")\n",
        "    print(feature_imp.index[i],end = \": \")\n",
        "    print(feature_imp[i])"
      ],
      "metadata": {
        "colab": {
          "base_uri": "https://localhost:8080/"
        },
        "id": "xxnw_kmnONRx",
        "outputId": "6e89fb21-5299-4c4d-8eca-d88cbdede6d0"
      },
      "execution_count": 21,
      "outputs": [
        {
          "output_type": "stream",
          "name": "stdout",
          "text": [
            "0 Packet Length Std: 0.074884529793549\n",
            "1 Bwd Packet Length Mean: 0.07473778196936971\n",
            "2 Avg Bwd Segment Size: 0.07290222918291389\n",
            "3 Packet Length Variance: 0.06329335921033032\n",
            "4 Bwd Packet Length Std: 0.05867090054191021\n",
            "5 Max Packet Length: 0.05429898764940145\n",
            "6 Average Packet Size: 0.05017962538224517\n",
            "7 Total Length of Fwd Packets: 0.04254183566994731\n",
            "8 Total Length of Bwd Packets: 0.03361219714764282\n",
            "9 Subflow Bwd Bytes: 0.03358920403056025\n",
            "10 Subflow Fwd Bytes: 0.03208298791570483\n",
            "11 Packet Length Mean: 0.03066633208722605\n",
            "12 Fwd Packet Length Mean: 0.029559121080121528\n",
            "13 Fwd IAT Std: 0.029056269105987024\n",
            "14 Fwd Packet Length Max: 0.02662544436295232\n",
            "15 Bwd Packet Length Max: 0.025943116382113295\n",
            "16 Idle Max: 0.021688456616956297\n",
            "17 Avg Fwd Segment Size: 0.0210966771592294\n",
            "18 Idle Min: 0.021059519014760518\n",
            "19 PSH Flag Count: 0.01869602024412106\n",
            "20 min_seg_size_forward: 0.016224068983548667\n",
            "21 Bwd Header Length: 0.01375159809327814\n",
            "22 Bwd Packet Length Min: 0.013732868127142766\n",
            "23 Flow IAT Max: 0.012204704316966379\n",
            "24 Fwd Packet Length Std: 0.011331305838116767\n",
            "25 Bwd Packets/s: 0.010550223850357572\n",
            "26 Init_Win_bytes_backward: 0.009135299701531003\n",
            "27 Idle Mean: 0.0085856884836091\n",
            "28 Fwd Header Length: 0.008308402947142215\n",
            "29 Flow IAT Mean: 0.006906175678294004\n",
            "30 Total Backward Packets: 0.006452993532787709\n",
            "31 Fwd IAT Max: 0.006034899726413863\n",
            "32 Flow IAT Std: 0.005599622360314211\n",
            "33 Flow Bytes/s: 0.005367256426431763\n",
            "34 Total Fwd Packets: 0.004847964570482679\n",
            "35 Fwd Header Length.1: 0.004750283959487144\n",
            "36 Fwd Packets/s: 0.00464904893281123\n",
            "37 Subflow Fwd Packets: 0.0046358081662604056\n",
            "38 ACK Flag Count: 0.0045375858059889486\n",
            "39 Destination Port: 0.004024940401969557\n",
            "40 Init_Win_bytes_forward: 0.0034301024474888077\n",
            "41 Fwd IAT Mean: 0.002937633429207923\n",
            "42 Min Packet Length: 0.002936296630610959\n",
            "43 Bwd IAT Min: 0.002289618354320056\n",
            "44 Flow Packets/s: 0.0020982856127130436\n",
            "45 Subflow Bwd Packets: 0.0017655101062063632\n",
            "46 act_data_pkt_fwd: 0.0015427370534676235\n",
            "47 FIN Flag Count: 0.0011358303955440391\n",
            "48 Bwd IAT Std: 0.0008205668832672003\n",
            "49 Fwd Packet Length Min: 0.0007540949803311795\n",
            "50 Active Max: 0.0007428229962078285\n",
            "51 Fwd IAT Min: 0.0007031442097324887\n",
            "52 Fwd IAT Total: 0.0006211394794931283\n",
            "53 Active Mean: 0.0005756473513080691\n",
            "54 Bwd IAT Max: 0.00029947278645128166\n",
            "55 Down/Up Ratio: 0.00025818596817480413\n",
            "56 Bwd IAT Total: 0.00016044639043916878\n",
            "57 Flow Duration: 9.01984819901815e-05\n",
            "58 Idle Std: 1.7964152384024737e-05\n",
            "59 Flow IAT Min: 4.9678406852677516e-06\n",
            "60 Bwd Avg Packets/Bulk: 0.0\n",
            "61 Bwd Avg Bulk Rate: 0.0\n",
            "62 Bwd IAT Mean: 0.0\n",
            "63 Fwd PSH Flags: 0.0\n",
            "64 Bwd PSH Flags: 0.0\n",
            "65 Active Min: 0.0\n",
            "66 Fwd URG Flags: 0.0\n",
            "67 Active Std: 0.0\n",
            "68 Bwd URG Flags: 0.0\n",
            "69 SYN Flag Count: 0.0\n",
            "70 RST Flag Count: 0.0\n",
            "71 CWE Flag Count: 0.0\n",
            "72 ECE Flag Count: 0.0\n",
            "73 Fwd Avg Bytes/Bulk: 0.0\n",
            "74 Fwd Avg Packets/Bulk: 0.0\n",
            "75 Fwd Avg Bulk Rate: 0.0\n",
            "76 Bwd Avg Bytes/Bulk: 0.0\n",
            "77 URG Flag Count: 0.0\n"
          ]
        }
      ]
    },
    {
      "cell_type": "markdown",
      "source": [
        "Remove features that contribute zero"
      ],
      "metadata": {
        "id": "bNSOW08-XOZT"
      }
    },
    {
      "cell_type": "code",
      "source": [
        "new_features = [] # list containing the new features names\n",
        "for i in range(0,len(feature_imp)): # for for the range of all features\n",
        "    if feature_imp[i] > 0.0: # check if importance is over the threshold\n",
        "        new_features.append(feature_imp.index[i])\n",
        "print(new_features)\n",
        "# save the new data frame\n",
        "X_train_0 = X_train[new_features]\n",
        "X_test_0 = X_test[new_features]"
      ],
      "metadata": {
        "colab": {
          "base_uri": "https://localhost:8080/"
        },
        "id": "pjexNeA6XRJk",
        "outputId": "7983b5c8-a140-4594-b1c5-3b7481e808ed"
      },
      "execution_count": 22,
      "outputs": [
        {
          "output_type": "stream",
          "name": "stdout",
          "text": [
            "['Packet Length Std', 'Bwd Packet Length Mean', 'Avg Bwd Segment Size', 'Packet Length Variance', 'Bwd Packet Length Std', 'Max Packet Length', 'Average Packet Size', 'Total Length of Fwd Packets', 'Total Length of Bwd Packets', 'Subflow Bwd Bytes', 'Subflow Fwd Bytes', 'Packet Length Mean', 'Fwd Packet Length Mean', 'Fwd IAT Std', 'Fwd Packet Length Max', 'Bwd Packet Length Max', 'Idle Max', 'Avg Fwd Segment Size', 'Idle Min', 'PSH Flag Count', 'min_seg_size_forward', 'Bwd Header Length', 'Bwd Packet Length Min', 'Flow IAT Max', 'Fwd Packet Length Std', 'Bwd Packets/s', 'Init_Win_bytes_backward', 'Idle Mean', 'Fwd Header Length', 'Flow IAT Mean', 'Total Backward Packets', 'Fwd IAT Max', 'Flow IAT Std', 'Flow Bytes/s', 'Total Fwd Packets', 'Fwd Header Length.1', 'Fwd Packets/s', 'Subflow Fwd Packets', 'ACK Flag Count', 'Destination Port', 'Init_Win_bytes_forward', 'Fwd IAT Mean', 'Min Packet Length', 'Bwd IAT Min', 'Flow Packets/s', 'Subflow Bwd Packets', 'act_data_pkt_fwd', 'FIN Flag Count', 'Bwd IAT Std', 'Fwd Packet Length Min', 'Active Max', 'Fwd IAT Min', 'Fwd IAT Total', 'Active Mean', 'Bwd IAT Max', 'Down/Up Ratio', 'Bwd IAT Total', 'Flow Duration', 'Idle Std', 'Flow IAT Min']\n"
          ]
        }
      ]
    },
    {
      "cell_type": "code",
      "source": [
        "# Scale and Run again the classification training task\n",
        "scaler.fit(X_train_0)\n",
        "x_train_0 = scaler.transform(X_train_0)\n",
        "x_test_0 = scaler.transform(X_test_0)"
      ],
      "metadata": {
        "id": "iU4WE9htX-1L"
      },
      "execution_count": 23,
      "outputs": []
    },
    {
      "cell_type": "code",
      "source": [
        "rf.fit(x_train_0, y_train)"
      ],
      "metadata": {
        "colab": {
          "base_uri": "https://localhost:8080/",
          "height": 1000
        },
        "id": "-_Pvi72qYV5t",
        "outputId": "8b9b1e5b-8471-459e-9e98-f21f4052b4f0"
      },
      "execution_count": 24,
      "outputs": [
        {
          "output_type": "stream",
          "name": "stderr",
          "text": [
            "[Parallel(n_jobs=-1)]: Using backend ThreadingBackend with 2 concurrent workers.\n"
          ]
        },
        {
          "output_type": "stream",
          "name": "stdout",
          "text": [
            "building tree 1 of 100building tree 2 of 100\n",
            "\n",
            "building tree 3 of 100\n",
            "building tree 4 of 100\n",
            "building tree 5 of 100\n",
            "building tree 6 of 100\n",
            "building tree 7 of 100\n",
            "building tree 8 of 100\n",
            "building tree 9 of 100\n",
            "building tree 10 of 100\n",
            "building tree 11 of 100\n",
            "building tree 12 of 100\n",
            "building tree 13 of 100\n",
            "building tree 14 of 100\n",
            "building tree 15 of 100\n",
            "building tree 16 of 100\n",
            "building tree 17 of 100\n",
            "building tree 18 of 100\n",
            "building tree 19 of 100\n",
            "building tree 20 of 100\n",
            "building tree 21 of 100\n",
            "building tree 22 of 100\n",
            "building tree 23 of 100\n",
            "building tree 24 of 100\n",
            "building tree 25 of 100\n",
            "building tree 26 of 100\n",
            "building tree 27 of 100\n",
            "building tree 28 of 100\n",
            "building tree 29 of 100\n",
            "building tree 30 of 100\n",
            "building tree 31 of 100\n",
            "building tree 32 of 100\n",
            "building tree 33 of 100\n",
            "building tree 34 of 100\n",
            "building tree 35 of 100\n",
            "building tree 36 of 100\n",
            "building tree 37 of 100\n",
            "building tree 38 of 100\n"
          ]
        },
        {
          "output_type": "stream",
          "name": "stderr",
          "text": [
            "[Parallel(n_jobs=-1)]: Done  37 tasks      | elapsed:  4.7min\n"
          ]
        },
        {
          "output_type": "stream",
          "name": "stdout",
          "text": [
            "building tree 39 of 100\n",
            "building tree 40 of 100\n",
            "building tree 41 of 100\n",
            "building tree 42 of 100\n",
            "building tree 43 of 100\n",
            "building tree 44 of 100\n",
            "building tree 45 of 100\n",
            "building tree 46 of 100\n",
            "building tree 47 of 100\n",
            "building tree 48 of 100\n",
            "building tree 49 of 100\n",
            "building tree 50 of 100\n",
            "building tree 51 of 100\n",
            "building tree 52 of 100\n",
            "building tree 53 of 100\n",
            "building tree 54 of 100\n",
            "building tree 55 of 100\n",
            "building tree 56 of 100\n",
            "building tree 57 of 100\n",
            "building tree 58 of 100\n",
            "building tree 59 of 100\n",
            "building tree 60 of 100\n",
            "building tree 61 of 100\n",
            "building tree 62 of 100\n",
            "building tree 63 of 100\n",
            "building tree 64 of 100\n",
            "building tree 65 of 100\n",
            "building tree 66 of 100\n",
            "building tree 67 of 100\n",
            "building tree 68 of 100\n",
            "building tree 69 of 100\n",
            "building tree 70 of 100\n",
            "building tree 71 of 100\n",
            "building tree 72 of 100\n",
            "building tree 73 of 100\n",
            "building tree 74 of 100\n",
            "building tree 75 of 100\n",
            "building tree 76 of 100\n",
            "building tree 77 of 100\n",
            "building tree 78 of 100\n",
            "building tree 79 of 100\n",
            "building tree 80 of 100\n",
            "building tree 81 of 100\n",
            "building tree 82 of 100\n",
            "building tree 83 of 100\n",
            "building tree 84 of 100\n",
            "building tree 85 of 100\n",
            "building tree 86 of 100\n",
            "building tree 87 of 100\n",
            "building tree 88 of 100\n",
            "building tree 89 of 100\n",
            "building tree 90 of 100\n",
            "building tree 91 of 100\n",
            "building tree 92 of 100\n",
            "building tree 93 of 100\n",
            "building tree 94 of 100\n",
            "building tree 95 of 100\n",
            "building tree 96 of 100\n",
            "building tree 97 of 100\n",
            "building tree 98 of 100\n",
            "building tree 99 of 100\n",
            "building tree 100 of 100\n"
          ]
        },
        {
          "output_type": "stream",
          "name": "stderr",
          "text": [
            "[Parallel(n_jobs=-1)]: Done 100 out of 100 | elapsed: 12.3min finished\n"
          ]
        },
        {
          "output_type": "execute_result",
          "data": {
            "text/plain": [
              "RandomForestClassifier(max_depth=3, n_jobs=-1, random_state=0, verbose=2)"
            ],
            "text/html": [
              "<style>#sk-container-id-2 {color: black;background-color: white;}#sk-container-id-2 pre{padding: 0;}#sk-container-id-2 div.sk-toggleable {background-color: white;}#sk-container-id-2 label.sk-toggleable__label {cursor: pointer;display: block;width: 100%;margin-bottom: 0;padding: 0.3em;box-sizing: border-box;text-align: center;}#sk-container-id-2 label.sk-toggleable__label-arrow:before {content: \"▸\";float: left;margin-right: 0.25em;color: #696969;}#sk-container-id-2 label.sk-toggleable__label-arrow:hover:before {color: black;}#sk-container-id-2 div.sk-estimator:hover label.sk-toggleable__label-arrow:before {color: black;}#sk-container-id-2 div.sk-toggleable__content {max-height: 0;max-width: 0;overflow: hidden;text-align: left;background-color: #f0f8ff;}#sk-container-id-2 div.sk-toggleable__content pre {margin: 0.2em;color: black;border-radius: 0.25em;background-color: #f0f8ff;}#sk-container-id-2 input.sk-toggleable__control:checked~div.sk-toggleable__content {max-height: 200px;max-width: 100%;overflow: auto;}#sk-container-id-2 input.sk-toggleable__control:checked~label.sk-toggleable__label-arrow:before {content: \"▾\";}#sk-container-id-2 div.sk-estimator input.sk-toggleable__control:checked~label.sk-toggleable__label {background-color: #d4ebff;}#sk-container-id-2 div.sk-label input.sk-toggleable__control:checked~label.sk-toggleable__label {background-color: #d4ebff;}#sk-container-id-2 input.sk-hidden--visually {border: 0;clip: rect(1px 1px 1px 1px);clip: rect(1px, 1px, 1px, 1px);height: 1px;margin: -1px;overflow: hidden;padding: 0;position: absolute;width: 1px;}#sk-container-id-2 div.sk-estimator {font-family: monospace;background-color: #f0f8ff;border: 1px dotted black;border-radius: 0.25em;box-sizing: border-box;margin-bottom: 0.5em;}#sk-container-id-2 div.sk-estimator:hover {background-color: #d4ebff;}#sk-container-id-2 div.sk-parallel-item::after {content: \"\";width: 100%;border-bottom: 1px solid gray;flex-grow: 1;}#sk-container-id-2 div.sk-label:hover label.sk-toggleable__label {background-color: #d4ebff;}#sk-container-id-2 div.sk-serial::before {content: \"\";position: absolute;border-left: 1px solid gray;box-sizing: border-box;top: 0;bottom: 0;left: 50%;z-index: 0;}#sk-container-id-2 div.sk-serial {display: flex;flex-direction: column;align-items: center;background-color: white;padding-right: 0.2em;padding-left: 0.2em;position: relative;}#sk-container-id-2 div.sk-item {position: relative;z-index: 1;}#sk-container-id-2 div.sk-parallel {display: flex;align-items: stretch;justify-content: center;background-color: white;position: relative;}#sk-container-id-2 div.sk-item::before, #sk-container-id-2 div.sk-parallel-item::before {content: \"\";position: absolute;border-left: 1px solid gray;box-sizing: border-box;top: 0;bottom: 0;left: 50%;z-index: -1;}#sk-container-id-2 div.sk-parallel-item {display: flex;flex-direction: column;z-index: 1;position: relative;background-color: white;}#sk-container-id-2 div.sk-parallel-item:first-child::after {align-self: flex-end;width: 50%;}#sk-container-id-2 div.sk-parallel-item:last-child::after {align-self: flex-start;width: 50%;}#sk-container-id-2 div.sk-parallel-item:only-child::after {width: 0;}#sk-container-id-2 div.sk-dashed-wrapped {border: 1px dashed gray;margin: 0 0.4em 0.5em 0.4em;box-sizing: border-box;padding-bottom: 0.4em;background-color: white;}#sk-container-id-2 div.sk-label label {font-family: monospace;font-weight: bold;display: inline-block;line-height: 1.2em;}#sk-container-id-2 div.sk-label-container {text-align: center;}#sk-container-id-2 div.sk-container {/* jupyter's `normalize.less` sets `[hidden] { display: none; }` but bootstrap.min.css set `[hidden] { display: none !important; }` so we also need the `!important` here to be able to override the default hidden behavior on the sphinx rendered scikit-learn.org. See: https://github.com/scikit-learn/scikit-learn/issues/21755 */display: inline-block !important;position: relative;}#sk-container-id-2 div.sk-text-repr-fallback {display: none;}</style><div id=\"sk-container-id-2\" class=\"sk-top-container\"><div class=\"sk-text-repr-fallback\"><pre>RandomForestClassifier(max_depth=3, n_jobs=-1, random_state=0, verbose=2)</pre><b>In a Jupyter environment, please rerun this cell to show the HTML representation or trust the notebook. <br />On GitHub, the HTML representation is unable to render, please try loading this page with nbviewer.org.</b></div><div class=\"sk-container\" hidden><div class=\"sk-item\"><div class=\"sk-estimator sk-toggleable\"><input class=\"sk-toggleable__control sk-hidden--visually\" id=\"sk-estimator-id-2\" type=\"checkbox\" checked><label for=\"sk-estimator-id-2\" class=\"sk-toggleable__label sk-toggleable__label-arrow\">RandomForestClassifier</label><div class=\"sk-toggleable__content\"><pre>RandomForestClassifier(max_depth=3, n_jobs=-1, random_state=0, verbose=2)</pre></div></div></div></div></div>"
            ]
          },
          "metadata": {},
          "execution_count": 24
        }
      ]
    },
    {
      "cell_type": "code",
      "source": [
        "y_pred = rf.predict(x_test_0) # change to x_test_0\n",
        "from sklearn.metrics import accuracy_score\n",
        "accuracy = accuracy_score(y_test, y_pred)\n",
        "print(\"Accuracy:\", accuracy)"
      ],
      "metadata": {
        "colab": {
          "base_uri": "https://localhost:8080/"
        },
        "id": "X3BE2IwRYX-N",
        "outputId": "2bf906fd-dd51-4c65-e0bf-310d82e9eb66"
      },
      "execution_count": 25,
      "outputs": [
        {
          "output_type": "stream",
          "name": "stderr",
          "text": [
            "[Parallel(n_jobs=2)]: Using backend ThreadingBackend with 2 concurrent workers.\n",
            "[Parallel(n_jobs=2)]: Done  37 tasks      | elapsed:   40.7s\n",
            "[Parallel(n_jobs=2)]: Done 100 out of 100 | elapsed:  1.9min finished\n"
          ]
        },
        {
          "output_type": "stream",
          "name": "stdout",
          "text": [
            "Accuracy: 0.9404230363216953\n"
          ]
        }
      ]
    },
    {
      "cell_type": "code",
      "source": [
        "# see from this featues the contributions\n",
        "feature_imp0 = pd.Series(rf.feature_importances_,\n",
        "                        index=X_train_0.columns).sort_values(ascending=False)"
      ],
      "metadata": {
        "id": "-rzLfZD5cK_B"
      },
      "execution_count": 26,
      "outputs": []
    },
    {
      "cell_type": "code",
      "source": [
        "for i in range(0,len(feature_imp0)):\n",
        "    print(i,end =\" \")\n",
        "    print(feature_imp0.index[i],end = \": \")\n",
        "    print(feature_imp0[i])"
      ],
      "metadata": {
        "colab": {
          "base_uri": "https://localhost:8080/"
        },
        "id": "WJtPzXdMcqBx",
        "outputId": "62ee7410-7538-46b4-a230-7b80c56eb0d3"
      },
      "execution_count": 27,
      "outputs": [
        {
          "output_type": "stream",
          "name": "stdout",
          "text": [
            "0 Avg Bwd Segment Size: 0.08739773888301977\n",
            "1 Packet Length Std: 0.08399304017569273\n",
            "2 Packet Length Variance: 0.07042187838513471\n",
            "3 Bwd Packet Length Mean: 0.06929313483132214\n",
            "4 Bwd Packet Length Std: 0.06379464388670093\n",
            "5 Packet Length Mean: 0.05205333853586908\n",
            "6 Average Packet Size: 0.04598675892562356\n",
            "7 Max Packet Length: 0.042542652605308096\n",
            "8 Subflow Fwd Bytes: 0.04049332350295166\n",
            "9 Total Length of Bwd Packets: 0.03878840294501267\n",
            "10 Bwd Packet Length Max: 0.034463953921190116\n",
            "11 Total Length of Fwd Packets: 0.03357195065056664\n",
            "12 Fwd Packet Length Max: 0.032450338788451515\n",
            "13 Avg Fwd Segment Size: 0.030634315439729276\n",
            "14 Subflow Bwd Bytes: 0.03061322296403141\n",
            "15 Fwd IAT Std: 0.024756864666294662\n",
            "16 Fwd Packet Length Mean: 0.022754124155730263\n",
            "17 Idle Min: 0.018563303616511692\n",
            "18 Idle Max: 0.01836467826128943\n",
            "19 PSH Flag Count: 0.017007102228948683\n",
            "20 Fwd Packet Length Std: 0.015499831676384078\n",
            "21 Bwd Packet Length Min: 0.014479110695710997\n",
            "22 Bwd Header Length: 0.013639362458033974\n",
            "23 Fwd IAT Max: 0.010166245898112491\n",
            "24 Flow Bytes/s: 0.009890421392263808\n",
            "25 Bwd Packets/s: 0.0078110332987953\n",
            "26 min_seg_size_forward: 0.00769714443251036\n",
            "27 Flow IAT Max: 0.006775743212924018\n",
            "28 Init_Win_bytes_forward: 0.006351004116622878\n",
            "29 Idle Mean: 0.005110835361802304\n",
            "30 Destination Port: 0.0046519518204315305\n",
            "31 Init_Win_bytes_backward: 0.004376024883392218\n",
            "32 Subflow Fwd Packets: 0.0037496404367670854\n",
            "33 Total Backward Packets: 0.00370422001911946\n",
            "34 Fwd Header Length: 0.0030330283166720593\n",
            "35 ACK Flag Count: 0.002913347566753065\n",
            "36 Fwd IAT Total: 0.0026946914648015158\n",
            "37 Fwd IAT Mean: 0.002530027549879876\n",
            "38 Fwd Header Length.1: 0.0025124499044459764\n",
            "39 Min Packet Length: 0.0021238665867195617\n",
            "40 Flow IAT Std: 0.0020902531060342532\n",
            "41 Flow Packets/s: 0.0020878573279064206\n",
            "42 Flow Duration: 0.001757495478290518\n",
            "43 Subflow Bwd Packets: 0.0016188240075187144\n",
            "44 Total Fwd Packets: 0.001598077830624765\n",
            "45 act_data_pkt_fwd: 0.0011868883090269753\n",
            "46 Fwd Packets/s: 0.000999463443170016\n",
            "47 Active Max: 0.000627167338160518\n",
            "48 Flow IAT Min: 0.0003692011703288014\n",
            "49 Fwd Packet Length Min: 6.7142455888991795e-06\n",
            "50 Flow IAT Mean: 2.490387344201382e-06\n",
            "51 Bwd IAT Max: 8.188944843213828e-07\n",
            "52 Bwd IAT Std: 0.0\n",
            "53 Fwd IAT Min: 0.0\n",
            "54 Bwd IAT Min: 0.0\n",
            "55 Active Mean: 0.0\n",
            "56 Down/Up Ratio: 0.0\n",
            "57 Bwd IAT Total: 0.0\n",
            "58 Idle Std: 0.0\n",
            "59 FIN Flag Count: 0.0\n"
          ]
        }
      ]
    },
    {
      "cell_type": "markdown",
      "source": [
        "Remove more features that do not contribute much from the new random forest"
      ],
      "metadata": {
        "id": "aROjOiWGboMA"
      }
    },
    {
      "cell_type": "code",
      "source": [
        "new_features = [] # list containing the new features names\n",
        "for i in range(0,len(feature_imp0)): # for for the range of all features\n",
        "    if feature_imp0[i] > 0.001: # check if importance is over the threshold\n",
        "        new_features.append(feature_imp0.index[i])\n",
        "print(new_features)\n",
        "# save the new data frame\n",
        "X_train_00 = X_train[new_features]\n",
        "X_test_00 = X_test[new_features]"
      ],
      "metadata": {
        "colab": {
          "base_uri": "https://localhost:8080/"
        },
        "id": "lAf-AFZXbtsA",
        "outputId": "30818e8b-df98-4102-b1e8-c0929328fcd1"
      },
      "execution_count": 28,
      "outputs": [
        {
          "output_type": "stream",
          "name": "stdout",
          "text": [
            "['Avg Bwd Segment Size', 'Packet Length Std', 'Packet Length Variance', 'Bwd Packet Length Mean', 'Bwd Packet Length Std', 'Packet Length Mean', 'Average Packet Size', 'Max Packet Length', 'Subflow Fwd Bytes', 'Total Length of Bwd Packets', 'Bwd Packet Length Max', 'Total Length of Fwd Packets', 'Fwd Packet Length Max', 'Avg Fwd Segment Size', 'Subflow Bwd Bytes', 'Fwd IAT Std', 'Fwd Packet Length Mean', 'Idle Min', 'Idle Max', 'PSH Flag Count', 'Fwd Packet Length Std', 'Bwd Packet Length Min', 'Bwd Header Length', 'Fwd IAT Max', 'Flow Bytes/s', 'Bwd Packets/s', 'min_seg_size_forward', 'Flow IAT Max', 'Init_Win_bytes_forward', 'Idle Mean', 'Destination Port', 'Init_Win_bytes_backward', 'Subflow Fwd Packets', 'Total Backward Packets', 'Fwd Header Length', 'ACK Flag Count', 'Fwd IAT Total', 'Fwd IAT Mean', 'Fwd Header Length.1', 'Min Packet Length', 'Flow IAT Std', 'Flow Packets/s', 'Flow Duration', 'Subflow Bwd Packets', 'Total Fwd Packets', 'act_data_pkt_fwd']\n"
          ]
        }
      ]
    },
    {
      "cell_type": "code",
      "source": [
        "# Train again and predict\n",
        "# Scale and Run again the classification training task\n",
        "scaler.fit(X_train_00)\n",
        "x_train_00 = scaler.transform(X_train_00)\n",
        "x_test_00 = scaler.transform(X_test_00)"
      ],
      "metadata": {
        "id": "P0zfK0QNdhfS"
      },
      "execution_count": 29,
      "outputs": []
    },
    {
      "cell_type": "code",
      "source": [
        "rf.fit(x_train_00, y_train)"
      ],
      "metadata": {
        "colab": {
          "base_uri": "https://localhost:8080/",
          "height": 1000
        },
        "id": "eyNXAnJHdqqS",
        "outputId": "eaf47a4a-f488-4d65-ff7b-d337c81a7bf4"
      },
      "execution_count": 30,
      "outputs": [
        {
          "output_type": "stream",
          "name": "stderr",
          "text": [
            "[Parallel(n_jobs=-1)]: Using backend ThreadingBackend with 2 concurrent workers.\n"
          ]
        },
        {
          "output_type": "stream",
          "name": "stdout",
          "text": [
            "building tree 1 of 100\n",
            "building tree 2 of 100\n",
            "building tree 3 of 100building tree 4 of 100\n",
            "\n",
            "building tree 5 of 100\n",
            "building tree 6 of 100\n",
            "building tree 7 of 100\n",
            "building tree 8 of 100\n",
            "building tree 9 of 100\n",
            "building tree 10 of 100\n",
            "building tree 11 of 100\n",
            "building tree 12 of 100\n",
            "building tree 13 of 100\n",
            "building tree 14 of 100\n",
            "building tree 15 of 100\n",
            "building tree 16 of 100\n",
            "building tree 17 of 100\n",
            "building tree 18 of 100\n",
            "building tree 19 of 100\n",
            "building tree 20 of 100\n",
            "building tree 21 of 100\n",
            "building tree 22 of 100\n",
            "building tree 23 of 100\n",
            "building tree 24 of 100\n",
            "building tree 25 of 100\n",
            "building tree 26 of 100\n",
            "building tree 27 of 100\n",
            "building tree 28 of 100\n",
            "building tree 29 of 100\n",
            "building tree 30 of 100\n",
            "building tree 31 of 100\n",
            "building tree 32 of 100\n",
            "building tree 33 of 100\n",
            "building tree 34 of 100\n",
            "building tree 35 of 100\n",
            "building tree 36 of 100\n",
            "building tree 37 of 100\n",
            "building tree 38 of 100\n"
          ]
        },
        {
          "output_type": "stream",
          "name": "stderr",
          "text": [
            "[Parallel(n_jobs=-1)]: Done  37 tasks      | elapsed:  4.8min\n"
          ]
        },
        {
          "output_type": "stream",
          "name": "stdout",
          "text": [
            "building tree 39 of 100\n",
            "building tree 40 of 100\n",
            "building tree 41 of 100\n",
            "building tree 42 of 100\n",
            "building tree 43 of 100\n",
            "building tree 44 of 100\n",
            "building tree 45 of 100\n",
            "building tree 46 of 100\n",
            "building tree 47 of 100\n",
            "building tree 48 of 100\n",
            "building tree 49 of 100\n",
            "building tree 50 of 100\n",
            "building tree 51 of 100\n",
            "building tree 52 of 100\n",
            "building tree 53 of 100\n",
            "building tree 54 of 100\n",
            "building tree 55 of 100\n",
            "building tree 56 of 100\n",
            "building tree 57 of 100\n",
            "building tree 58 of 100\n",
            "building tree 59 of 100\n",
            "building tree 60 of 100\n",
            "building tree 61 of 100\n",
            "building tree 62 of 100\n",
            "building tree 63 of 100\n",
            "building tree 64 of 100\n",
            "building tree 65 of 100\n",
            "building tree 66 of 100\n",
            "building tree 67 of 100\n",
            "building tree 68 of 100\n",
            "building tree 69 of 100\n",
            "building tree 70 of 100\n",
            "building tree 71 of 100\n",
            "building tree 72 of 100\n",
            "building tree 73 of 100\n",
            "building tree 74 of 100\n",
            "building tree 75 of 100\n",
            "building tree 76 of 100\n",
            "building tree 77 of 100\n",
            "building tree 78 of 100\n",
            "building tree 79 of 100\n",
            "building tree 80 of 100\n",
            "building tree 81 of 100\n",
            "building tree 82 of 100\n",
            "building tree 83 of 100\n",
            "building tree 84 of 100\n",
            "building tree 85 of 100\n",
            "building tree 86 of 100\n",
            "building tree 87 of 100\n",
            "building tree 88 of 100\n",
            "building tree 89 of 100\n",
            "building tree 90 of 100\n",
            "building tree 91 of 100\n",
            "building tree 92 of 100\n",
            "building tree 93 of 100\n",
            "building tree 94 of 100\n",
            "building tree 95 of 100\n",
            "building tree 96 of 100\n",
            "building tree 97 of 100\n",
            "building tree 98 of 100\n",
            "building tree 99 of 100\n",
            "building tree 100 of 100\n"
          ]
        },
        {
          "output_type": "stream",
          "name": "stderr",
          "text": [
            "[Parallel(n_jobs=-1)]: Done 100 out of 100 | elapsed: 11.8min finished\n"
          ]
        },
        {
          "output_type": "execute_result",
          "data": {
            "text/plain": [
              "RandomForestClassifier(max_depth=3, n_jobs=-1, random_state=0, verbose=2)"
            ],
            "text/html": [
              "<style>#sk-container-id-3 {color: black;background-color: white;}#sk-container-id-3 pre{padding: 0;}#sk-container-id-3 div.sk-toggleable {background-color: white;}#sk-container-id-3 label.sk-toggleable__label {cursor: pointer;display: block;width: 100%;margin-bottom: 0;padding: 0.3em;box-sizing: border-box;text-align: center;}#sk-container-id-3 label.sk-toggleable__label-arrow:before {content: \"▸\";float: left;margin-right: 0.25em;color: #696969;}#sk-container-id-3 label.sk-toggleable__label-arrow:hover:before {color: black;}#sk-container-id-3 div.sk-estimator:hover label.sk-toggleable__label-arrow:before {color: black;}#sk-container-id-3 div.sk-toggleable__content {max-height: 0;max-width: 0;overflow: hidden;text-align: left;background-color: #f0f8ff;}#sk-container-id-3 div.sk-toggleable__content pre {margin: 0.2em;color: black;border-radius: 0.25em;background-color: #f0f8ff;}#sk-container-id-3 input.sk-toggleable__control:checked~div.sk-toggleable__content {max-height: 200px;max-width: 100%;overflow: auto;}#sk-container-id-3 input.sk-toggleable__control:checked~label.sk-toggleable__label-arrow:before {content: \"▾\";}#sk-container-id-3 div.sk-estimator input.sk-toggleable__control:checked~label.sk-toggleable__label {background-color: #d4ebff;}#sk-container-id-3 div.sk-label input.sk-toggleable__control:checked~label.sk-toggleable__label {background-color: #d4ebff;}#sk-container-id-3 input.sk-hidden--visually {border: 0;clip: rect(1px 1px 1px 1px);clip: rect(1px, 1px, 1px, 1px);height: 1px;margin: -1px;overflow: hidden;padding: 0;position: absolute;width: 1px;}#sk-container-id-3 div.sk-estimator {font-family: monospace;background-color: #f0f8ff;border: 1px dotted black;border-radius: 0.25em;box-sizing: border-box;margin-bottom: 0.5em;}#sk-container-id-3 div.sk-estimator:hover {background-color: #d4ebff;}#sk-container-id-3 div.sk-parallel-item::after {content: \"\";width: 100%;border-bottom: 1px solid gray;flex-grow: 1;}#sk-container-id-3 div.sk-label:hover label.sk-toggleable__label {background-color: #d4ebff;}#sk-container-id-3 div.sk-serial::before {content: \"\";position: absolute;border-left: 1px solid gray;box-sizing: border-box;top: 0;bottom: 0;left: 50%;z-index: 0;}#sk-container-id-3 div.sk-serial {display: flex;flex-direction: column;align-items: center;background-color: white;padding-right: 0.2em;padding-left: 0.2em;position: relative;}#sk-container-id-3 div.sk-item {position: relative;z-index: 1;}#sk-container-id-3 div.sk-parallel {display: flex;align-items: stretch;justify-content: center;background-color: white;position: relative;}#sk-container-id-3 div.sk-item::before, #sk-container-id-3 div.sk-parallel-item::before {content: \"\";position: absolute;border-left: 1px solid gray;box-sizing: border-box;top: 0;bottom: 0;left: 50%;z-index: -1;}#sk-container-id-3 div.sk-parallel-item {display: flex;flex-direction: column;z-index: 1;position: relative;background-color: white;}#sk-container-id-3 div.sk-parallel-item:first-child::after {align-self: flex-end;width: 50%;}#sk-container-id-3 div.sk-parallel-item:last-child::after {align-self: flex-start;width: 50%;}#sk-container-id-3 div.sk-parallel-item:only-child::after {width: 0;}#sk-container-id-3 div.sk-dashed-wrapped {border: 1px dashed gray;margin: 0 0.4em 0.5em 0.4em;box-sizing: border-box;padding-bottom: 0.4em;background-color: white;}#sk-container-id-3 div.sk-label label {font-family: monospace;font-weight: bold;display: inline-block;line-height: 1.2em;}#sk-container-id-3 div.sk-label-container {text-align: center;}#sk-container-id-3 div.sk-container {/* jupyter's `normalize.less` sets `[hidden] { display: none; }` but bootstrap.min.css set `[hidden] { display: none !important; }` so we also need the `!important` here to be able to override the default hidden behavior on the sphinx rendered scikit-learn.org. See: https://github.com/scikit-learn/scikit-learn/issues/21755 */display: inline-block !important;position: relative;}#sk-container-id-3 div.sk-text-repr-fallback {display: none;}</style><div id=\"sk-container-id-3\" class=\"sk-top-container\"><div class=\"sk-text-repr-fallback\"><pre>RandomForestClassifier(max_depth=3, n_jobs=-1, random_state=0, verbose=2)</pre><b>In a Jupyter environment, please rerun this cell to show the HTML representation or trust the notebook. <br />On GitHub, the HTML representation is unable to render, please try loading this page with nbviewer.org.</b></div><div class=\"sk-container\" hidden><div class=\"sk-item\"><div class=\"sk-estimator sk-toggleable\"><input class=\"sk-toggleable__control sk-hidden--visually\" id=\"sk-estimator-id-3\" type=\"checkbox\" checked><label for=\"sk-estimator-id-3\" class=\"sk-toggleable__label sk-toggleable__label-arrow\">RandomForestClassifier</label><div class=\"sk-toggleable__content\"><pre>RandomForestClassifier(max_depth=3, n_jobs=-1, random_state=0, verbose=2)</pre></div></div></div></div></div>"
            ]
          },
          "metadata": {},
          "execution_count": 30
        }
      ]
    },
    {
      "cell_type": "code",
      "source": [
        "y_pred = rf.predict(x_test_00) # change to x_test_0\n",
        "from sklearn.metrics import accuracy_score\n",
        "accuracy = accuracy_score(y_test, y_pred)\n",
        "print(\"Accuracy:\", accuracy)"
      ],
      "metadata": {
        "colab": {
          "base_uri": "https://localhost:8080/"
        },
        "id": "1E0i7jyMdvtS",
        "outputId": "ccb54898-b703-4507-ca8f-588166204833"
      },
      "execution_count": 31,
      "outputs": [
        {
          "output_type": "stream",
          "name": "stderr",
          "text": [
            "[Parallel(n_jobs=2)]: Using backend ThreadingBackend with 2 concurrent workers.\n",
            "[Parallel(n_jobs=2)]: Done  37 tasks      | elapsed:   42.5s\n",
            "[Parallel(n_jobs=2)]: Done 100 out of 100 | elapsed:  1.8min finished\n"
          ]
        },
        {
          "output_type": "stream",
          "name": "stdout",
          "text": [
            "Accuracy: 0.9386773272862338\n"
          ]
        }
      ]
    },
    {
      "cell_type": "code",
      "source": [
        "# Perform again to see feature importance\n",
        "feature_imp00 = pd.Series(rf.feature_importances_,\n",
        "                        index=X_train_00.columns).sort_values(ascending=False)"
      ],
      "metadata": {
        "id": "wJ625mYjgsK_"
      },
      "execution_count": 32,
      "outputs": []
    },
    {
      "cell_type": "code",
      "source": [
        "for i in range(0,len(feature_imp00)):\n",
        "    print(i,end =\" \")\n",
        "    print(feature_imp00.index[i],end = \": \")\n",
        "    print(feature_imp00[i])"
      ],
      "metadata": {
        "colab": {
          "base_uri": "https://localhost:8080/"
        },
        "id": "UoxR4SEbg0e-",
        "outputId": "53a12128-9303-4159-cd3a-654865ee5df7"
      },
      "execution_count": 33,
      "outputs": [
        {
          "output_type": "stream",
          "name": "stdout",
          "text": [
            "0 Packet Length Std: 0.10836768977179784\n",
            "1 Bwd Packet Length Std: 0.09284567307574548\n",
            "2 Bwd Packet Length Max: 0.06371919864478232\n",
            "3 Bwd Packet Length Mean: 0.05953998284138854\n",
            "4 Average Packet Size: 0.05871767648479514\n",
            "5 Packet Length Variance: 0.05635571517622319\n",
            "6 Avg Bwd Segment Size: 0.04908434857481249\n",
            "7 Subflow Bwd Bytes: 0.04852060509661591\n",
            "8 Total Length of Fwd Packets: 0.046791236424598794\n",
            "9 Fwd Packet Length Max: 0.04170315022544639\n",
            "10 Subflow Fwd Bytes: 0.0341779736618819\n",
            "11 Packet Length Mean: 0.029577534653097464\n",
            "12 Avg Fwd Segment Size: 0.028723389585185503\n",
            "13 Max Packet Length: 0.02680046171228531\n",
            "14 Fwd Packet Length Mean: 0.025058546894064473\n",
            "15 Total Length of Bwd Packets: 0.025019008620498922\n",
            "16 Fwd IAT Std: 0.024726712953173968\n",
            "17 Idle Max: 0.01972506773478399\n",
            "18 Fwd Packet Length Std: 0.017053698855276744\n",
            "19 Init_Win_bytes_backward: 0.015897437526586716\n",
            "20 Bwd Header Length: 0.01404455554835598\n",
            "21 Flow IAT Max: 0.011862510510740373\n",
            "22 Idle Min: 0.011074758136594821\n",
            "23 Bwd Packet Length Min: 0.010315222861286237\n",
            "24 Bwd Packets/s: 0.008648292687274557\n",
            "25 PSH Flag Count: 0.007444613568898282\n",
            "26 Idle Mean: 0.00721959602926087\n",
            "27 Total Fwd Packets: 0.006479367285678123\n",
            "28 min_seg_size_forward: 0.0062395020252121345\n",
            "29 Subflow Fwd Packets: 0.006061709948765172\n",
            "30 Flow Bytes/s: 0.004522788079366148\n",
            "31 Total Backward Packets: 0.0037496027455282363\n",
            "32 Flow IAT Std: 0.003646969300632263\n",
            "33 Fwd Header Length: 0.0033958937680960877\n",
            "34 ACK Flag Count: 0.003379568357684733\n",
            "35 Min Packet Length: 0.00305974821300025\n",
            "36 Init_Win_bytes_forward: 0.002899071277578029\n",
            "37 Subflow Bwd Packets: 0.002829161563164274\n",
            "38 Fwd IAT Total: 0.00235788492306511\n",
            "39 Fwd IAT Mean: 0.0022699455164958047\n",
            "40 Destination Port: 0.0022205682891023103\n",
            "41 Fwd Header Length.1: 0.0013797672859100125\n",
            "42 Fwd IAT Max: 0.0013121753928586545\n",
            "43 Flow Packets/s: 0.001017397770859836\n",
            "44 act_data_pkt_fwd: 0.00016376919226771292\n",
            "45 Flow Duration: 4.512092830910329e-07\n"
          ]
        }
      ]
    },
    {
      "cell_type": "code",
      "source": [
        "# colect features until comulative importance is 0.9\n",
        "new_features = [] # list containing the new features names\n",
        "cum_imp = 0\n",
        "for i in range(0,len(feature_imp00)): # for for the range of all features\n",
        "    if cum_imp < 0.9:\n",
        "        new_features.append(feature_imp00.index[i])\n",
        "        cum_imp+= feature_imp00[i]\n",
        "print(new_features)\n",
        "# save the new data frame\n",
        "X_train_000 = X_train[new_features]\n",
        "X_test_000 = X_test[new_features]"
      ],
      "metadata": {
        "colab": {
          "base_uri": "https://localhost:8080/"
        },
        "id": "53y8OJoChssm",
        "outputId": "f3160700-a991-4468-d0d7-c5fc2fedb174"
      },
      "execution_count": 34,
      "outputs": [
        {
          "output_type": "stream",
          "name": "stdout",
          "text": [
            "['Packet Length Std', 'Bwd Packet Length Std', 'Bwd Packet Length Max', 'Bwd Packet Length Mean', 'Average Packet Size', 'Packet Length Variance', 'Avg Bwd Segment Size', 'Subflow Bwd Bytes', 'Total Length of Fwd Packets', 'Fwd Packet Length Max', 'Subflow Fwd Bytes', 'Packet Length Mean', 'Avg Fwd Segment Size', 'Max Packet Length', 'Fwd Packet Length Mean', 'Total Length of Bwd Packets', 'Fwd IAT Std', 'Idle Max', 'Fwd Packet Length Std', 'Init_Win_bytes_backward', 'Bwd Header Length', 'Flow IAT Max', 'Idle Min']\n"
          ]
        }
      ]
    },
    {
      "cell_type": "code",
      "source": [
        "# final training\n",
        "# Train again and predict\n",
        "# Scale and Run again the classification training task\n",
        "scaler.fit(X_train_000)\n",
        "x_train_000 = scaler.transform(X_train_000)\n",
        "x_test_000 = scaler.transform(X_test_000)"
      ],
      "metadata": {
        "id": "wKd6b56GiODg"
      },
      "execution_count": 35,
      "outputs": []
    },
    {
      "cell_type": "code",
      "source": [
        "del X_train_00, X_train_0"
      ],
      "metadata": {
        "id": "wWyvJyOcszQ6"
      },
      "execution_count": 36,
      "outputs": []
    },
    {
      "cell_type": "code",
      "source": [
        "rf.fit(x_train_000, y_train)"
      ],
      "metadata": {
        "id": "ReuNF83Fia1a"
      },
      "execution_count": null,
      "outputs": []
    },
    {
      "cell_type": "code",
      "source": [
        "y_pred = rf.predict(x_test_000) # change to x_test_0\n",
        "from sklearn.metrics import accuracy_score\n",
        "accuracy = accuracy_score(y_test, y_pred)\n",
        "print(\"Accuracy:\", accuracy)"
      ],
      "metadata": {
        "id": "x-OrJinointK"
      },
      "execution_count": null,
      "outputs": []
    },
    {
      "cell_type": "code",
      "source": [
        "rf2 = RandomForestClassifier(n_estimators=100, max_depth=4,\n",
        "                                 bootstrap=True, n_jobs=-1,\n",
        "                                 random_state=0,verbose=3)\n",
        "rf2.fit(x_train_000, y_train)"
      ],
      "metadata": {
        "id": "9S9UsOBUvpS-"
      },
      "execution_count": null,
      "outputs": []
    },
    {
      "cell_type": "code",
      "source": [
        "y_pred = rf2.predict(x_test_000) # change to x_test_0\n",
        "from sklearn.metrics import accuracy_score\n",
        "accuracy = accuracy_score(y_test, y_pred)\n",
        "print(\"Accuracy:\", accuracy)"
      ],
      "metadata": {
        "id": "au5bF8aAv7R2"
      },
      "execution_count": null,
      "outputs": []
    },
    {
      "cell_type": "code",
      "source": [
        "# Save the final dataset with the 23 features\n",
        "x_train_new = pd.DataFrame(x_train_000)\n",
        "x_train_new.columns= new_features\n",
        "y_train_new = pd.DataFrame(y_train)\n",
        "train_frame = [x_train_new,y_train_new]\n",
        "train_final = pd.concat(train_frame,axis=1)\n",
        "train_final.to_csv('/content/drive/MyDrive/ITU_Competition_Intrusion_and_Vulnerability_Detection_in_Software_Defined_Networks(SDN)/train_data.csv',index = False)"
      ],
      "metadata": {
        "id": "uxBlDfur0RjH"
      },
      "execution_count": 38,
      "outputs": []
    },
    {
      "cell_type": "code",
      "source": [
        "# Save test data set as well\n",
        "x_test_new = pd.DataFrame(x_test_000)\n",
        "x_test_new.columns= new_features\n",
        "y_test_new = pd.DataFrame(y_test)\n",
        "test_frame = [x_test_new,y_test_new]\n",
        "test_final = pd.concat(test_frame,axis=1)\n",
        "test_final.to_csv('/content/drive/MyDrive/ITU_Competition_Intrusion_and_Vulnerability_Detection_in_Software_Defined_Networks(SDN)/test_data.csv',index = False)"
      ],
      "metadata": {
        "id": "vSatLc3z08to"
      },
      "execution_count": 39,
      "outputs": []
    }
  ],
  "metadata": {
    "colab": {
      "provenance": [],
      "collapsed_sections": [
        "kxU7lTWYUhq9"
      ]
    },
    "kernelspec": {
      "display_name": "Python 3",
      "name": "python3"
    },
    "language_info": {
      "name": "python"
    }
  },
  "nbformat": 4,
  "nbformat_minor": 0
}