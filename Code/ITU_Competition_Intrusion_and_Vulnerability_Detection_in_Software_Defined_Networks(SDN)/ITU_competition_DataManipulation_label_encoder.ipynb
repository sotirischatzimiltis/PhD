{
  "cells": [
    {
      "cell_type": "code",
      "source": [
        "# mount drive\n",
        "from google.colab import drive\n",
        "drive.mount('/content/drive')"
      ],
      "metadata": {
        "colab": {
          "base_uri": "https://localhost:8080/"
        },
        "id": "fdfYsZrWOcmb",
        "outputId": "5103cf4b-8b12-413d-f8ba-9ba42db63056"
      },
      "execution_count": 5,
      "outputs": [
        {
          "output_type": "stream",
          "name": "stdout",
          "text": [
            "Drive already mounted at /content/drive; to attempt to forcibly remount, call drive.mount(\"/content/drive\", force_remount=True).\n"
          ]
        }
      ]
    },
    {
      "cell_type": "code",
      "execution_count": 6,
      "metadata": {
        "id": "nYsSmUzvKufB"
      },
      "outputs": [],
      "source": [
        "import numpy as np\n",
        "import pandas as pd\n",
        "import seaborn as sns\n",
        "import matplotlib.pyplot as plt\n",
        "from sklearn import preprocessing\n",
        "from sklearn.preprocessing import OneHotEncoder, LabelEncoder\n",
        "from sklearn.feature_selection import RFE"
      ]
    },
    {
      "cell_type": "code",
      "source": [
        "def save_dataframe(x_train,y_train,x_test,y_test,features,name):\n",
        "    # Save the final dataset with the 23 features\n",
        "    X_train = pd.DataFrame(x_train)\n",
        "    X_train.columns= features\n",
        "    Y_train = pd.DataFrame(y_train)\n",
        "    train_frame = [X_train,Y_train]\n",
        "    train_final = pd.concat(train_frame,axis=1)\n",
        "    train_final.to_csv('/content/drive/MyDrive/ITU_Competition_Intrusion_and_Vulnerability_Detection_in_Software_Defined_Networks(SDN)/train_data_' + name +'.csv',index = False)\n",
        "    print(\"Train dataset Saved\")\n",
        "\n",
        "    # Save test data set as well\n",
        "    X_test = pd.DataFrame(x_test)\n",
        "    X_test.columns= features\n",
        "    Y_test = pd.DataFrame(y_test)\n",
        "    test_frame = [X_test,Y_test]\n",
        "    test_final = pd.concat(test_frame,axis=1)\n",
        "    test_final.to_csv('/content/drive/MyDrive/ITU_Competition_Intrusion_and_Vulnerability_Detection_in_Software_Defined_Networks(SDN)/test_data_'+ name+'.csv',index = False)\n",
        "    print(\"Test dataset Saved\")"
      ],
      "metadata": {
        "id": "s0_WIFCpj36k"
      },
      "execution_count": 7,
      "outputs": []
    },
    {
      "cell_type": "markdown",
      "source": [
        "# Read Files and Basic Pre-processing"
      ],
      "metadata": {
        "id": "GlE35J9ATy_W"
      }
    },
    {
      "cell_type": "code",
      "execution_count": 8,
      "metadata": {
        "colab": {
          "base_uri": "https://localhost:8080/"
        },
        "id": "yMDOqmA6LkZP",
        "outputId": "4941d6a7-afd7-41f1-f552-558c8eb26edd"
      },
      "outputs": [
        {
          "output_type": "stream",
          "name": "stdout",
          "text": [
            "Data loaded successfully!\n",
            "Train Data:\n",
            "   Destination Port  Flow Duration  Total Fwd Packets  Total Backward Packets  \\\n",
            "0                80       68855579                 10                       6   \n",
            "1                53            196                  2                       2   \n",
            "2               123            118                  2                       2   \n",
            "3                80         295657                  7                      10   \n",
            "4                80       15705351                  7                       5   \n",
            "\n",
            "   Total Length of Fwd Packets  Total Length of Bwd Packets  \\\n",
            "0                         1038                        11595   \n",
            "1                           70                          174   \n",
            "2                           96                           96   \n",
            "3                         1114                        15841   \n",
            "4                          407                          452   \n",
            "\n",
            "   Fwd Packet Length Max  Fwd Packet Length Min  Fwd Packet Length Mean  \\\n",
            "0                    346                      0              103.800000   \n",
            "1                     35                     35               35.000000   \n",
            "2                     48                     48               48.000000   \n",
            "3                   1084                      0              159.142857   \n",
            "4                    377                      0               58.142857   \n",
            "\n",
            "   Fwd Packet Length Std  ...  min_seg_size_forward  Active Mean  Active Std  \\\n",
            "0             167.133879  ...                    32        998.0         0.0   \n",
            "1               0.000000  ...                    32          0.0         0.0   \n",
            "2               0.000000  ...                    20          0.0         0.0   \n",
            "3             407.829796  ...                    20          0.0         0.0   \n",
            "4             140.620563  ...                    20     360718.0         0.0   \n",
            "\n",
            "   Active Max  Active Min   Idle Mean  Idle Std  Idle Max  Idle Min     Label  \n",
            "0         998         998  68300000.0       0.0  68300000  68300000  DoS Hulk  \n",
            "1           0           0         0.0       0.0         0         0    BENIGN  \n",
            "2           0           0         0.0       0.0         0         0    BENIGN  \n",
            "3           0           0         0.0       0.0         0         0    BENIGN  \n",
            "4      360718      360718   9767208.0       0.0   9767208   9767208    BENIGN  \n",
            "\n",
            "[5 rows x 79 columns]\n",
            "\n",
            "Test Data:\n",
            "   Destination Port  Flow Duration  Total Fwd Packets  Total Backward Packets  \\\n",
            "0                80            998                  2                       0   \n",
            "1                80       63111103                  7                       0   \n",
            "2                53            202                  2                       2   \n",
            "3                80              3                  2                       0   \n",
            "4              7200             37                  1                       1   \n",
            "\n",
            "   Total Length of Fwd Packets  Total Length of Bwd Packets  \\\n",
            "0                            0                            0   \n",
            "1                            0                            0   \n",
            "2                           98                          130   \n",
            "3                            0                            0   \n",
            "4                            0                            6   \n",
            "\n",
            "   Fwd Packet Length Max  Fwd Packet Length Min  Fwd Packet Length Mean  \\\n",
            "0                      0                      0                     0.0   \n",
            "1                      0                      0                     0.0   \n",
            "2                     49                     49                    49.0   \n",
            "3                      0                      0                     0.0   \n",
            "4                      0                      0                     0.0   \n",
            "\n",
            "   Fwd Packet Length Std  ...  min_seg_size_forward  Active Mean  Active Std  \\\n",
            "0                    0.0  ...                    32          0.0         0.0   \n",
            "1                    0.0  ...                    40    7015565.0         0.0   \n",
            "2                    0.0  ...                    20          0.0         0.0   \n",
            "3                    0.0  ...                    32          0.0         0.0   \n",
            "4                    0.0  ...                    40          0.0         0.0   \n",
            "\n",
            "   Active Max  Active Min   Idle Mean    Idle Std  Idle Max  Idle Min  \\\n",
            "0           0           0         0.0         0.0         0         0   \n",
            "1     7015565     7015565  18700000.0  12200000.0  32100000   8015910   \n",
            "2           0           0         0.0         0.0         0         0   \n",
            "3           0           0         0.0         0.0         0         0   \n",
            "4           0           0         0.0         0.0         0         0   \n",
            "\n",
            "              Label  \n",
            "0          DoS Hulk  \n",
            "1  DoS Slowhttptest  \n",
            "2            BENIGN  \n",
            "3          DoS Hulk  \n",
            "4          PortScan  \n",
            "\n",
            "[5 rows x 79 columns]\n"
          ]
        }
      ],
      "source": [
        "train_file_path = '/content/drive/MyDrive/ITU_Competition_Intrusion_and_Vulnerability_Detection_in_Software_Defined_Networks(SDN)/Train_ULAK.csv'\n",
        "test_file_path = '/content/drive/MyDrive/ITU_Competition_Intrusion_and_Vulnerability_Detection_in_Software_Defined_Networks(SDN)/Test_ULAK.csv'\n",
        "\n",
        "train_df = pd.read_csv(train_file_path,skipinitialspace=True)\n",
        "test_df = pd.read_csv(test_file_path,skipinitialspace=True)\n",
        "\n",
        "if train_df is not None and test_df is not None:\n",
        "    print(\"Data loaded successfully!\")\n",
        "    print(\"Train Data:\")\n",
        "    print(train_df.head())  # Display the first few rows of the train DataFrame\n",
        "    print(\"\\nTest Data:\")\n",
        "    print(test_df.head())   # Display the first few rows of the test DataFrame"
      ]
    },
    {
      "cell_type": "code",
      "source": [
        "# Print the sizes of train and test dataframes\n",
        "print(\"Shape of Training Dataset:\", train_df.shape)\n",
        "print(\"Shape of Testing Dataset:\", test_df.shape)"
      ],
      "metadata": {
        "colab": {
          "base_uri": "https://localhost:8080/"
        },
        "id": "jqEDE7YxAPJO",
        "outputId": "4f420d37-75c2-4b7c-d2f2-e3226c1fd4d0"
      },
      "execution_count": 9,
      "outputs": [
        {
          "output_type": "stream",
          "name": "stdout",
          "text": [
            "Shape of Training Dataset: (1783356, 79)\n",
            "Shape of Testing Dataset: (512077, 79)\n"
          ]
        }
      ]
    },
    {
      "cell_type": "code",
      "source": [
        "#train_df.info()\n",
        "#test_df.info()"
      ],
      "metadata": {
        "id": "TEK46OlpQpKE"
      },
      "execution_count": 10,
      "outputs": []
    },
    {
      "cell_type": "code",
      "execution_count": 11,
      "metadata": {
        "id": "fG5m5uB8T9jH"
      },
      "outputs": [],
      "source": [
        "# Summary statistics of the dataset\n",
        "#train_df.describe()"
      ]
    },
    {
      "cell_type": "code",
      "source": [
        "# number of each label type train df\n",
        "train_df['Label'].value_counts()"
      ],
      "metadata": {
        "colab": {
          "base_uri": "https://localhost:8080/"
        },
        "id": "0DMNvhmYWOLw",
        "outputId": "31d22048-fc5a-45f6-b480-a96cff052c6d"
      },
      "execution_count": 12,
      "outputs": [
        {
          "output_type": "execute_result",
          "data": {
            "text/plain": [
              "BENIGN                        1432050\n",
              "DoS Hulk                       145575\n",
              "PortScan                       100125\n",
              "DDoS                            80656\n",
              "DoS GoldenEye                    6484\n",
              "FTP-Patator                      5000\n",
              "SSH-Patator                      3714\n",
              "DoS slowloris                    3651\n",
              "DoS Slowhttptest                 3464\n",
              "Bot                              1238\n",
              "Web Attack � Brute Force          949\n",
              "Web Attack � XSS                  410\n",
              "Infiltration                       22\n",
              "Web Attack � Sql Injection         12\n",
              "Heartbleed                          6\n",
              "Name: Label, dtype: int64"
            ]
          },
          "metadata": {},
          "execution_count": 12
        }
      ]
    },
    {
      "cell_type": "code",
      "source": [
        "# number of each label type test df\n",
        "test_df['Label'].value_counts()"
      ],
      "metadata": {
        "colab": {
          "base_uri": "https://localhost:8080/"
        },
        "id": "GPGBmJJscib7",
        "outputId": "19927be9-8212-4d7c-bddf-7da24c8e8da0"
      },
      "execution_count": 13,
      "outputs": [
        {
          "output_type": "execute_result",
          "data": {
            "text/plain": [
              "BENIGN                        411203\n",
              "DoS Hulk                       41801\n",
              "PortScan                       28751\n",
              "DDoS                           23160\n",
              "DoS GoldenEye                   1861\n",
              "FTP-Patator                     1436\n",
              "SSH-Patator                     1067\n",
              "DoS slowloris                   1048\n",
              "DoS Slowhttptest                 994\n",
              "Bot                              355\n",
              "Web Attack � Brute Force         272\n",
              "Web Attack � XSS                 117\n",
              "Infiltration                       6\n",
              "Web Attack � Sql Injection         4\n",
              "Heartbleed                         2\n",
              "Name: Label, dtype: int64"
            ]
          },
          "metadata": {},
          "execution_count": 13
        }
      ]
    },
    {
      "cell_type": "markdown",
      "source": [
        "# Pre-processing of Data"
      ],
      "metadata": {
        "id": "Z3PyXfylTv_u"
      }
    },
    {
      "cell_type": "markdown",
      "source": [
        "Label-Encoding to Replace Categorical Values with Numerical"
      ],
      "metadata": {
        "id": "AodBpkY-c_v1"
      }
    },
    {
      "cell_type": "code",
      "source": [
        "labels = train_df['Label'].values.reshape(-1, 1)\n",
        "# Initialize the Label Encoder\n",
        "encoder = LabelEncoder()\n",
        "# transform fit labels of train and test daframe\n",
        "train_labels = encoder.fit_transform(labels.reshape(-1,))\n",
        "test_labels = encoder.transform(test_df['Label'].values.reshape(-1,))\n",
        "label_order_classes = encoder.classes_\n",
        "train_df['Label'] = train_labels\n",
        "test_df['Label'] = test_labels"
      ],
      "metadata": {
        "id": "dSDKNFyLdEjy"
      },
      "execution_count": 14,
      "outputs": []
    },
    {
      "cell_type": "code",
      "source": [
        "print(train_df['Label'].unique())"
      ],
      "metadata": {
        "id": "e6Qx_Dtf4Ep-",
        "outputId": "9f2b8203-5146-4370-e3dd-8282b5b6b271",
        "colab": {
          "base_uri": "https://localhost:8080/"
        }
      },
      "execution_count": 15,
      "outputs": [
        {
          "output_type": "stream",
          "name": "stdout",
          "text": [
            "[ 4  0  2 10  3  7  6  5 11 14 12 13  1  9  8]\n"
          ]
        }
      ]
    },
    {
      "cell_type": "markdown",
      "source": [
        "Drop Records Containing Infitiy Values, are Null and Nan Values"
      ],
      "metadata": {
        "id": "PBjkYAVjJtjz"
      }
    },
    {
      "cell_type": "code",
      "source": [
        "# Replace infinite number with NaN values\n",
        "train_df.replace([np.inf, -np.inf], np.nan, inplace=True)\n",
        "test_df.replace([np.inf, -np.inf], np.nan, inplace=True)\n",
        "# Drop null and NaN values\n",
        "print(\"Records deleted in training dataset:\", train_df.isnull().sum().sum())\n",
        "print(\"Records deleted in test dataset:\", test_df.isnull().sum().sum())\n",
        "\n",
        "train_df = train_df.dropna().reset_index(drop=True)\n",
        "test_df = test_df.dropna().reset_index(drop=True)"
      ],
      "metadata": {
        "colab": {
          "base_uri": "https://localhost:8080/"
        },
        "id": "PPp3i9cyIBIK",
        "outputId": "91590869-ba8f-4510-9141-e4cdf3470f32"
      },
      "execution_count": 16,
      "outputs": [
        {
          "output_type": "stream",
          "name": "stdout",
          "text": [
            "Records deleted in training dataset: 3622\n",
            "Records deleted in test dataset: 1074\n"
          ]
        }
      ]
    },
    {
      "cell_type": "code",
      "source": [
        "# Print the new sizes of train and test dataframes\n",
        "print(\"Shape of Training Dataset:\", train_df.shape)\n",
        "print(\"Shape of Testing Dataset:\", test_df.shape)"
      ],
      "metadata": {
        "colab": {
          "base_uri": "https://localhost:8080/"
        },
        "id": "Micsfg2BIomi",
        "outputId": "11b9bedd-df58-408d-bbe6-14fa15a440b7"
      },
      "execution_count": 17,
      "outputs": [
        {
          "output_type": "stream",
          "name": "stdout",
          "text": [
            "Shape of Training Dataset: (1781545, 79)\n",
            "Shape of Testing Dataset: (511540, 79)\n"
          ]
        }
      ]
    },
    {
      "cell_type": "markdown",
      "source": [
        "Split Data"
      ],
      "metadata": {
        "id": "boYFWhCWKbR2"
      }
    },
    {
      "cell_type": "code",
      "source": [
        "X_train = train_df.drop(train_df.columns[-1], axis=1)\n",
        "y_train = train_df[train_df.columns[-1]]\n",
        "\n",
        "X_test = test_df.drop(test_df.columns[-1], axis=1)\n",
        "y_test = test_df[test_df.columns[-1]]"
      ],
      "metadata": {
        "id": "MuLtIOuiKaYd"
      },
      "execution_count": 18,
      "outputs": []
    },
    {
      "cell_type": "code",
      "source": [
        "features = X_train.columns\n",
        "print(features)"
      ],
      "metadata": {
        "colab": {
          "base_uri": "https://localhost:8080/"
        },
        "id": "AS2tepRWlJzO",
        "outputId": "403add58-9ce3-4c2f-80a4-327bc96da1f9"
      },
      "execution_count": 19,
      "outputs": [
        {
          "output_type": "stream",
          "name": "stdout",
          "text": [
            "Index(['Destination Port', 'Flow Duration', 'Total Fwd Packets',\n",
            "       'Total Backward Packets', 'Total Length of Fwd Packets',\n",
            "       'Total Length of Bwd Packets', 'Fwd Packet Length Max',\n",
            "       'Fwd Packet Length Min', 'Fwd Packet Length Mean',\n",
            "       'Fwd Packet Length Std', 'Bwd Packet Length Max',\n",
            "       'Bwd Packet Length Min', 'Bwd Packet Length Mean',\n",
            "       'Bwd Packet Length Std', 'Flow Bytes/s', 'Flow Packets/s',\n",
            "       'Flow IAT Mean', 'Flow IAT Std', 'Flow IAT Max', 'Flow IAT Min',\n",
            "       'Fwd IAT Total', 'Fwd IAT Mean', 'Fwd IAT Std', 'Fwd IAT Max',\n",
            "       'Fwd IAT Min', 'Bwd IAT Total', 'Bwd IAT Mean', 'Bwd IAT Std',\n",
            "       'Bwd IAT Max', 'Bwd IAT Min', 'Fwd PSH Flags', 'Bwd PSH Flags',\n",
            "       'Fwd URG Flags', 'Bwd URG Flags', 'Fwd Header Length',\n",
            "       'Bwd Header Length', 'Fwd Packets/s', 'Bwd Packets/s',\n",
            "       'Min Packet Length', 'Max Packet Length', 'Packet Length Mean',\n",
            "       'Packet Length Std', 'Packet Length Variance', 'FIN Flag Count',\n",
            "       'SYN Flag Count', 'RST Flag Count', 'PSH Flag Count', 'ACK Flag Count',\n",
            "       'URG Flag Count', 'CWE Flag Count', 'ECE Flag Count', 'Down/Up Ratio',\n",
            "       'Average Packet Size', 'Avg Fwd Segment Size', 'Avg Bwd Segment Size',\n",
            "       'Fwd Header Length.1', 'Fwd Avg Bytes/Bulk', 'Fwd Avg Packets/Bulk',\n",
            "       'Fwd Avg Bulk Rate', 'Bwd Avg Bytes/Bulk', 'Bwd Avg Packets/Bulk',\n",
            "       'Bwd Avg Bulk Rate', 'Subflow Fwd Packets', 'Subflow Fwd Bytes',\n",
            "       'Subflow Bwd Packets', 'Subflow Bwd Bytes', 'Init_Win_bytes_forward',\n",
            "       'Init_Win_bytes_backward', 'act_data_pkt_fwd', 'min_seg_size_forward',\n",
            "       'Active Mean', 'Active Std', 'Active Max', 'Active Min', 'Idle Mean',\n",
            "       'Idle Std', 'Idle Max', 'Idle Min'],\n",
            "      dtype='object')\n"
          ]
        }
      ]
    },
    {
      "cell_type": "code",
      "source": [
        "print(X_train.shape)\n",
        "print(y_train.shape)\n",
        "print(X_test.shape)\n",
        "print(y_test.shape)"
      ],
      "metadata": {
        "id": "SUNW6bf5QJjK",
        "outputId": "99a98eb0-1d94-4d6c-976a-f9f9f7787369",
        "colab": {
          "base_uri": "https://localhost:8080/"
        }
      },
      "execution_count": 20,
      "outputs": [
        {
          "output_type": "stream",
          "name": "stdout",
          "text": [
            "(1781545, 78)\n",
            "(1781545,)\n",
            "(511540, 78)\n",
            "(511540,)\n"
          ]
        }
      ]
    },
    {
      "cell_type": "code",
      "source": [
        "# Delete dafarames to empty memory\n",
        "del train_df, test_df"
      ],
      "metadata": {
        "id": "eMnyEV_zNwM5"
      },
      "execution_count": 21,
      "outputs": []
    },
    {
      "cell_type": "markdown",
      "source": [
        "Scale Data using Standard Scaler"
      ],
      "metadata": {
        "id": "ikcYGsHOJz4b"
      }
    },
    {
      "cell_type": "code",
      "source": [
        "scaler = preprocessing.StandardScaler()\n",
        "scaler.fit(X_train)\n",
        "x_train = scaler.transform(X_train)\n",
        "x_test = scaler.transform(X_test)"
      ],
      "metadata": {
        "id": "K1JlrrNYJ1Mr"
      },
      "execution_count": 22,
      "outputs": []
    },
    {
      "cell_type": "markdown",
      "source": [
        "Save the initial dataset with all the features"
      ],
      "metadata": {
        "id": "CrII7GUijqbV"
      }
    },
    {
      "cell_type": "code",
      "source": [
        "save_dataframe(x_train,y_train,x_test,y_test,features,name='all_features')"
      ],
      "metadata": {
        "colab": {
          "base_uri": "https://localhost:8080/"
        },
        "id": "JaONIsmLjvgL",
        "outputId": "e89db2ce-a718-4d3f-a9cd-899244dda66e"
      },
      "execution_count": 23,
      "outputs": [
        {
          "output_type": "stream",
          "name": "stdout",
          "text": [
            "Train dataset Saved\n",
            "Test dataset Saved\n"
          ]
        }
      ]
    },
    {
      "cell_type": "markdown",
      "source": [
        "Random Forest for Feature Importance"
      ],
      "metadata": {
        "id": "BSiBrrhXUcLO"
      }
    },
    {
      "cell_type": "code",
      "source": [
        "from sklearn.ensemble import RandomForestClassifier\n",
        "rf = RandomForestClassifier(n_estimators=20, max_depth=None,\n",
        "                                 bootstrap=False, n_jobs=-1,\n",
        "                                 random_state=0,verbose=2)\n",
        "rf.fit(x_train, y_train)"
      ],
      "metadata": {
        "colab": {
          "base_uri": "https://localhost:8080/",
          "height": 474
        },
        "id": "NoyGQA1rOK16",
        "outputId": "0055eda8-3fd9-4094-ebb5-256b22c26983"
      },
      "execution_count": 24,
      "outputs": [
        {
          "output_type": "stream",
          "name": "stderr",
          "text": [
            "[Parallel(n_jobs=-1)]: Using backend ThreadingBackend with 2 concurrent workers.\n"
          ]
        },
        {
          "output_type": "stream",
          "name": "stdout",
          "text": [
            "building tree 1 of 20building tree 2 of 20\n",
            "\n",
            "building tree 3 of 20\n",
            "building tree 4 of 20\n",
            "building tree 5 of 20\n",
            "building tree 6 of 20\n",
            "building tree 7 of 20\n",
            "building tree 8 of 20\n",
            "building tree 9 of 20\n",
            "building tree 10 of 20\n",
            "building tree 11 of 20\n",
            "building tree 12 of 20\n",
            "building tree 13 of 20\n",
            "building tree 14 of 20\n",
            "building tree 15 of 20\n",
            "building tree 16 of 20\n",
            "building tree 17 of 20\n",
            "building tree 18 of 20\n",
            "building tree 19 of 20\n",
            "building tree 20 of 20\n"
          ]
        },
        {
          "output_type": "stream",
          "name": "stderr",
          "text": [
            "[Parallel(n_jobs=-1)]: Done  20 out of  20 | elapsed:  4.5min finished\n"
          ]
        },
        {
          "output_type": "execute_result",
          "data": {
            "text/plain": [
              "RandomForestClassifier(bootstrap=False, n_estimators=20, n_jobs=-1,\n",
              "                       random_state=0, verbose=2)"
            ],
            "text/html": [
              "<style>#sk-container-id-1 {color: black;background-color: white;}#sk-container-id-1 pre{padding: 0;}#sk-container-id-1 div.sk-toggleable {background-color: white;}#sk-container-id-1 label.sk-toggleable__label {cursor: pointer;display: block;width: 100%;margin-bottom: 0;padding: 0.3em;box-sizing: border-box;text-align: center;}#sk-container-id-1 label.sk-toggleable__label-arrow:before {content: \"▸\";float: left;margin-right: 0.25em;color: #696969;}#sk-container-id-1 label.sk-toggleable__label-arrow:hover:before {color: black;}#sk-container-id-1 div.sk-estimator:hover label.sk-toggleable__label-arrow:before {color: black;}#sk-container-id-1 div.sk-toggleable__content {max-height: 0;max-width: 0;overflow: hidden;text-align: left;background-color: #f0f8ff;}#sk-container-id-1 div.sk-toggleable__content pre {margin: 0.2em;color: black;border-radius: 0.25em;background-color: #f0f8ff;}#sk-container-id-1 input.sk-toggleable__control:checked~div.sk-toggleable__content {max-height: 200px;max-width: 100%;overflow: auto;}#sk-container-id-1 input.sk-toggleable__control:checked~label.sk-toggleable__label-arrow:before {content: \"▾\";}#sk-container-id-1 div.sk-estimator input.sk-toggleable__control:checked~label.sk-toggleable__label {background-color: #d4ebff;}#sk-container-id-1 div.sk-label input.sk-toggleable__control:checked~label.sk-toggleable__label {background-color: #d4ebff;}#sk-container-id-1 input.sk-hidden--visually {border: 0;clip: rect(1px 1px 1px 1px);clip: rect(1px, 1px, 1px, 1px);height: 1px;margin: -1px;overflow: hidden;padding: 0;position: absolute;width: 1px;}#sk-container-id-1 div.sk-estimator {font-family: monospace;background-color: #f0f8ff;border: 1px dotted black;border-radius: 0.25em;box-sizing: border-box;margin-bottom: 0.5em;}#sk-container-id-1 div.sk-estimator:hover {background-color: #d4ebff;}#sk-container-id-1 div.sk-parallel-item::after {content: \"\";width: 100%;border-bottom: 1px solid gray;flex-grow: 1;}#sk-container-id-1 div.sk-label:hover label.sk-toggleable__label {background-color: #d4ebff;}#sk-container-id-1 div.sk-serial::before {content: \"\";position: absolute;border-left: 1px solid gray;box-sizing: border-box;top: 0;bottom: 0;left: 50%;z-index: 0;}#sk-container-id-1 div.sk-serial {display: flex;flex-direction: column;align-items: center;background-color: white;padding-right: 0.2em;padding-left: 0.2em;position: relative;}#sk-container-id-1 div.sk-item {position: relative;z-index: 1;}#sk-container-id-1 div.sk-parallel {display: flex;align-items: stretch;justify-content: center;background-color: white;position: relative;}#sk-container-id-1 div.sk-item::before, #sk-container-id-1 div.sk-parallel-item::before {content: \"\";position: absolute;border-left: 1px solid gray;box-sizing: border-box;top: 0;bottom: 0;left: 50%;z-index: -1;}#sk-container-id-1 div.sk-parallel-item {display: flex;flex-direction: column;z-index: 1;position: relative;background-color: white;}#sk-container-id-1 div.sk-parallel-item:first-child::after {align-self: flex-end;width: 50%;}#sk-container-id-1 div.sk-parallel-item:last-child::after {align-self: flex-start;width: 50%;}#sk-container-id-1 div.sk-parallel-item:only-child::after {width: 0;}#sk-container-id-1 div.sk-dashed-wrapped {border: 1px dashed gray;margin: 0 0.4em 0.5em 0.4em;box-sizing: border-box;padding-bottom: 0.4em;background-color: white;}#sk-container-id-1 div.sk-label label {font-family: monospace;font-weight: bold;display: inline-block;line-height: 1.2em;}#sk-container-id-1 div.sk-label-container {text-align: center;}#sk-container-id-1 div.sk-container {/* jupyter's `normalize.less` sets `[hidden] { display: none; }` but bootstrap.min.css set `[hidden] { display: none !important; }` so we also need the `!important` here to be able to override the default hidden behavior on the sphinx rendered scikit-learn.org. See: https://github.com/scikit-learn/scikit-learn/issues/21755 */display: inline-block !important;position: relative;}#sk-container-id-1 div.sk-text-repr-fallback {display: none;}</style><div id=\"sk-container-id-1\" class=\"sk-top-container\"><div class=\"sk-text-repr-fallback\"><pre>RandomForestClassifier(bootstrap=False, n_estimators=20, n_jobs=-1,\n",
              "                       random_state=0, verbose=2)</pre><b>In a Jupyter environment, please rerun this cell to show the HTML representation or trust the notebook. <br />On GitHub, the HTML representation is unable to render, please try loading this page with nbviewer.org.</b></div><div class=\"sk-container\" hidden><div class=\"sk-item\"><div class=\"sk-estimator sk-toggleable\"><input class=\"sk-toggleable__control sk-hidden--visually\" id=\"sk-estimator-id-1\" type=\"checkbox\" checked><label for=\"sk-estimator-id-1\" class=\"sk-toggleable__label sk-toggleable__label-arrow\">RandomForestClassifier</label><div class=\"sk-toggleable__content\"><pre>RandomForestClassifier(bootstrap=False, n_estimators=20, n_jobs=-1,\n",
              "                       random_state=0, verbose=2)</pre></div></div></div></div></div>"
            ]
          },
          "metadata": {},
          "execution_count": 24
        }
      ]
    },
    {
      "cell_type": "markdown",
      "source": [
        "Test accuracy to find the base performance with all features"
      ],
      "metadata": {
        "id": "UD9Tgy7_Vx_M"
      }
    },
    {
      "cell_type": "code",
      "source": [
        "y_pred = rf.predict(x_test)\n",
        "from sklearn.metrics import accuracy_score\n",
        "accuracy = accuracy_score(y_test, y_pred)\n",
        "print(\"Accuracy:\", accuracy)"
      ],
      "metadata": {
        "colab": {
          "base_uri": "https://localhost:8080/"
        },
        "id": "WiC9gojrUr8L",
        "outputId": "fbfb8648-ea19-4246-8029-59aa6eabb013"
      },
      "execution_count": 25,
      "outputs": [
        {
          "output_type": "stream",
          "name": "stderr",
          "text": [
            "[Parallel(n_jobs=2)]: Using backend ThreadingBackend with 2 concurrent workers.\n"
          ]
        },
        {
          "output_type": "stream",
          "name": "stdout",
          "text": [
            "Accuracy: 0.9986824099777144\n"
          ]
        },
        {
          "output_type": "stream",
          "name": "stderr",
          "text": [
            "[Parallel(n_jobs=2)]: Done  20 out of  20 | elapsed:    2.4s finished\n"
          ]
        }
      ]
    },
    {
      "cell_type": "markdown",
      "source": [
        "Find out what features contribute the most"
      ],
      "metadata": {
        "id": "WEGV7Ab4V5A-"
      }
    },
    {
      "cell_type": "code",
      "source": [
        "feature_imp = pd.Series(rf.feature_importances_,\n",
        "                        index=X_train.columns).sort_values(ascending=False)"
      ],
      "metadata": {
        "id": "19HlOHxPU3aN"
      },
      "execution_count": 26,
      "outputs": []
    },
    {
      "cell_type": "code",
      "source": [
        "for i in range(0,len(feature_imp)):\n",
        "    print(i,end =\" \")\n",
        "    print(feature_imp.index[i],end = \": \")\n",
        "    print(feature_imp[i])"
      ],
      "metadata": {
        "colab": {
          "base_uri": "https://localhost:8080/"
        },
        "id": "xxnw_kmnONRx",
        "outputId": "8dd4acc6-f6fc-49be-d703-37795ff23d48"
      },
      "execution_count": 27,
      "outputs": [
        {
          "output_type": "stream",
          "name": "stdout",
          "text": [
            "0 Packet Length Std: 0.07308699675876518\n",
            "1 Packet Length Variance: 0.0600106012850512\n",
            "2 Bwd Packet Length Mean: 0.05624262169275905\n",
            "3 Total Length of Fwd Packets: 0.052241017442509044\n",
            "4 Destination Port: 0.047620037659482105\n",
            "5 Average Packet Size: 0.038991809925308395\n",
            "6 Subflow Bwd Bytes: 0.03857951366743775\n",
            "7 Total Length of Bwd Packets: 0.03763403762070734\n",
            "8 Max Packet Length: 0.03677800727315327\n",
            "9 Fwd IAT Std: 0.033922582540323695\n",
            "10 Packet Length Mean: 0.03068786381648504\n",
            "11 Avg Bwd Segment Size: 0.02846005719777543\n",
            "12 Avg Fwd Segment Size: 0.026486193192670194\n",
            "13 Bwd Packet Length Std: 0.022550677600253755\n",
            "14 Bwd Packet Length Min: 0.020794965729979416\n",
            "15 Bwd Packets/s: 0.019982476829569717\n",
            "16 Idle Max: 0.019210811090958013\n",
            "17 Init_Win_bytes_forward: 0.017432342107491196\n",
            "18 Fwd Header Length.1: 0.01713093882319454\n",
            "19 Bwd Packet Length Max: 0.017045495126466637\n",
            "20 ACK Flag Count: 0.01655715012066586\n",
            "21 Init_Win_bytes_backward: 0.016289245084174155\n",
            "22 Fwd Packet Length Max: 0.015939950768027546\n",
            "23 Fwd Header Length: 0.015459693614371776\n",
            "24 Flow IAT Max: 0.014915062216614632\n",
            "25 Fwd IAT Max: 0.014646535496514687\n",
            "26 Bwd Header Length: 0.01350398330645837\n",
            "27 Subflow Fwd Bytes: 0.012951873209023487\n",
            "28 Total Fwd Packets: 0.012947497019977466\n",
            "29 min_seg_size_forward: 0.011715917526797421\n",
            "30 PSH Flag Count: 0.010738074129973772\n",
            "31 Flow Duration: 0.00993462939130995\n",
            "32 Idle Mean: 0.009828738499031283\n",
            "33 Fwd Packets/s: 0.009420836723547222\n",
            "34 Fwd Packet Length Mean: 0.009186721189339985\n",
            "35 Fwd IAT Min: 0.008832450121997593\n",
            "36 Fwd Packet Length Std: 0.008762272426969326\n",
            "37 Flow Packets/s: 0.008294962933974163\n",
            "38 Subflow Bwd Packets: 0.00683636969718425\n",
            "39 Flow IAT Mean: 0.0068267960377842276\n",
            "40 act_data_pkt_fwd: 0.00643266927461084\n",
            "41 Fwd IAT Total: 0.005994135496195406\n",
            "42 Subflow Fwd Packets: 0.005777153076133057\n",
            "43 Flow IAT Min: 0.005256490507462792\n",
            "44 Total Backward Packets: 0.004511401313262622\n",
            "45 Bwd IAT Max: 0.004058865329751556\n",
            "46 Fwd IAT Mean: 0.003884220246468717\n",
            "47 Flow IAT Std: 0.00355008645805453\n",
            "48 Down/Up Ratio: 0.0034945515831601376\n",
            "49 Active Min: 0.0034765641177075335\n",
            "50 Min Packet Length: 0.003404400440137529\n",
            "51 Bwd IAT Min: 0.0029717532880273426\n",
            "52 Idle Min: 0.0022711002379097508\n",
            "53 Flow Bytes/s: 0.0022134078433029094\n",
            "54 URG Flag Count: 0.0021380066314472105\n",
            "55 Bwd IAT Total: 0.00211507827755277\n",
            "56 Fwd Packet Length Min: 0.0018741721394683341\n",
            "57 Bwd IAT Mean: 0.0014911475282705293\n",
            "58 Bwd IAT Std: 0.001386401313381223\n",
            "59 FIN Flag Count: 0.00125893148900503\n",
            "60 Active Mean: 0.0009569315098749304\n",
            "61 SYN Flag Count: 0.0009084252819799632\n",
            "62 Active Max: 0.0007097012373183025\n",
            "63 Idle Std: 0.0005497801296736318\n",
            "64 Active Std: 0.0004233203873643729\n",
            "65 Fwd PSH Flags: 0.0003630013766077067\n",
            "66 Fwd URG Flags: 4.544084975579838e-05\n",
            "67 CWE Flag Count: 5.055742037354507e-06\n",
            "68 ECE Flag Count: 0.0\n",
            "69 Bwd PSH Flags: 0.0\n",
            "70 RST Flag Count: 0.0\n",
            "71 Bwd Avg Bulk Rate: 0.0\n",
            "72 Bwd Avg Packets/Bulk: 0.0\n",
            "73 Bwd Avg Bytes/Bulk: 0.0\n",
            "74 Fwd Avg Bulk Rate: 0.0\n",
            "75 Fwd Avg Packets/Bulk: 0.0\n",
            "76 Fwd Avg Bytes/Bulk: 0.0\n",
            "77 Bwd URG Flags: 0.0\n"
          ]
        }
      ]
    },
    {
      "cell_type": "markdown",
      "source": [
        "Remove features that contribute zero"
      ],
      "metadata": {
        "id": "bNSOW08-XOZT"
      }
    },
    {
      "cell_type": "code",
      "source": [
        "new_features = [] # list containing the new features names\n",
        "for i in range(0,len(feature_imp)): # for for the range of all features\n",
        "    if feature_imp[i] > 0.0: # check if importance is over the threshold\n",
        "        new_features.append(feature_imp.index[i])\n",
        "print(new_features)\n",
        "# save the new data frame\n",
        "X_train_0 = X_train[new_features]\n",
        "X_test_0 = X_test[new_features]"
      ],
      "metadata": {
        "colab": {
          "base_uri": "https://localhost:8080/"
        },
        "id": "pjexNeA6XRJk",
        "outputId": "89337202-d165-4953-8e0b-11e03ef4fed5"
      },
      "execution_count": 28,
      "outputs": [
        {
          "output_type": "stream",
          "name": "stdout",
          "text": [
            "['Packet Length Std', 'Packet Length Variance', 'Bwd Packet Length Mean', 'Total Length of Fwd Packets', 'Destination Port', 'Average Packet Size', 'Subflow Bwd Bytes', 'Total Length of Bwd Packets', 'Max Packet Length', 'Fwd IAT Std', 'Packet Length Mean', 'Avg Bwd Segment Size', 'Avg Fwd Segment Size', 'Bwd Packet Length Std', 'Bwd Packet Length Min', 'Bwd Packets/s', 'Idle Max', 'Init_Win_bytes_forward', 'Fwd Header Length.1', 'Bwd Packet Length Max', 'ACK Flag Count', 'Init_Win_bytes_backward', 'Fwd Packet Length Max', 'Fwd Header Length', 'Flow IAT Max', 'Fwd IAT Max', 'Bwd Header Length', 'Subflow Fwd Bytes', 'Total Fwd Packets', 'min_seg_size_forward', 'PSH Flag Count', 'Flow Duration', 'Idle Mean', 'Fwd Packets/s', 'Fwd Packet Length Mean', 'Fwd IAT Min', 'Fwd Packet Length Std', 'Flow Packets/s', 'Subflow Bwd Packets', 'Flow IAT Mean', 'act_data_pkt_fwd', 'Fwd IAT Total', 'Subflow Fwd Packets', 'Flow IAT Min', 'Total Backward Packets', 'Bwd IAT Max', 'Fwd IAT Mean', 'Flow IAT Std', 'Down/Up Ratio', 'Active Min', 'Min Packet Length', 'Bwd IAT Min', 'Idle Min', 'Flow Bytes/s', 'URG Flag Count', 'Bwd IAT Total', 'Fwd Packet Length Min', 'Bwd IAT Mean', 'Bwd IAT Std', 'FIN Flag Count', 'Active Mean', 'SYN Flag Count', 'Active Max', 'Idle Std', 'Active Std', 'Fwd PSH Flags', 'Fwd URG Flags', 'CWE Flag Count']\n"
          ]
        }
      ]
    },
    {
      "cell_type": "code",
      "source": [
        "# Scale and Run again the classification training task\n",
        "scaler.fit(X_train_0)\n",
        "x_train_0 = scaler.transform(X_train_0)\n",
        "x_test_0 = scaler.transform(X_test_0)"
      ],
      "metadata": {
        "id": "iU4WE9htX-1L"
      },
      "execution_count": 29,
      "outputs": []
    },
    {
      "cell_type": "code",
      "source": [
        "rf2 = RandomForestClassifier(n_estimators=20, max_depth=None,\n",
        "                                 bootstrap=False, n_jobs=-1,\n",
        "                                 random_state=0,verbose=2)\n",
        "rf2.fit(x_train_0, y_train)"
      ],
      "metadata": {
        "colab": {
          "base_uri": "https://localhost:8080/",
          "height": 474
        },
        "id": "-_Pvi72qYV5t",
        "outputId": "67384316-af44-438b-c9f1-30908ff570df"
      },
      "execution_count": 30,
      "outputs": [
        {
          "output_type": "stream",
          "name": "stderr",
          "text": [
            "[Parallel(n_jobs=-1)]: Using backend ThreadingBackend with 2 concurrent workers.\n"
          ]
        },
        {
          "output_type": "stream",
          "name": "stdout",
          "text": [
            "building tree 1 of 20building tree 2 of 20\n",
            "\n",
            "building tree 3 of 20\n",
            "building tree 4 of 20\n",
            "building tree 5 of 20\n",
            "building tree 6 of 20\n",
            "building tree 7 of 20\n",
            "building tree 8 of 20\n",
            "building tree 9 of 20\n",
            "building tree 10 of 20\n",
            "building tree 11 of 20\n",
            "building tree 12 of 20\n",
            "building tree 13 of 20\n",
            "building tree 14 of 20\n",
            "building tree 15 of 20\n",
            "building tree 16 of 20\n",
            "building tree 17 of 20\n",
            "building tree 18 of 20\n",
            "building tree 19 of 20\n",
            "building tree 20 of 20\n"
          ]
        },
        {
          "output_type": "stream",
          "name": "stderr",
          "text": [
            "[Parallel(n_jobs=-1)]: Done  20 out of  20 | elapsed:  5.4min finished\n"
          ]
        },
        {
          "output_type": "execute_result",
          "data": {
            "text/plain": [
              "RandomForestClassifier(bootstrap=False, n_estimators=20, n_jobs=-1,\n",
              "                       random_state=0, verbose=2)"
            ],
            "text/html": [
              "<style>#sk-container-id-2 {color: black;background-color: white;}#sk-container-id-2 pre{padding: 0;}#sk-container-id-2 div.sk-toggleable {background-color: white;}#sk-container-id-2 label.sk-toggleable__label {cursor: pointer;display: block;width: 100%;margin-bottom: 0;padding: 0.3em;box-sizing: border-box;text-align: center;}#sk-container-id-2 label.sk-toggleable__label-arrow:before {content: \"▸\";float: left;margin-right: 0.25em;color: #696969;}#sk-container-id-2 label.sk-toggleable__label-arrow:hover:before {color: black;}#sk-container-id-2 div.sk-estimator:hover label.sk-toggleable__label-arrow:before {color: black;}#sk-container-id-2 div.sk-toggleable__content {max-height: 0;max-width: 0;overflow: hidden;text-align: left;background-color: #f0f8ff;}#sk-container-id-2 div.sk-toggleable__content pre {margin: 0.2em;color: black;border-radius: 0.25em;background-color: #f0f8ff;}#sk-container-id-2 input.sk-toggleable__control:checked~div.sk-toggleable__content {max-height: 200px;max-width: 100%;overflow: auto;}#sk-container-id-2 input.sk-toggleable__control:checked~label.sk-toggleable__label-arrow:before {content: \"▾\";}#sk-container-id-2 div.sk-estimator input.sk-toggleable__control:checked~label.sk-toggleable__label {background-color: #d4ebff;}#sk-container-id-2 div.sk-label input.sk-toggleable__control:checked~label.sk-toggleable__label {background-color: #d4ebff;}#sk-container-id-2 input.sk-hidden--visually {border: 0;clip: rect(1px 1px 1px 1px);clip: rect(1px, 1px, 1px, 1px);height: 1px;margin: -1px;overflow: hidden;padding: 0;position: absolute;width: 1px;}#sk-container-id-2 div.sk-estimator {font-family: monospace;background-color: #f0f8ff;border: 1px dotted black;border-radius: 0.25em;box-sizing: border-box;margin-bottom: 0.5em;}#sk-container-id-2 div.sk-estimator:hover {background-color: #d4ebff;}#sk-container-id-2 div.sk-parallel-item::after {content: \"\";width: 100%;border-bottom: 1px solid gray;flex-grow: 1;}#sk-container-id-2 div.sk-label:hover label.sk-toggleable__label {background-color: #d4ebff;}#sk-container-id-2 div.sk-serial::before {content: \"\";position: absolute;border-left: 1px solid gray;box-sizing: border-box;top: 0;bottom: 0;left: 50%;z-index: 0;}#sk-container-id-2 div.sk-serial {display: flex;flex-direction: column;align-items: center;background-color: white;padding-right: 0.2em;padding-left: 0.2em;position: relative;}#sk-container-id-2 div.sk-item {position: relative;z-index: 1;}#sk-container-id-2 div.sk-parallel {display: flex;align-items: stretch;justify-content: center;background-color: white;position: relative;}#sk-container-id-2 div.sk-item::before, #sk-container-id-2 div.sk-parallel-item::before {content: \"\";position: absolute;border-left: 1px solid gray;box-sizing: border-box;top: 0;bottom: 0;left: 50%;z-index: -1;}#sk-container-id-2 div.sk-parallel-item {display: flex;flex-direction: column;z-index: 1;position: relative;background-color: white;}#sk-container-id-2 div.sk-parallel-item:first-child::after {align-self: flex-end;width: 50%;}#sk-container-id-2 div.sk-parallel-item:last-child::after {align-self: flex-start;width: 50%;}#sk-container-id-2 div.sk-parallel-item:only-child::after {width: 0;}#sk-container-id-2 div.sk-dashed-wrapped {border: 1px dashed gray;margin: 0 0.4em 0.5em 0.4em;box-sizing: border-box;padding-bottom: 0.4em;background-color: white;}#sk-container-id-2 div.sk-label label {font-family: monospace;font-weight: bold;display: inline-block;line-height: 1.2em;}#sk-container-id-2 div.sk-label-container {text-align: center;}#sk-container-id-2 div.sk-container {/* jupyter's `normalize.less` sets `[hidden] { display: none; }` but bootstrap.min.css set `[hidden] { display: none !important; }` so we also need the `!important` here to be able to override the default hidden behavior on the sphinx rendered scikit-learn.org. See: https://github.com/scikit-learn/scikit-learn/issues/21755 */display: inline-block !important;position: relative;}#sk-container-id-2 div.sk-text-repr-fallback {display: none;}</style><div id=\"sk-container-id-2\" class=\"sk-top-container\"><div class=\"sk-text-repr-fallback\"><pre>RandomForestClassifier(bootstrap=False, n_estimators=20, n_jobs=-1,\n",
              "                       random_state=0, verbose=2)</pre><b>In a Jupyter environment, please rerun this cell to show the HTML representation or trust the notebook. <br />On GitHub, the HTML representation is unable to render, please try loading this page with nbviewer.org.</b></div><div class=\"sk-container\" hidden><div class=\"sk-item\"><div class=\"sk-estimator sk-toggleable\"><input class=\"sk-toggleable__control sk-hidden--visually\" id=\"sk-estimator-id-2\" type=\"checkbox\" checked><label for=\"sk-estimator-id-2\" class=\"sk-toggleable__label sk-toggleable__label-arrow\">RandomForestClassifier</label><div class=\"sk-toggleable__content\"><pre>RandomForestClassifier(bootstrap=False, n_estimators=20, n_jobs=-1,\n",
              "                       random_state=0, verbose=2)</pre></div></div></div></div></div>"
            ]
          },
          "metadata": {},
          "execution_count": 30
        }
      ]
    },
    {
      "cell_type": "code",
      "source": [
        "y_pred = rf2.predict(x_test_0) # change to x_test_0\n",
        "from sklearn.metrics import accuracy_score\n",
        "accuracy = accuracy_score(y_test, y_pred)\n",
        "print(\"Accuracy:\", accuracy)"
      ],
      "metadata": {
        "colab": {
          "base_uri": "https://localhost:8080/"
        },
        "id": "X3BE2IwRYX-N",
        "outputId": "acb3051f-5cdb-49a4-c37d-2df2629077fa"
      },
      "execution_count": 31,
      "outputs": [
        {
          "output_type": "stream",
          "name": "stderr",
          "text": [
            "[Parallel(n_jobs=2)]: Using backend ThreadingBackend with 2 concurrent workers.\n"
          ]
        },
        {
          "output_type": "stream",
          "name": "stdout",
          "text": [
            "Accuracy: 0.9985807561481018\n"
          ]
        },
        {
          "output_type": "stream",
          "name": "stderr",
          "text": [
            "[Parallel(n_jobs=2)]: Done  20 out of  20 | elapsed:    3.3s finished\n"
          ]
        }
      ]
    },
    {
      "cell_type": "code",
      "source": [
        "# see from this featues the contributions\n",
        "feature_imp0 = pd.Series(rf2.feature_importances_,\n",
        "                        index=X_train_0.columns).sort_values(ascending=False)"
      ],
      "metadata": {
        "id": "-rzLfZD5cK_B"
      },
      "execution_count": 32,
      "outputs": []
    },
    {
      "cell_type": "code",
      "source": [
        "for i in range(0,len(feature_imp0)):\n",
        "    print(i,end =\" \")\n",
        "    print(feature_imp0.index[i],end = \": \")\n",
        "    print(feature_imp0[i])"
      ],
      "metadata": {
        "colab": {
          "base_uri": "https://localhost:8080/"
        },
        "id": "WJtPzXdMcqBx",
        "outputId": "0fde87e2-328f-47f5-8a18-f508753d9f7a"
      },
      "execution_count": 33,
      "outputs": [
        {
          "output_type": "stream",
          "name": "stdout",
          "text": [
            "0 Packet Length Std: 0.06257237630440414\n",
            "1 Average Packet Size: 0.057478800672579024\n",
            "2 Subflow Fwd Bytes: 0.04773682612652792\n",
            "3 Subflow Bwd Bytes: 0.04645615633075148\n",
            "4 Bwd Packet Length Mean: 0.04519535259248061\n",
            "5 Destination Port: 0.04370818546443815\n",
            "6 Packet Length Variance: 0.038021871358737275\n",
            "7 Avg Fwd Segment Size: 0.03730788960954086\n",
            "8 Bwd Packet Length Max: 0.034338553200139704\n",
            "9 Idle Mean: 0.03057971380827757\n",
            "10 Bwd Packet Length Std: 0.029350167973574925\n",
            "11 Avg Bwd Segment Size: 0.029135894907666132\n",
            "12 Packet Length Mean: 0.02779002644826991\n",
            "13 Bwd Packets/s: 0.027085258532863858\n",
            "14 PSH Flag Count: 0.02469325316082499\n",
            "15 Total Length of Bwd Packets: 0.024271588029751906\n",
            "16 Idle Max: 0.023837340691685065\n",
            "17 min_seg_size_forward: 0.02092082589494219\n",
            "18 Max Packet Length: 0.020482506682045418\n",
            "19 Init_Win_bytes_forward: 0.020404495473157137\n",
            "20 Fwd Packet Length Max: 0.019650406113557388\n",
            "21 Fwd Packet Length Mean: 0.019071002042250516\n",
            "22 Fwd Header Length.1: 0.016856119876983072\n",
            "23 Flow IAT Mean: 0.015775300162890346\n",
            "24 Fwd Header Length: 0.015553336470968362\n",
            "25 Bwd Header Length: 0.014272177647160166\n",
            "26 Fwd IAT Std: 0.014105842637099663\n",
            "27 Total Backward Packets: 0.01310973779833278\n",
            "28 Fwd Packets/s: 0.012939888446486244\n",
            "29 Subflow Fwd Packets: 0.012392749401736267\n",
            "30 Init_Win_bytes_backward: 0.01231567403644906\n",
            "31 ACK Flag Count: 0.011634664736672583\n",
            "32 Total Fwd Packets: 0.011460611541015908\n",
            "33 Subflow Bwd Packets: 0.010718530399510953\n",
            "34 Total Length of Fwd Packets: 0.010121033437487445\n",
            "35 Bwd Packet Length Min: 0.00931192990494005\n",
            "36 Flow IAT Min: 0.00781987267020157\n",
            "37 Flow IAT Std: 0.006578293992641024\n",
            "38 Fwd IAT Min: 0.006499411460524442\n",
            "39 act_data_pkt_fwd: 0.0058880557789744315\n",
            "40 Bwd IAT Min: 0.005501668686167714\n",
            "41 Fwd IAT Total: 0.005382459527297327\n",
            "42 Flow Packets/s: 0.0052417927143965015\n",
            "43 Fwd IAT Mean: 0.004984653917150474\n",
            "44 Bwd IAT Max: 0.0047602838004078335\n",
            "45 Fwd IAT Max: 0.00471921706093782\n",
            "46 Flow IAT Max: 0.003969209955381002\n",
            "47 Flow Duration: 0.0032208002858449317\n",
            "48 Fwd Packet Length Std: 0.0032065139887016486\n",
            "49 Active Max: 0.002318466186001635\n",
            "50 Bwd IAT Mean: 0.002015654823263624\n",
            "51 Flow Bytes/s: 0.001925527815549678\n",
            "52 Bwd IAT Total: 0.0018630564229506457\n",
            "53 Min Packet Length: 0.001762407699654631\n",
            "54 Active Mean: 0.0016354542903657388\n",
            "55 FIN Flag Count: 0.0014555872391146768\n",
            "56 Fwd PSH Flags: 0.0014419016279157465\n",
            "57 Fwd Packet Length Min: 0.0013545294599525736\n",
            "58 Idle Min: 0.0012976732184952274\n",
            "59 URG Flag Count: 0.0011706790160267654\n",
            "60 Bwd IAT Std: 0.001145905029170796\n",
            "61 Active Min: 0.0009018231820139176\n",
            "62 Down/Up Ratio: 0.0005794383700046285\n",
            "63 Active Std: 0.0003643840848114428\n",
            "64 SYN Flag Count: 0.00015330440674353\n",
            "65 Idle Std: 0.00013603512138514383\n",
            "66 Fwd URG Flags: 3.261532561193751e-05\n",
            "67 CWE Flag Count: 1.7234926141846547e-05\n"
          ]
        }
      ]
    },
    {
      "cell_type": "markdown",
      "source": [
        "Remove more features that do not contribute much from the new random forest"
      ],
      "metadata": {
        "id": "aROjOiWGboMA"
      }
    },
    {
      "cell_type": "code",
      "source": [
        "new_features = [] # list containing the new features names\n",
        "for i in range(0,len(feature_imp0)): # for for the range of all features\n",
        "    if feature_imp0[i] > 0.001: # check if importance is over the threshold\n",
        "        new_features.append(feature_imp0.index[i])\n",
        "print(new_features)\n",
        "# save the new data frame\n",
        "X_train_00 = X_train[new_features]\n",
        "X_test_00 = X_test[new_features]"
      ],
      "metadata": {
        "colab": {
          "base_uri": "https://localhost:8080/"
        },
        "id": "lAf-AFZXbtsA",
        "outputId": "ca9c3741-b6e5-40e1-9c69-2c0015d4f267"
      },
      "execution_count": 34,
      "outputs": [
        {
          "output_type": "stream",
          "name": "stdout",
          "text": [
            "['Packet Length Std', 'Average Packet Size', 'Subflow Fwd Bytes', 'Subflow Bwd Bytes', 'Bwd Packet Length Mean', 'Destination Port', 'Packet Length Variance', 'Avg Fwd Segment Size', 'Bwd Packet Length Max', 'Idle Mean', 'Bwd Packet Length Std', 'Avg Bwd Segment Size', 'Packet Length Mean', 'Bwd Packets/s', 'PSH Flag Count', 'Total Length of Bwd Packets', 'Idle Max', 'min_seg_size_forward', 'Max Packet Length', 'Init_Win_bytes_forward', 'Fwd Packet Length Max', 'Fwd Packet Length Mean', 'Fwd Header Length.1', 'Flow IAT Mean', 'Fwd Header Length', 'Bwd Header Length', 'Fwd IAT Std', 'Total Backward Packets', 'Fwd Packets/s', 'Subflow Fwd Packets', 'Init_Win_bytes_backward', 'ACK Flag Count', 'Total Fwd Packets', 'Subflow Bwd Packets', 'Total Length of Fwd Packets', 'Bwd Packet Length Min', 'Flow IAT Min', 'Flow IAT Std', 'Fwd IAT Min', 'act_data_pkt_fwd', 'Bwd IAT Min', 'Fwd IAT Total', 'Flow Packets/s', 'Fwd IAT Mean', 'Bwd IAT Max', 'Fwd IAT Max', 'Flow IAT Max', 'Flow Duration', 'Fwd Packet Length Std', 'Active Max', 'Bwd IAT Mean', 'Flow Bytes/s', 'Bwd IAT Total', 'Min Packet Length', 'Active Mean', 'FIN Flag Count', 'Fwd PSH Flags', 'Fwd Packet Length Min', 'Idle Min', 'URG Flag Count', 'Bwd IAT Std']\n"
          ]
        }
      ]
    },
    {
      "cell_type": "code",
      "source": [
        "# Train again and predict\n",
        "# Scale and Run again the classification training task\n",
        "scaler.fit(X_train_00)\n",
        "x_train_00 = scaler.transform(X_train_00)\n",
        "x_test_00 = scaler.transform(X_test_00)"
      ],
      "metadata": {
        "id": "P0zfK0QNdhfS"
      },
      "execution_count": 35,
      "outputs": []
    },
    {
      "cell_type": "code",
      "source": [
        "rf3 = RandomForestClassifier(n_estimators=20, max_depth=None,\n",
        "                                 bootstrap=False, n_jobs=-1,\n",
        "                                 random_state=0,verbose=2)\n",
        "rf3.fit(x_train_00, y_train)"
      ],
      "metadata": {
        "colab": {
          "base_uri": "https://localhost:8080/",
          "height": 474
        },
        "id": "eyNXAnJHdqqS",
        "outputId": "273b9a5f-80f6-4bbb-fa8e-9b356ecdd3ab"
      },
      "execution_count": 36,
      "outputs": [
        {
          "output_type": "stream",
          "name": "stderr",
          "text": [
            "[Parallel(n_jobs=-1)]: Using backend ThreadingBackend with 2 concurrent workers.\n"
          ]
        },
        {
          "output_type": "stream",
          "name": "stdout",
          "text": [
            "building tree 1 of 20\n",
            "building tree 2 of 20\n",
            "building tree 3 of 20\n",
            "building tree 4 of 20\n",
            "building tree 5 of 20\n",
            "building tree 6 of 20\n",
            "building tree 7 of 20\n",
            "building tree 8 of 20\n",
            "building tree 9 of 20\n",
            "building tree 10 of 20\n",
            "building tree 11 of 20\n",
            "building tree 12 of 20\n",
            "building tree 13 of 20\n",
            "building tree 14 of 20\n",
            "building tree 15 of 20\n",
            "building tree 16 of 20\n",
            "building tree 17 of 20\n",
            "building tree 18 of 20\n",
            "building tree 19 of 20\n",
            "building tree 20 of 20\n"
          ]
        },
        {
          "output_type": "stream",
          "name": "stderr",
          "text": [
            "[Parallel(n_jobs=-1)]: Done  20 out of  20 | elapsed:  4.7min finished\n"
          ]
        },
        {
          "output_type": "execute_result",
          "data": {
            "text/plain": [
              "RandomForestClassifier(bootstrap=False, n_estimators=20, n_jobs=-1,\n",
              "                       random_state=0, verbose=2)"
            ],
            "text/html": [
              "<style>#sk-container-id-3 {color: black;background-color: white;}#sk-container-id-3 pre{padding: 0;}#sk-container-id-3 div.sk-toggleable {background-color: white;}#sk-container-id-3 label.sk-toggleable__label {cursor: pointer;display: block;width: 100%;margin-bottom: 0;padding: 0.3em;box-sizing: border-box;text-align: center;}#sk-container-id-3 label.sk-toggleable__label-arrow:before {content: \"▸\";float: left;margin-right: 0.25em;color: #696969;}#sk-container-id-3 label.sk-toggleable__label-arrow:hover:before {color: black;}#sk-container-id-3 div.sk-estimator:hover label.sk-toggleable__label-arrow:before {color: black;}#sk-container-id-3 div.sk-toggleable__content {max-height: 0;max-width: 0;overflow: hidden;text-align: left;background-color: #f0f8ff;}#sk-container-id-3 div.sk-toggleable__content pre {margin: 0.2em;color: black;border-radius: 0.25em;background-color: #f0f8ff;}#sk-container-id-3 input.sk-toggleable__control:checked~div.sk-toggleable__content {max-height: 200px;max-width: 100%;overflow: auto;}#sk-container-id-3 input.sk-toggleable__control:checked~label.sk-toggleable__label-arrow:before {content: \"▾\";}#sk-container-id-3 div.sk-estimator input.sk-toggleable__control:checked~label.sk-toggleable__label {background-color: #d4ebff;}#sk-container-id-3 div.sk-label input.sk-toggleable__control:checked~label.sk-toggleable__label {background-color: #d4ebff;}#sk-container-id-3 input.sk-hidden--visually {border: 0;clip: rect(1px 1px 1px 1px);clip: rect(1px, 1px, 1px, 1px);height: 1px;margin: -1px;overflow: hidden;padding: 0;position: absolute;width: 1px;}#sk-container-id-3 div.sk-estimator {font-family: monospace;background-color: #f0f8ff;border: 1px dotted black;border-radius: 0.25em;box-sizing: border-box;margin-bottom: 0.5em;}#sk-container-id-3 div.sk-estimator:hover {background-color: #d4ebff;}#sk-container-id-3 div.sk-parallel-item::after {content: \"\";width: 100%;border-bottom: 1px solid gray;flex-grow: 1;}#sk-container-id-3 div.sk-label:hover label.sk-toggleable__label {background-color: #d4ebff;}#sk-container-id-3 div.sk-serial::before {content: \"\";position: absolute;border-left: 1px solid gray;box-sizing: border-box;top: 0;bottom: 0;left: 50%;z-index: 0;}#sk-container-id-3 div.sk-serial {display: flex;flex-direction: column;align-items: center;background-color: white;padding-right: 0.2em;padding-left: 0.2em;position: relative;}#sk-container-id-3 div.sk-item {position: relative;z-index: 1;}#sk-container-id-3 div.sk-parallel {display: flex;align-items: stretch;justify-content: center;background-color: white;position: relative;}#sk-container-id-3 div.sk-item::before, #sk-container-id-3 div.sk-parallel-item::before {content: \"\";position: absolute;border-left: 1px solid gray;box-sizing: border-box;top: 0;bottom: 0;left: 50%;z-index: -1;}#sk-container-id-3 div.sk-parallel-item {display: flex;flex-direction: column;z-index: 1;position: relative;background-color: white;}#sk-container-id-3 div.sk-parallel-item:first-child::after {align-self: flex-end;width: 50%;}#sk-container-id-3 div.sk-parallel-item:last-child::after {align-self: flex-start;width: 50%;}#sk-container-id-3 div.sk-parallel-item:only-child::after {width: 0;}#sk-container-id-3 div.sk-dashed-wrapped {border: 1px dashed gray;margin: 0 0.4em 0.5em 0.4em;box-sizing: border-box;padding-bottom: 0.4em;background-color: white;}#sk-container-id-3 div.sk-label label {font-family: monospace;font-weight: bold;display: inline-block;line-height: 1.2em;}#sk-container-id-3 div.sk-label-container {text-align: center;}#sk-container-id-3 div.sk-container {/* jupyter's `normalize.less` sets `[hidden] { display: none; }` but bootstrap.min.css set `[hidden] { display: none !important; }` so we also need the `!important` here to be able to override the default hidden behavior on the sphinx rendered scikit-learn.org. See: https://github.com/scikit-learn/scikit-learn/issues/21755 */display: inline-block !important;position: relative;}#sk-container-id-3 div.sk-text-repr-fallback {display: none;}</style><div id=\"sk-container-id-3\" class=\"sk-top-container\"><div class=\"sk-text-repr-fallback\"><pre>RandomForestClassifier(bootstrap=False, n_estimators=20, n_jobs=-1,\n",
              "                       random_state=0, verbose=2)</pre><b>In a Jupyter environment, please rerun this cell to show the HTML representation or trust the notebook. <br />On GitHub, the HTML representation is unable to render, please try loading this page with nbviewer.org.</b></div><div class=\"sk-container\" hidden><div class=\"sk-item\"><div class=\"sk-estimator sk-toggleable\"><input class=\"sk-toggleable__control sk-hidden--visually\" id=\"sk-estimator-id-3\" type=\"checkbox\" checked><label for=\"sk-estimator-id-3\" class=\"sk-toggleable__label sk-toggleable__label-arrow\">RandomForestClassifier</label><div class=\"sk-toggleable__content\"><pre>RandomForestClassifier(bootstrap=False, n_estimators=20, n_jobs=-1,\n",
              "                       random_state=0, verbose=2)</pre></div></div></div></div></div>"
            ]
          },
          "metadata": {},
          "execution_count": 36
        }
      ]
    },
    {
      "cell_type": "code",
      "source": [
        "y_pred = rf3.predict(x_test_00) # change to x_test_0\n",
        "from sklearn.metrics import accuracy_score\n",
        "accuracy = accuracy_score(y_test, y_pred)\n",
        "print(\"Accuracy:\", accuracy)"
      ],
      "metadata": {
        "colab": {
          "base_uri": "https://localhost:8080/"
        },
        "id": "1E0i7jyMdvtS",
        "outputId": "9cdd5f79-8c17-415d-d0f4-438dfbfce722"
      },
      "execution_count": 37,
      "outputs": [
        {
          "output_type": "stream",
          "name": "stderr",
          "text": [
            "[Parallel(n_jobs=2)]: Using backend ThreadingBackend with 2 concurrent workers.\n"
          ]
        },
        {
          "output_type": "stream",
          "name": "stdout",
          "text": [
            "Accuracy: 0.9986159440121984\n"
          ]
        },
        {
          "output_type": "stream",
          "name": "stderr",
          "text": [
            "[Parallel(n_jobs=2)]: Done  20 out of  20 | elapsed:    3.3s finished\n"
          ]
        }
      ]
    },
    {
      "cell_type": "code",
      "source": [
        "# Perform again to see feature importance\n",
        "feature_imp00 = pd.Series(rf3.feature_importances_,\n",
        "                        index=X_train_00.columns).sort_values(ascending=False)"
      ],
      "metadata": {
        "id": "wJ625mYjgsK_"
      },
      "execution_count": 38,
      "outputs": []
    },
    {
      "cell_type": "code",
      "source": [
        "for i in range(0,len(feature_imp00)):\n",
        "    print(i,end =\" \")\n",
        "    print(feature_imp00.index[i],end = \": \")\n",
        "    print(feature_imp00[i])"
      ],
      "metadata": {
        "colab": {
          "base_uri": "https://localhost:8080/"
        },
        "id": "UoxR4SEbg0e-",
        "outputId": "a8791636-3851-4551-808b-4abbd925938d"
      },
      "execution_count": 39,
      "outputs": [
        {
          "output_type": "stream",
          "name": "stdout",
          "text": [
            "0 Subflow Bwd Bytes: 0.06851836335178833\n",
            "1 Avg Bwd Segment Size: 0.054626595680399424\n",
            "2 Bwd Packet Length Max: 0.05348935976713558\n",
            "3 Total Length of Bwd Packets: 0.044364260250318206\n",
            "4 Destination Port: 0.037048428403003264\n",
            "5 Bwd Header Length: 0.03397936640052606\n",
            "6 Fwd IAT Std: 0.03302190221428736\n",
            "7 Init_Win_bytes_forward: 0.02993722734907776\n",
            "8 Subflow Fwd Bytes: 0.029137087204199972\n",
            "9 Packet Length Variance: 0.028704823410283235\n",
            "10 Average Packet Size: 0.028459091347497842\n",
            "11 Bwd Packet Length Std: 0.026853314329136468\n",
            "12 Packet Length Mean: 0.025198778438170037\n",
            "13 Bwd Packet Length Min: 0.02505654504866555\n",
            "14 Flow Bytes/s: 0.024355125123226348\n",
            "15 Packet Length Std: 0.023370233327011616\n",
            "16 Avg Fwd Segment Size: 0.023066651817636823\n",
            "17 Flow IAT Max: 0.02236814417666197\n",
            "18 Fwd Packet Length Mean: 0.02017521586665995\n",
            "19 act_data_pkt_fwd: 0.02010074700755608\n",
            "20 Total Length of Fwd Packets: 0.018622649232039105\n",
            "21 min_seg_size_forward: 0.01822026721507496\n",
            "22 Fwd Packet Length Max: 0.01816380469442897\n",
            "23 Flow IAT Mean: 0.017868090788338776\n",
            "24 Fwd Header Length.1: 0.017625441317868393\n",
            "25 Fwd IAT Max: 0.017412931583751057\n",
            "26 Bwd Packet Length Mean: 0.017370824383021826\n",
            "27 Bwd Packets/s: 0.017278351839846013\n",
            "28 Subflow Bwd Packets: 0.016586699945217703\n",
            "29 Fwd Packet Length Std: 0.01556537010404518\n",
            "30 Max Packet Length: 0.013733901603195122\n",
            "31 Init_Win_bytes_backward: 0.013246976614502278\n",
            "32 PSH Flag Count: 0.012711197789661604\n",
            "33 Idle Min: 0.012513294182124279\n",
            "34 Fwd Header Length: 0.012058547532762351\n",
            "35 Subflow Fwd Packets: 0.011177923580317002\n",
            "36 Total Fwd Packets: 0.01032995787862802\n",
            "37 Min Packet Length: 0.007406056023073438\n",
            "38 Fwd IAT Mean: 0.0073737762835644274\n",
            "39 Fwd IAT Total: 0.00727416827460533\n",
            "40 Flow Duration: 0.006480973752523418\n",
            "41 Fwd IAT Min: 0.006173780289499972\n",
            "42 Flow IAT Min: 0.005731248239031198\n",
            "43 Flow IAT Std: 0.005729959852605789\n",
            "44 Flow Packets/s: 0.004792412703787454\n",
            "45 Total Backward Packets: 0.004748532080632904\n",
            "46 Idle Max: 0.0047150762789735555\n",
            "47 ACK Flag Count: 0.004575090241355783\n",
            "48 Fwd Packet Length Min: 0.004129352234271308\n",
            "49 Fwd Packets/s: 0.003998056612066986\n",
            "50 Idle Mean: 0.0032260274603223378\n",
            "51 Active Max: 0.002289217230208325\n",
            "52 Bwd IAT Max: 0.0022672697375048733\n",
            "53 Bwd IAT Mean: 0.001824673788668573\n",
            "54 Bwd IAT Std: 0.0013877499976180303\n",
            "55 Bwd IAT Total: 0.001045469843682999\n",
            "56 FIN Flag Count: 0.0008916391688254215\n",
            "57 Bwd IAT Min: 0.0005482383275035174\n",
            "58 URG Flag Count: 0.0005208479399895822\n",
            "59 Active Mean: 0.0003616075454925313\n",
            "60 Fwd PSH Flags: 0.00019128529612755886\n"
          ]
        }
      ]
    },
    {
      "cell_type": "code",
      "source": [
        "# colect features until comulative importance is 0.9\n",
        "new_features = [] # list containing the new features names\n",
        "cum_imp = 0\n",
        "for i in range(0,len(feature_imp00)): # for for the range of all features\n",
        "    if cum_imp < 0.9:\n",
        "        new_features.append(feature_imp00.index[i])\n",
        "        cum_imp+= feature_imp00[i]\n",
        "print(new_features)\n",
        "# save the new data frame\n",
        "X_train_000 = X_train[new_features]\n",
        "X_test_000 = X_test[new_features]"
      ],
      "metadata": {
        "colab": {
          "base_uri": "https://localhost:8080/"
        },
        "id": "53y8OJoChssm",
        "outputId": "4f4e07c3-3072-4394-dbb5-37ee5c37b7cd"
      },
      "execution_count": 40,
      "outputs": [
        {
          "output_type": "stream",
          "name": "stdout",
          "text": [
            "['Subflow Bwd Bytes', 'Avg Bwd Segment Size', 'Bwd Packet Length Max', 'Total Length of Bwd Packets', 'Destination Port', 'Bwd Header Length', 'Fwd IAT Std', 'Init_Win_bytes_forward', 'Subflow Fwd Bytes', 'Packet Length Variance', 'Average Packet Size', 'Bwd Packet Length Std', 'Packet Length Mean', 'Bwd Packet Length Min', 'Flow Bytes/s', 'Packet Length Std', 'Avg Fwd Segment Size', 'Flow IAT Max', 'Fwd Packet Length Mean', 'act_data_pkt_fwd', 'Total Length of Fwd Packets', 'min_seg_size_forward', 'Fwd Packet Length Max', 'Flow IAT Mean', 'Fwd Header Length.1', 'Fwd IAT Max', 'Bwd Packet Length Mean', 'Bwd Packets/s', 'Subflow Bwd Packets', 'Fwd Packet Length Std', 'Max Packet Length', 'Init_Win_bytes_backward', 'PSH Flag Count', 'Idle Min', 'Fwd Header Length', 'Subflow Fwd Packets']\n"
          ]
        }
      ]
    },
    {
      "cell_type": "code",
      "source": [
        "# final training\n",
        "# Train again and predict\n",
        "# Scale and Run again the classification training task\n",
        "scaler.fit(X_train_000)\n",
        "x_train_000 = scaler.transform(X_train_000)\n",
        "x_test_000 = scaler.transform(X_test_000)"
      ],
      "metadata": {
        "id": "wKd6b56GiODg"
      },
      "execution_count": 41,
      "outputs": []
    },
    {
      "cell_type": "code",
      "source": [
        "del X_train_00, X_train_0"
      ],
      "metadata": {
        "id": "wWyvJyOcszQ6"
      },
      "execution_count": 42,
      "outputs": []
    },
    {
      "cell_type": "code",
      "source": [
        "rf4 = RandomForestClassifier(n_estimators=20, max_depth=None,\n",
        "                                 bootstrap=False, n_jobs=-1,\n",
        "                                 random_state=0,verbose=2)\n",
        "rf4.fit(x_train_000, y_train)"
      ],
      "metadata": {
        "id": "ReuNF83Fia1a",
        "colab": {
          "base_uri": "https://localhost:8080/",
          "height": 474
        },
        "outputId": "4cc1f6f5-35e3-4cba-8ba6-994299c026b9"
      },
      "execution_count": 43,
      "outputs": [
        {
          "output_type": "stream",
          "name": "stderr",
          "text": [
            "[Parallel(n_jobs=-1)]: Using backend ThreadingBackend with 2 concurrent workers.\n"
          ]
        },
        {
          "output_type": "stream",
          "name": "stdout",
          "text": [
            "building tree 1 of 20building tree 2 of 20\n",
            "\n",
            "building tree 3 of 20\n",
            "building tree 4 of 20\n",
            "building tree 5 of 20\n",
            "building tree 6 of 20\n",
            "building tree 7 of 20\n",
            "building tree 8 of 20\n",
            "building tree 9 of 20\n",
            "building tree 10 of 20\n",
            "building tree 11 of 20\n",
            "building tree 12 of 20\n",
            "building tree 13 of 20\n",
            "building tree 14 of 20\n",
            "building tree 15 of 20\n",
            "building tree 16 of 20\n",
            "building tree 17 of 20\n",
            "building tree 18 of 20\n",
            "building tree 19 of 20\n",
            "building tree 20 of 20\n"
          ]
        },
        {
          "output_type": "stream",
          "name": "stderr",
          "text": [
            "[Parallel(n_jobs=-1)]: Done  20 out of  20 | elapsed:  4.2min finished\n"
          ]
        },
        {
          "output_type": "execute_result",
          "data": {
            "text/plain": [
              "RandomForestClassifier(bootstrap=False, n_estimators=20, n_jobs=-1,\n",
              "                       random_state=0, verbose=2)"
            ],
            "text/html": [
              "<style>#sk-container-id-4 {color: black;background-color: white;}#sk-container-id-4 pre{padding: 0;}#sk-container-id-4 div.sk-toggleable {background-color: white;}#sk-container-id-4 label.sk-toggleable__label {cursor: pointer;display: block;width: 100%;margin-bottom: 0;padding: 0.3em;box-sizing: border-box;text-align: center;}#sk-container-id-4 label.sk-toggleable__label-arrow:before {content: \"▸\";float: left;margin-right: 0.25em;color: #696969;}#sk-container-id-4 label.sk-toggleable__label-arrow:hover:before {color: black;}#sk-container-id-4 div.sk-estimator:hover label.sk-toggleable__label-arrow:before {color: black;}#sk-container-id-4 div.sk-toggleable__content {max-height: 0;max-width: 0;overflow: hidden;text-align: left;background-color: #f0f8ff;}#sk-container-id-4 div.sk-toggleable__content pre {margin: 0.2em;color: black;border-radius: 0.25em;background-color: #f0f8ff;}#sk-container-id-4 input.sk-toggleable__control:checked~div.sk-toggleable__content {max-height: 200px;max-width: 100%;overflow: auto;}#sk-container-id-4 input.sk-toggleable__control:checked~label.sk-toggleable__label-arrow:before {content: \"▾\";}#sk-container-id-4 div.sk-estimator input.sk-toggleable__control:checked~label.sk-toggleable__label {background-color: #d4ebff;}#sk-container-id-4 div.sk-label input.sk-toggleable__control:checked~label.sk-toggleable__label {background-color: #d4ebff;}#sk-container-id-4 input.sk-hidden--visually {border: 0;clip: rect(1px 1px 1px 1px);clip: rect(1px, 1px, 1px, 1px);height: 1px;margin: -1px;overflow: hidden;padding: 0;position: absolute;width: 1px;}#sk-container-id-4 div.sk-estimator {font-family: monospace;background-color: #f0f8ff;border: 1px dotted black;border-radius: 0.25em;box-sizing: border-box;margin-bottom: 0.5em;}#sk-container-id-4 div.sk-estimator:hover {background-color: #d4ebff;}#sk-container-id-4 div.sk-parallel-item::after {content: \"\";width: 100%;border-bottom: 1px solid gray;flex-grow: 1;}#sk-container-id-4 div.sk-label:hover label.sk-toggleable__label {background-color: #d4ebff;}#sk-container-id-4 div.sk-serial::before {content: \"\";position: absolute;border-left: 1px solid gray;box-sizing: border-box;top: 0;bottom: 0;left: 50%;z-index: 0;}#sk-container-id-4 div.sk-serial {display: flex;flex-direction: column;align-items: center;background-color: white;padding-right: 0.2em;padding-left: 0.2em;position: relative;}#sk-container-id-4 div.sk-item {position: relative;z-index: 1;}#sk-container-id-4 div.sk-parallel {display: flex;align-items: stretch;justify-content: center;background-color: white;position: relative;}#sk-container-id-4 div.sk-item::before, #sk-container-id-4 div.sk-parallel-item::before {content: \"\";position: absolute;border-left: 1px solid gray;box-sizing: border-box;top: 0;bottom: 0;left: 50%;z-index: -1;}#sk-container-id-4 div.sk-parallel-item {display: flex;flex-direction: column;z-index: 1;position: relative;background-color: white;}#sk-container-id-4 div.sk-parallel-item:first-child::after {align-self: flex-end;width: 50%;}#sk-container-id-4 div.sk-parallel-item:last-child::after {align-self: flex-start;width: 50%;}#sk-container-id-4 div.sk-parallel-item:only-child::after {width: 0;}#sk-container-id-4 div.sk-dashed-wrapped {border: 1px dashed gray;margin: 0 0.4em 0.5em 0.4em;box-sizing: border-box;padding-bottom: 0.4em;background-color: white;}#sk-container-id-4 div.sk-label label {font-family: monospace;font-weight: bold;display: inline-block;line-height: 1.2em;}#sk-container-id-4 div.sk-label-container {text-align: center;}#sk-container-id-4 div.sk-container {/* jupyter's `normalize.less` sets `[hidden] { display: none; }` but bootstrap.min.css set `[hidden] { display: none !important; }` so we also need the `!important` here to be able to override the default hidden behavior on the sphinx rendered scikit-learn.org. See: https://github.com/scikit-learn/scikit-learn/issues/21755 */display: inline-block !important;position: relative;}#sk-container-id-4 div.sk-text-repr-fallback {display: none;}</style><div id=\"sk-container-id-4\" class=\"sk-top-container\"><div class=\"sk-text-repr-fallback\"><pre>RandomForestClassifier(bootstrap=False, n_estimators=20, n_jobs=-1,\n",
              "                       random_state=0, verbose=2)</pre><b>In a Jupyter environment, please rerun this cell to show the HTML representation or trust the notebook. <br />On GitHub, the HTML representation is unable to render, please try loading this page with nbviewer.org.</b></div><div class=\"sk-container\" hidden><div class=\"sk-item\"><div class=\"sk-estimator sk-toggleable\"><input class=\"sk-toggleable__control sk-hidden--visually\" id=\"sk-estimator-id-4\" type=\"checkbox\" checked><label for=\"sk-estimator-id-4\" class=\"sk-toggleable__label sk-toggleable__label-arrow\">RandomForestClassifier</label><div class=\"sk-toggleable__content\"><pre>RandomForestClassifier(bootstrap=False, n_estimators=20, n_jobs=-1,\n",
              "                       random_state=0, verbose=2)</pre></div></div></div></div></div>"
            ]
          },
          "metadata": {},
          "execution_count": 43
        }
      ]
    },
    {
      "cell_type": "code",
      "source": [
        "y_pred = rf4.predict(x_test_000) # change to x_test_0\n",
        "from sklearn.metrics import accuracy_score\n",
        "accuracy = accuracy_score(y_test, y_pred)\n",
        "print(\"Accuracy:\", accuracy)"
      ],
      "metadata": {
        "id": "x-OrJinointK",
        "colab": {
          "base_uri": "https://localhost:8080/"
        },
        "outputId": "71ffe6ba-b0fe-4bf5-cfec-fb0368627d4f"
      },
      "execution_count": 44,
      "outputs": [
        {
          "output_type": "stream",
          "name": "stderr",
          "text": [
            "[Parallel(n_jobs=2)]: Using backend ThreadingBackend with 2 concurrent workers.\n"
          ]
        },
        {
          "output_type": "stream",
          "name": "stdout",
          "text": [
            "Accuracy: 0.9983676740821832\n"
          ]
        },
        {
          "output_type": "stream",
          "name": "stderr",
          "text": [
            "[Parallel(n_jobs=2)]: Done  20 out of  20 | elapsed:    1.9s finished\n"
          ]
        }
      ]
    },
    {
      "cell_type": "code",
      "source": [
        "# Perform again to see feature importance\n",
        "feature_imp000 = pd.Series(rf4.feature_importances_,\n",
        "                        index=X_train_000.columns).sort_values(ascending=False)"
      ],
      "metadata": {
        "id": "lzv8mmhfWv5e"
      },
      "execution_count": 47,
      "outputs": []
    },
    {
      "cell_type": "code",
      "source": [
        "for i in range(0,len(feature_imp000)):\n",
        "    print(i,end =\" \")\n",
        "    print(feature_imp000.index[i],end = \": \")\n",
        "    print(feature_imp000[i])"
      ],
      "metadata": {
        "colab": {
          "base_uri": "https://localhost:8080/"
        },
        "id": "0_j5c_7EW1TH",
        "outputId": "17af08e7-f1b8-48cb-a1bd-14287054e09f"
      },
      "execution_count": 48,
      "outputs": [
        {
          "output_type": "stream",
          "name": "stdout",
          "text": [
            "0 Bwd Packet Length Std: 0.08963976103322824\n",
            "1 Avg Bwd Segment Size: 0.0729369216644516\n",
            "2 Average Packet Size: 0.05776455433675132\n",
            "3 Bwd Packet Length Max: 0.05666994164848606\n",
            "4 Destination Port: 0.05279896393100271\n",
            "5 Total Length of Fwd Packets: 0.04797733473864768\n",
            "6 Fwd Packet Length Max: 0.04355394998204584\n",
            "7 Packet Length Std: 0.04236556400934843\n",
            "8 Bwd Packet Length Mean: 0.038407518042727434\n",
            "9 Packet Length Variance: 0.03734803745918708\n",
            "10 Subflow Fwd Bytes: 0.03675378640680891\n",
            "11 Packet Length Mean: 0.0297794611980539\n",
            "12 Flow Bytes/s: 0.02752709082775817\n",
            "13 Init_Win_bytes_forward: 0.027070140755383987\n",
            "14 Bwd Header Length: 0.02646052845785997\n",
            "15 Bwd Packet Length Min: 0.02610349383892003\n",
            "16 Avg Fwd Segment Size: 0.022451458060263114\n",
            "17 Bwd Packets/s: 0.020654980689370248\n",
            "18 Fwd IAT Max: 0.020286318034404578\n",
            "19 Total Length of Bwd Packets: 0.01886191677374133\n",
            "20 Fwd Header Length: 0.018500736777287405\n",
            "21 Subflow Bwd Bytes: 0.0177053266888564\n",
            "22 Fwd Packet Length Std: 0.016359715137725907\n",
            "23 Fwd IAT Std: 0.016285377441235937\n",
            "24 Fwd Header Length.1: 0.01603441743211777\n",
            "25 Subflow Fwd Packets: 0.014696768749016426\n",
            "26 Subflow Bwd Packets: 0.012610825380668085\n",
            "27 Flow IAT Max: 0.01260754694330526\n",
            "28 Flow IAT Mean: 0.012305409801531096\n",
            "29 act_data_pkt_fwd: 0.012267328768505479\n",
            "30 Fwd Packet Length Mean: 0.01161551962637729\n",
            "31 PSH Flag Count: 0.011353858346833492\n",
            "32 Init_Win_bytes_backward: 0.010927775523210224\n",
            "33 min_seg_size_forward: 0.009560982045424965\n",
            "34 Idle Min: 0.0074354285888322165\n",
            "35 Max Packet Length: 0.004321260860631547\n"
          ]
        }
      ]
    },
    {
      "cell_type": "code",
      "source": [
        "# colect features until comulative importance is 0.9\n",
        "new_features = [] # list containing the new features names\n",
        "cum_imp = 0\n",
        "for i in range(0,len(feature_imp000)): # for for the range of all features\n",
        "    if cum_imp < 0.9:\n",
        "        new_features.append(feature_imp000.index[i])\n",
        "        cum_imp+= feature_imp000[i]\n",
        "print(new_features)\n",
        "# save the new data frame\n",
        "X_train_0000 = X_train[new_features]\n",
        "X_test_0000 = X_test[new_features]"
      ],
      "metadata": {
        "colab": {
          "base_uri": "https://localhost:8080/"
        },
        "id": "RDDR62MuXCXX",
        "outputId": "8e380fa6-f9f5-4cba-daf0-d4a02f2bc98b"
      },
      "execution_count": 49,
      "outputs": [
        {
          "output_type": "stream",
          "name": "stdout",
          "text": [
            "['Bwd Packet Length Std', 'Avg Bwd Segment Size', 'Average Packet Size', 'Bwd Packet Length Max', 'Destination Port', 'Total Length of Fwd Packets', 'Fwd Packet Length Max', 'Packet Length Std', 'Bwd Packet Length Mean', 'Packet Length Variance', 'Subflow Fwd Bytes', 'Packet Length Mean', 'Flow Bytes/s', 'Init_Win_bytes_forward', 'Bwd Header Length', 'Bwd Packet Length Min', 'Avg Fwd Segment Size', 'Bwd Packets/s', 'Fwd IAT Max', 'Total Length of Bwd Packets', 'Fwd Header Length', 'Subflow Bwd Bytes', 'Fwd Packet Length Std', 'Fwd IAT Std', 'Fwd Header Length.1', 'Subflow Fwd Packets', 'Subflow Bwd Packets']\n"
          ]
        }
      ]
    },
    {
      "cell_type": "code",
      "source": [
        "# final training\n",
        "# Train again and predict\n",
        "# Scale and Run again the classification training task\n",
        "scaler.fit(X_train_0000)\n",
        "x_train_0000 = scaler.transform(X_train_0000)\n",
        "x_test_0000 = scaler.transform(X_test_0000)"
      ],
      "metadata": {
        "id": "BFVRpYloXLq3"
      },
      "execution_count": 51,
      "outputs": []
    },
    {
      "cell_type": "code",
      "source": [
        "rf5 = RandomForestClassifier(n_estimators=20, max_depth=None,\n",
        "                                 bootstrap=False, n_jobs=-1,\n",
        "                                 random_state=0,verbose=2)\n",
        "rf5.fit(x_train_0000, y_train)"
      ],
      "metadata": {
        "colab": {
          "base_uri": "https://localhost:8080/",
          "height": 474
        },
        "id": "GnQq6Xg5XPgH",
        "outputId": "b0726dd0-9d43-4c5e-a076-71c29dc90d4a"
      },
      "execution_count": 52,
      "outputs": [
        {
          "output_type": "stream",
          "name": "stderr",
          "text": [
            "[Parallel(n_jobs=-1)]: Using backend ThreadingBackend with 2 concurrent workers.\n"
          ]
        },
        {
          "output_type": "stream",
          "name": "stdout",
          "text": [
            "building tree 1 of 20\n",
            "building tree 2 of 20\n",
            "building tree 3 of 20\n",
            "building tree 4 of 20\n",
            "building tree 5 of 20\n",
            "building tree 6 of 20\n",
            "building tree 7 of 20\n",
            "building tree 8 of 20\n",
            "building tree 9 of 20\n",
            "building tree 10 of 20\n",
            "building tree 11 of 20\n",
            "building tree 12 of 20\n",
            "building tree 13 of 20\n",
            "building tree 14 of 20\n",
            "building tree 15 of 20\n",
            "building tree 16 of 20\n",
            "building tree 17 of 20\n",
            "building tree 18 of 20\n",
            "building tree 19 of 20\n",
            "building tree 20 of 20\n"
          ]
        },
        {
          "output_type": "stream",
          "name": "stderr",
          "text": [
            "[Parallel(n_jobs=-1)]: Done  20 out of  20 | elapsed:  3.6min finished\n"
          ]
        },
        {
          "output_type": "execute_result",
          "data": {
            "text/plain": [
              "RandomForestClassifier(bootstrap=False, n_estimators=20, n_jobs=-1,\n",
              "                       random_state=0, verbose=2)"
            ],
            "text/html": [
              "<style>#sk-container-id-5 {color: black;background-color: white;}#sk-container-id-5 pre{padding: 0;}#sk-container-id-5 div.sk-toggleable {background-color: white;}#sk-container-id-5 label.sk-toggleable__label {cursor: pointer;display: block;width: 100%;margin-bottom: 0;padding: 0.3em;box-sizing: border-box;text-align: center;}#sk-container-id-5 label.sk-toggleable__label-arrow:before {content: \"▸\";float: left;margin-right: 0.25em;color: #696969;}#sk-container-id-5 label.sk-toggleable__label-arrow:hover:before {color: black;}#sk-container-id-5 div.sk-estimator:hover label.sk-toggleable__label-arrow:before {color: black;}#sk-container-id-5 div.sk-toggleable__content {max-height: 0;max-width: 0;overflow: hidden;text-align: left;background-color: #f0f8ff;}#sk-container-id-5 div.sk-toggleable__content pre {margin: 0.2em;color: black;border-radius: 0.25em;background-color: #f0f8ff;}#sk-container-id-5 input.sk-toggleable__control:checked~div.sk-toggleable__content {max-height: 200px;max-width: 100%;overflow: auto;}#sk-container-id-5 input.sk-toggleable__control:checked~label.sk-toggleable__label-arrow:before {content: \"▾\";}#sk-container-id-5 div.sk-estimator input.sk-toggleable__control:checked~label.sk-toggleable__label {background-color: #d4ebff;}#sk-container-id-5 div.sk-label input.sk-toggleable__control:checked~label.sk-toggleable__label {background-color: #d4ebff;}#sk-container-id-5 input.sk-hidden--visually {border: 0;clip: rect(1px 1px 1px 1px);clip: rect(1px, 1px, 1px, 1px);height: 1px;margin: -1px;overflow: hidden;padding: 0;position: absolute;width: 1px;}#sk-container-id-5 div.sk-estimator {font-family: monospace;background-color: #f0f8ff;border: 1px dotted black;border-radius: 0.25em;box-sizing: border-box;margin-bottom: 0.5em;}#sk-container-id-5 div.sk-estimator:hover {background-color: #d4ebff;}#sk-container-id-5 div.sk-parallel-item::after {content: \"\";width: 100%;border-bottom: 1px solid gray;flex-grow: 1;}#sk-container-id-5 div.sk-label:hover label.sk-toggleable__label {background-color: #d4ebff;}#sk-container-id-5 div.sk-serial::before {content: \"\";position: absolute;border-left: 1px solid gray;box-sizing: border-box;top: 0;bottom: 0;left: 50%;z-index: 0;}#sk-container-id-5 div.sk-serial {display: flex;flex-direction: column;align-items: center;background-color: white;padding-right: 0.2em;padding-left: 0.2em;position: relative;}#sk-container-id-5 div.sk-item {position: relative;z-index: 1;}#sk-container-id-5 div.sk-parallel {display: flex;align-items: stretch;justify-content: center;background-color: white;position: relative;}#sk-container-id-5 div.sk-item::before, #sk-container-id-5 div.sk-parallel-item::before {content: \"\";position: absolute;border-left: 1px solid gray;box-sizing: border-box;top: 0;bottom: 0;left: 50%;z-index: -1;}#sk-container-id-5 div.sk-parallel-item {display: flex;flex-direction: column;z-index: 1;position: relative;background-color: white;}#sk-container-id-5 div.sk-parallel-item:first-child::after {align-self: flex-end;width: 50%;}#sk-container-id-5 div.sk-parallel-item:last-child::after {align-self: flex-start;width: 50%;}#sk-container-id-5 div.sk-parallel-item:only-child::after {width: 0;}#sk-container-id-5 div.sk-dashed-wrapped {border: 1px dashed gray;margin: 0 0.4em 0.5em 0.4em;box-sizing: border-box;padding-bottom: 0.4em;background-color: white;}#sk-container-id-5 div.sk-label label {font-family: monospace;font-weight: bold;display: inline-block;line-height: 1.2em;}#sk-container-id-5 div.sk-label-container {text-align: center;}#sk-container-id-5 div.sk-container {/* jupyter's `normalize.less` sets `[hidden] { display: none; }` but bootstrap.min.css set `[hidden] { display: none !important; }` so we also need the `!important` here to be able to override the default hidden behavior on the sphinx rendered scikit-learn.org. See: https://github.com/scikit-learn/scikit-learn/issues/21755 */display: inline-block !important;position: relative;}#sk-container-id-5 div.sk-text-repr-fallback {display: none;}</style><div id=\"sk-container-id-5\" class=\"sk-top-container\"><div class=\"sk-text-repr-fallback\"><pre>RandomForestClassifier(bootstrap=False, n_estimators=20, n_jobs=-1,\n",
              "                       random_state=0, verbose=2)</pre><b>In a Jupyter environment, please rerun this cell to show the HTML representation or trust the notebook. <br />On GitHub, the HTML representation is unable to render, please try loading this page with nbviewer.org.</b></div><div class=\"sk-container\" hidden><div class=\"sk-item\"><div class=\"sk-estimator sk-toggleable\"><input class=\"sk-toggleable__control sk-hidden--visually\" id=\"sk-estimator-id-5\" type=\"checkbox\" checked><label for=\"sk-estimator-id-5\" class=\"sk-toggleable__label sk-toggleable__label-arrow\">RandomForestClassifier</label><div class=\"sk-toggleable__content\"><pre>RandomForestClassifier(bootstrap=False, n_estimators=20, n_jobs=-1,\n",
              "                       random_state=0, verbose=2)</pre></div></div></div></div></div>"
            ]
          },
          "metadata": {},
          "execution_count": 52
        }
      ]
    },
    {
      "cell_type": "code",
      "source": [
        "y_pred = rf5.predict(x_test_0000) # change to x_test_0\n",
        "from sklearn.metrics import accuracy_score\n",
        "accuracy = accuracy_score(y_test, y_pred)\n",
        "print(\"Accuracy:\", accuracy)"
      ],
      "metadata": {
        "colab": {
          "base_uri": "https://localhost:8080/"
        },
        "id": "icZHKlmaXjIH",
        "outputId": "68fe8af9-d48c-4ba7-8f52-b47697732a4b"
      },
      "execution_count": 53,
      "outputs": [
        {
          "output_type": "stream",
          "name": "stderr",
          "text": [
            "[Parallel(n_jobs=2)]: Using backend ThreadingBackend with 2 concurrent workers.\n"
          ]
        },
        {
          "output_type": "stream",
          "name": "stdout",
          "text": [
            "Accuracy: 0.9981663213042968\n"
          ]
        },
        {
          "output_type": "stream",
          "name": "stderr",
          "text": [
            "[Parallel(n_jobs=2)]: Done  20 out of  20 | elapsed:    2.0s finished\n"
          ]
        }
      ]
    },
    {
      "cell_type": "code",
      "source": [
        "# Perform again to see feature importance\n",
        "feature_imp0000 = pd.Series(rf5.feature_importances_,\n",
        "                        index=X_train_0000.columns).sort_values(ascending=False)"
      ],
      "metadata": {
        "id": "cYam2aSIXoPx"
      },
      "execution_count": 54,
      "outputs": []
    },
    {
      "cell_type": "code",
      "source": [
        "for i in range(0,len(feature_imp0000)):\n",
        "    print(i,end =\" \")\n",
        "    print(feature_imp0000.index[i],end = \": \")\n",
        "    print(feature_imp0000[i])"
      ],
      "metadata": {
        "colab": {
          "base_uri": "https://localhost:8080/"
        },
        "id": "yb2AMPA0Ykyg",
        "outputId": "1032e91a-101f-4e16-cf5d-61b5cec1dce4"
      },
      "execution_count": 55,
      "outputs": [
        {
          "output_type": "stream",
          "name": "stdout",
          "text": [
            "0 Bwd Packet Length Max: 0.07913958457128996\n",
            "1 Packet Length Std: 0.06935822767087331\n",
            "2 Subflow Bwd Bytes: 0.06222855847524918\n",
            "3 Subflow Fwd Bytes: 0.05899660200586665\n",
            "4 Packet Length Mean: 0.05843891036937836\n",
            "5 Total Length of Bwd Packets: 0.05594711132924102\n",
            "6 Destination Port: 0.055352975755227476\n",
            "7 Average Packet Size: 0.052994391265022\n",
            "8 Bwd Packet Length Mean: 0.05280241199418727\n",
            "9 Packet Length Variance: 0.048565514715314034\n",
            "10 Init_Win_bytes_forward: 0.04537107850008429\n",
            "11 Bwd Packet Length Std: 0.04026569832384771\n",
            "12 Fwd IAT Std: 0.037927328320231914\n",
            "13 Avg Bwd Segment Size: 0.03448080543552824\n",
            "14 Fwd Header Length: 0.02471814278388237\n",
            "15 Total Length of Fwd Packets: 0.023233288563514032\n",
            "16 Fwd Packet Length Max: 0.02311436270769824\n",
            "17 Avg Fwd Segment Size: 0.021924036008802644\n",
            "18 Fwd Header Length.1: 0.02104393351382617\n",
            "19 Subflow Fwd Packets: 0.02099468243740843\n",
            "20 Bwd Packets/s: 0.019837703806519225\n",
            "21 Bwd Packet Length Min: 0.01915097659540342\n",
            "22 Fwd Packet Length Std: 0.017474946120272544\n",
            "23 Fwd IAT Max: 0.016888378470230357\n",
            "24 Flow Bytes/s: 0.015204136585293718\n",
            "25 Subflow Bwd Packets: 0.01414279653295716\n",
            "26 Bwd Header Length: 0.010403417142850344\n"
          ]
        }
      ]
    },
    {
      "cell_type": "code",
      "source": [
        "del X_train_000, X_train_0000"
      ],
      "metadata": {
        "id": "W7IfaM_iY79Y"
      },
      "execution_count": 56,
      "outputs": []
    },
    {
      "cell_type": "code",
      "source": [
        "del X_test_0,X_test_00,X_test_000,X_test_0000"
      ],
      "metadata": {
        "id": "m_lHb7BJZbBA"
      },
      "execution_count": 58,
      "outputs": []
    },
    {
      "cell_type": "code",
      "source": [
        "# colect features until comulative importance is 0.9\n",
        "new_features = [] # list containing the new features names\n",
        "cum_imp = 0\n",
        "for i in range(0,len(feature_imp0000)): # for for the range of all features\n",
        "    if cum_imp < 0.9:\n",
        "        new_features.append(feature_imp0000.index[i])\n",
        "        cum_imp+= feature_imp0000[i]\n",
        "print(new_features)\n",
        "# save the new data frame\n",
        "X_train_00000 = X_train[new_features]\n",
        "X_test_00000 = X_test[new_features]"
      ],
      "metadata": {
        "colab": {
          "base_uri": "https://localhost:8080/"
        },
        "id": "JlHCXwj6ZD2R",
        "outputId": "5a211304-d5e2-42de-f61c-578b27b50bf0"
      },
      "execution_count": 57,
      "outputs": [
        {
          "output_type": "stream",
          "name": "stdout",
          "text": [
            "['Bwd Packet Length Max', 'Packet Length Std', 'Subflow Bwd Bytes', 'Subflow Fwd Bytes', 'Packet Length Mean', 'Total Length of Bwd Packets', 'Destination Port', 'Average Packet Size', 'Bwd Packet Length Mean', 'Packet Length Variance', 'Init_Win_bytes_forward', 'Bwd Packet Length Std', 'Fwd IAT Std', 'Avg Bwd Segment Size', 'Fwd Header Length', 'Total Length of Fwd Packets', 'Fwd Packet Length Max', 'Avg Fwd Segment Size', 'Fwd Header Length.1', 'Subflow Fwd Packets', 'Bwd Packets/s']\n"
          ]
        }
      ]
    },
    {
      "cell_type": "code",
      "source": [
        "# Train again and predict\n",
        "# Scale and Run again the classification training task\n",
        "scaler.fit(X_train_00000)\n",
        "x_train_00000 = scaler.transform(X_train_00000)\n",
        "x_test_00000 = scaler.transform(X_test_00000)"
      ],
      "metadata": {
        "id": "bElQE2WaZP34"
      },
      "execution_count": 59,
      "outputs": []
    },
    {
      "cell_type": "code",
      "source": [
        "del x_train_0,x_train_00,x_train_000,x_train_0000"
      ],
      "metadata": {
        "id": "VY5kCiZLZrHI"
      },
      "execution_count": 60,
      "outputs": []
    },
    {
      "cell_type": "code",
      "source": [
        "rf6 = RandomForestClassifier(n_estimators=20, max_depth=None,\n",
        "                                 bootstrap=False, n_jobs=-1,\n",
        "                                 random_state=0,verbose=2)\n",
        "rf6.fit(x_train_00000, y_train)"
      ],
      "metadata": {
        "colab": {
          "base_uri": "https://localhost:8080/",
          "height": 474
        },
        "id": "onQ_NixQZ2fx",
        "outputId": "4bb6c1bc-7669-48cf-de3d-46985e4c0534"
      },
      "execution_count": 63,
      "outputs": [
        {
          "output_type": "stream",
          "name": "stderr",
          "text": [
            "[Parallel(n_jobs=-1)]: Using backend ThreadingBackend with 2 concurrent workers.\n"
          ]
        },
        {
          "output_type": "stream",
          "name": "stdout",
          "text": [
            "building tree 1 of 20building tree 2 of 20\n",
            "\n",
            "building tree 3 of 20\n",
            "building tree 4 of 20\n",
            "building tree 5 of 20\n",
            "building tree 6 of 20\n",
            "building tree 7 of 20\n",
            "building tree 8 of 20\n",
            "building tree 9 of 20\n",
            "building tree 10 of 20\n",
            "building tree 11 of 20\n",
            "building tree 12 of 20\n",
            "building tree 13 of 20\n",
            "building tree 14 of 20\n",
            "building tree 15 of 20\n",
            "building tree 16 of 20\n",
            "building tree 17 of 20\n",
            "building tree 18 of 20\n",
            "building tree 19 of 20\n",
            "building tree 20 of 20\n"
          ]
        },
        {
          "output_type": "stream",
          "name": "stderr",
          "text": [
            "[Parallel(n_jobs=-1)]: Done  20 out of  20 | elapsed:  3.0min finished\n"
          ]
        },
        {
          "output_type": "execute_result",
          "data": {
            "text/plain": [
              "RandomForestClassifier(bootstrap=False, n_estimators=20, n_jobs=-1,\n",
              "                       random_state=0, verbose=2)"
            ],
            "text/html": [
              "<style>#sk-container-id-7 {color: black;background-color: white;}#sk-container-id-7 pre{padding: 0;}#sk-container-id-7 div.sk-toggleable {background-color: white;}#sk-container-id-7 label.sk-toggleable__label {cursor: pointer;display: block;width: 100%;margin-bottom: 0;padding: 0.3em;box-sizing: border-box;text-align: center;}#sk-container-id-7 label.sk-toggleable__label-arrow:before {content: \"▸\";float: left;margin-right: 0.25em;color: #696969;}#sk-container-id-7 label.sk-toggleable__label-arrow:hover:before {color: black;}#sk-container-id-7 div.sk-estimator:hover label.sk-toggleable__label-arrow:before {color: black;}#sk-container-id-7 div.sk-toggleable__content {max-height: 0;max-width: 0;overflow: hidden;text-align: left;background-color: #f0f8ff;}#sk-container-id-7 div.sk-toggleable__content pre {margin: 0.2em;color: black;border-radius: 0.25em;background-color: #f0f8ff;}#sk-container-id-7 input.sk-toggleable__control:checked~div.sk-toggleable__content {max-height: 200px;max-width: 100%;overflow: auto;}#sk-container-id-7 input.sk-toggleable__control:checked~label.sk-toggleable__label-arrow:before {content: \"▾\";}#sk-container-id-7 div.sk-estimator input.sk-toggleable__control:checked~label.sk-toggleable__label {background-color: #d4ebff;}#sk-container-id-7 div.sk-label input.sk-toggleable__control:checked~label.sk-toggleable__label {background-color: #d4ebff;}#sk-container-id-7 input.sk-hidden--visually {border: 0;clip: rect(1px 1px 1px 1px);clip: rect(1px, 1px, 1px, 1px);height: 1px;margin: -1px;overflow: hidden;padding: 0;position: absolute;width: 1px;}#sk-container-id-7 div.sk-estimator {font-family: monospace;background-color: #f0f8ff;border: 1px dotted black;border-radius: 0.25em;box-sizing: border-box;margin-bottom: 0.5em;}#sk-container-id-7 div.sk-estimator:hover {background-color: #d4ebff;}#sk-container-id-7 div.sk-parallel-item::after {content: \"\";width: 100%;border-bottom: 1px solid gray;flex-grow: 1;}#sk-container-id-7 div.sk-label:hover label.sk-toggleable__label {background-color: #d4ebff;}#sk-container-id-7 div.sk-serial::before {content: \"\";position: absolute;border-left: 1px solid gray;box-sizing: border-box;top: 0;bottom: 0;left: 50%;z-index: 0;}#sk-container-id-7 div.sk-serial {display: flex;flex-direction: column;align-items: center;background-color: white;padding-right: 0.2em;padding-left: 0.2em;position: relative;}#sk-container-id-7 div.sk-item {position: relative;z-index: 1;}#sk-container-id-7 div.sk-parallel {display: flex;align-items: stretch;justify-content: center;background-color: white;position: relative;}#sk-container-id-7 div.sk-item::before, #sk-container-id-7 div.sk-parallel-item::before {content: \"\";position: absolute;border-left: 1px solid gray;box-sizing: border-box;top: 0;bottom: 0;left: 50%;z-index: -1;}#sk-container-id-7 div.sk-parallel-item {display: flex;flex-direction: column;z-index: 1;position: relative;background-color: white;}#sk-container-id-7 div.sk-parallel-item:first-child::after {align-self: flex-end;width: 50%;}#sk-container-id-7 div.sk-parallel-item:last-child::after {align-self: flex-start;width: 50%;}#sk-container-id-7 div.sk-parallel-item:only-child::after {width: 0;}#sk-container-id-7 div.sk-dashed-wrapped {border: 1px dashed gray;margin: 0 0.4em 0.5em 0.4em;box-sizing: border-box;padding-bottom: 0.4em;background-color: white;}#sk-container-id-7 div.sk-label label {font-family: monospace;font-weight: bold;display: inline-block;line-height: 1.2em;}#sk-container-id-7 div.sk-label-container {text-align: center;}#sk-container-id-7 div.sk-container {/* jupyter's `normalize.less` sets `[hidden] { display: none; }` but bootstrap.min.css set `[hidden] { display: none !important; }` so we also need the `!important` here to be able to override the default hidden behavior on the sphinx rendered scikit-learn.org. See: https://github.com/scikit-learn/scikit-learn/issues/21755 */display: inline-block !important;position: relative;}#sk-container-id-7 div.sk-text-repr-fallback {display: none;}</style><div id=\"sk-container-id-7\" class=\"sk-top-container\"><div class=\"sk-text-repr-fallback\"><pre>RandomForestClassifier(bootstrap=False, n_estimators=20, n_jobs=-1,\n",
              "                       random_state=0, verbose=2)</pre><b>In a Jupyter environment, please rerun this cell to show the HTML representation or trust the notebook. <br />On GitHub, the HTML representation is unable to render, please try loading this page with nbviewer.org.</b></div><div class=\"sk-container\" hidden><div class=\"sk-item\"><div class=\"sk-estimator sk-toggleable\"><input class=\"sk-toggleable__control sk-hidden--visually\" id=\"sk-estimator-id-7\" type=\"checkbox\" checked><label for=\"sk-estimator-id-7\" class=\"sk-toggleable__label sk-toggleable__label-arrow\">RandomForestClassifier</label><div class=\"sk-toggleable__content\"><pre>RandomForestClassifier(bootstrap=False, n_estimators=20, n_jobs=-1,\n",
              "                       random_state=0, verbose=2)</pre></div></div></div></div></div>"
            ]
          },
          "metadata": {},
          "execution_count": 63
        }
      ]
    },
    {
      "cell_type": "code",
      "source": [
        "y_pred = rf6.predict(x_test_00000) # change to x_test_0\n",
        "from sklearn.metrics import accuracy_score\n",
        "accuracy = accuracy_score(y_test, y_pred)\n",
        "print(\"Accuracy:\", accuracy)"
      ],
      "metadata": {
        "colab": {
          "base_uri": "https://localhost:8080/"
        },
        "id": "ntqlYpzIaBUY",
        "outputId": "30e50589-33ff-4087-a572-fff87088f62c"
      },
      "execution_count": 64,
      "outputs": [
        {
          "output_type": "stream",
          "name": "stderr",
          "text": [
            "[Parallel(n_jobs=2)]: Using backend ThreadingBackend with 2 concurrent workers.\n"
          ]
        },
        {
          "output_type": "stream",
          "name": "stdout",
          "text": [
            "Accuracy: 0.9979317355436526\n"
          ]
        },
        {
          "output_type": "stream",
          "name": "stderr",
          "text": [
            "[Parallel(n_jobs=2)]: Done  20 out of  20 | elapsed:    2.4s finished\n"
          ]
        }
      ]
    },
    {
      "cell_type": "code",
      "source": [
        "# Perform again to see feature importance\n",
        "feature_imp00000 = pd.Series(rf6.feature_importances_,\n",
        "                        index=X_train_00000.columns).sort_values(ascending=False)"
      ],
      "metadata": {
        "id": "3-tRJuWfaMUB"
      },
      "execution_count": 65,
      "outputs": []
    },
    {
      "cell_type": "code",
      "source": [
        "for i in range(0,len(feature_imp00000)):\n",
        "    print(i,end =\" \")\n",
        "    print(feature_imp00000.index[i],end = \": \")\n",
        "    print(feature_imp00000[i])"
      ],
      "metadata": {
        "colab": {
          "base_uri": "https://localhost:8080/"
        },
        "id": "Vq1Fsgpibrl5",
        "outputId": "8ba32781-3836-4d81-8090-11443a572c98"
      },
      "execution_count": 66,
      "outputs": [
        {
          "output_type": "stream",
          "name": "stdout",
          "text": [
            "0 Packet Length Variance: 0.10392745199250686\n",
            "1 Total Length of Fwd Packets: 0.08093599570275384\n",
            "2 Packet Length Std: 0.07245995491228212\n",
            "3 Subflow Fwd Bytes: 0.0698456542037804\n",
            "4 Average Packet Size: 0.06294193011632401\n",
            "5 Avg Bwd Segment Size: 0.06146021164043971\n",
            "6 Fwd Packet Length Max: 0.059937621506363205\n",
            "7 Init_Win_bytes_forward: 0.05674415553256137\n",
            "8 Bwd Packet Length Mean: 0.054927803723317306\n",
            "9 Destination Port: 0.054342964176528896\n",
            "10 Subflow Bwd Bytes: 0.04822314586800956\n",
            "11 Packet Length Mean: 0.04542863429219502\n",
            "12 Bwd Packet Length Std: 0.03939930700083817\n",
            "13 Bwd Packet Length Max: 0.029036810244033345\n",
            "14 Subflow Fwd Packets: 0.028898057917442647\n",
            "15 Total Length of Bwd Packets: 0.028229189699460016\n",
            "16 Fwd Header Length: 0.025011241712762745\n",
            "17 Bwd Packets/s: 0.024750951185579857\n",
            "18 Fwd Header Length.1: 0.022840858507839852\n",
            "19 Avg Fwd Segment Size: 0.016612576656145708\n",
            "20 Fwd IAT Std: 0.014045483408835352\n"
          ]
        }
      ]
    },
    {
      "cell_type": "code",
      "source": [
        "# colect features until comulative importance is 0.9\n",
        "new_features = [] # list containing the new features names\n",
        "cum_imp = 0\n",
        "for i in range(0,len(feature_imp00000)): # for for the range of all features\n",
        "    if cum_imp < 0.9:\n",
        "        new_features.append(feature_imp00000.index[i])\n",
        "        cum_imp+= feature_imp00000[i]\n",
        "print(new_features)\n",
        "# save the new data frame\n",
        "X_train_000000 = X_train[new_features]\n",
        "X_test_000000 = X_test[new_features]"
      ],
      "metadata": {
        "colab": {
          "base_uri": "https://localhost:8080/"
        },
        "id": "L1ePtylZbv2J",
        "outputId": "d5855d48-5b4f-4735-eb57-7ac1fbe7bab7"
      },
      "execution_count": 81,
      "outputs": [
        {
          "output_type": "stream",
          "name": "stdout",
          "text": [
            "['Packet Length Variance', 'Total Length of Fwd Packets', 'Packet Length Std', 'Subflow Fwd Bytes', 'Average Packet Size', 'Avg Bwd Segment Size', 'Fwd Packet Length Max', 'Init_Win_bytes_forward', 'Bwd Packet Length Mean', 'Destination Port', 'Subflow Bwd Bytes', 'Packet Length Mean', 'Bwd Packet Length Std', 'Bwd Packet Length Max', 'Subflow Fwd Packets', 'Total Length of Bwd Packets', 'Fwd Header Length']\n"
          ]
        }
      ]
    },
    {
      "cell_type": "code",
      "source": [
        "# Train again and predict\n",
        "# Scale and Run again the classification training task\n",
        "scaler.fit(X_train_000000)\n",
        "x_train_000000 = scaler.transform(X_train_000000)\n",
        "x_test_000000 = scaler.transform(X_test_000000)"
      ],
      "metadata": {
        "id": "tnvlA8Wtb7SQ"
      },
      "execution_count": 82,
      "outputs": []
    },
    {
      "cell_type": "code",
      "source": [
        "rf7 = RandomForestClassifier(n_estimators=20, max_depth=None,\n",
        "                                 bootstrap=False, n_jobs=-1,\n",
        "                                 random_state=0,verbose=2)\n",
        "rf7.fit(x_train_000000, y_train)"
      ],
      "metadata": {
        "colab": {
          "base_uri": "https://localhost:8080/",
          "height": 474
        },
        "id": "ifmJA-ZUcBRJ",
        "outputId": "1733f8ff-2b5d-4c53-aeba-a759e85077f4"
      },
      "execution_count": 69,
      "outputs": [
        {
          "output_type": "stream",
          "name": "stderr",
          "text": [
            "[Parallel(n_jobs=-1)]: Using backend ThreadingBackend with 2 concurrent workers.\n"
          ]
        },
        {
          "output_type": "stream",
          "name": "stdout",
          "text": [
            "building tree 1 of 20\n",
            "building tree 2 of 20\n",
            "building tree 3 of 20\n",
            "building tree 4 of 20\n",
            "building tree 5 of 20\n",
            "building tree 6 of 20\n",
            "building tree 7 of 20\n",
            "building tree 8 of 20\n",
            "building tree 9 of 20\n",
            "building tree 10 of 20\n",
            "building tree 11 of 20\n",
            "building tree 12 of 20\n",
            "building tree 13 of 20\n",
            "building tree 14 of 20\n",
            "building tree 15 of 20\n",
            "building tree 16 of 20\n",
            "building tree 17 of 20\n",
            "building tree 18 of 20\n",
            "building tree 19 of 20\n",
            "building tree 20 of 20\n"
          ]
        },
        {
          "output_type": "stream",
          "name": "stderr",
          "text": [
            "[Parallel(n_jobs=-1)]: Done  20 out of  20 | elapsed:  2.8min finished\n"
          ]
        },
        {
          "output_type": "execute_result",
          "data": {
            "text/plain": [
              "RandomForestClassifier(bootstrap=False, n_estimators=20, n_jobs=-1,\n",
              "                       random_state=0, verbose=2)"
            ],
            "text/html": [
              "<style>#sk-container-id-8 {color: black;background-color: white;}#sk-container-id-8 pre{padding: 0;}#sk-container-id-8 div.sk-toggleable {background-color: white;}#sk-container-id-8 label.sk-toggleable__label {cursor: pointer;display: block;width: 100%;margin-bottom: 0;padding: 0.3em;box-sizing: border-box;text-align: center;}#sk-container-id-8 label.sk-toggleable__label-arrow:before {content: \"▸\";float: left;margin-right: 0.25em;color: #696969;}#sk-container-id-8 label.sk-toggleable__label-arrow:hover:before {color: black;}#sk-container-id-8 div.sk-estimator:hover label.sk-toggleable__label-arrow:before {color: black;}#sk-container-id-8 div.sk-toggleable__content {max-height: 0;max-width: 0;overflow: hidden;text-align: left;background-color: #f0f8ff;}#sk-container-id-8 div.sk-toggleable__content pre {margin: 0.2em;color: black;border-radius: 0.25em;background-color: #f0f8ff;}#sk-container-id-8 input.sk-toggleable__control:checked~div.sk-toggleable__content {max-height: 200px;max-width: 100%;overflow: auto;}#sk-container-id-8 input.sk-toggleable__control:checked~label.sk-toggleable__label-arrow:before {content: \"▾\";}#sk-container-id-8 div.sk-estimator input.sk-toggleable__control:checked~label.sk-toggleable__label {background-color: #d4ebff;}#sk-container-id-8 div.sk-label input.sk-toggleable__control:checked~label.sk-toggleable__label {background-color: #d4ebff;}#sk-container-id-8 input.sk-hidden--visually {border: 0;clip: rect(1px 1px 1px 1px);clip: rect(1px, 1px, 1px, 1px);height: 1px;margin: -1px;overflow: hidden;padding: 0;position: absolute;width: 1px;}#sk-container-id-8 div.sk-estimator {font-family: monospace;background-color: #f0f8ff;border: 1px dotted black;border-radius: 0.25em;box-sizing: border-box;margin-bottom: 0.5em;}#sk-container-id-8 div.sk-estimator:hover {background-color: #d4ebff;}#sk-container-id-8 div.sk-parallel-item::after {content: \"\";width: 100%;border-bottom: 1px solid gray;flex-grow: 1;}#sk-container-id-8 div.sk-label:hover label.sk-toggleable__label {background-color: #d4ebff;}#sk-container-id-8 div.sk-serial::before {content: \"\";position: absolute;border-left: 1px solid gray;box-sizing: border-box;top: 0;bottom: 0;left: 50%;z-index: 0;}#sk-container-id-8 div.sk-serial {display: flex;flex-direction: column;align-items: center;background-color: white;padding-right: 0.2em;padding-left: 0.2em;position: relative;}#sk-container-id-8 div.sk-item {position: relative;z-index: 1;}#sk-container-id-8 div.sk-parallel {display: flex;align-items: stretch;justify-content: center;background-color: white;position: relative;}#sk-container-id-8 div.sk-item::before, #sk-container-id-8 div.sk-parallel-item::before {content: \"\";position: absolute;border-left: 1px solid gray;box-sizing: border-box;top: 0;bottom: 0;left: 50%;z-index: -1;}#sk-container-id-8 div.sk-parallel-item {display: flex;flex-direction: column;z-index: 1;position: relative;background-color: white;}#sk-container-id-8 div.sk-parallel-item:first-child::after {align-self: flex-end;width: 50%;}#sk-container-id-8 div.sk-parallel-item:last-child::after {align-self: flex-start;width: 50%;}#sk-container-id-8 div.sk-parallel-item:only-child::after {width: 0;}#sk-container-id-8 div.sk-dashed-wrapped {border: 1px dashed gray;margin: 0 0.4em 0.5em 0.4em;box-sizing: border-box;padding-bottom: 0.4em;background-color: white;}#sk-container-id-8 div.sk-label label {font-family: monospace;font-weight: bold;display: inline-block;line-height: 1.2em;}#sk-container-id-8 div.sk-label-container {text-align: center;}#sk-container-id-8 div.sk-container {/* jupyter's `normalize.less` sets `[hidden] { display: none; }` but bootstrap.min.css set `[hidden] { display: none !important; }` so we also need the `!important` here to be able to override the default hidden behavior on the sphinx rendered scikit-learn.org. See: https://github.com/scikit-learn/scikit-learn/issues/21755 */display: inline-block !important;position: relative;}#sk-container-id-8 div.sk-text-repr-fallback {display: none;}</style><div id=\"sk-container-id-8\" class=\"sk-top-container\"><div class=\"sk-text-repr-fallback\"><pre>RandomForestClassifier(bootstrap=False, n_estimators=20, n_jobs=-1,\n",
              "                       random_state=0, verbose=2)</pre><b>In a Jupyter environment, please rerun this cell to show the HTML representation or trust the notebook. <br />On GitHub, the HTML representation is unable to render, please try loading this page with nbviewer.org.</b></div><div class=\"sk-container\" hidden><div class=\"sk-item\"><div class=\"sk-estimator sk-toggleable\"><input class=\"sk-toggleable__control sk-hidden--visually\" id=\"sk-estimator-id-8\" type=\"checkbox\" checked><label for=\"sk-estimator-id-8\" class=\"sk-toggleable__label sk-toggleable__label-arrow\">RandomForestClassifier</label><div class=\"sk-toggleable__content\"><pre>RandomForestClassifier(bootstrap=False, n_estimators=20, n_jobs=-1,\n",
              "                       random_state=0, verbose=2)</pre></div></div></div></div></div>"
            ]
          },
          "metadata": {},
          "execution_count": 69
        }
      ]
    },
    {
      "cell_type": "code",
      "source": [
        "y_pred = rf7.predict(x_test_000000) # change to x_test_0\n",
        "from sklearn.metrics import accuracy_score\n",
        "accuracy = accuracy_score(y_test, y_pred)\n",
        "print(\"Accuracy:\", accuracy)"
      ],
      "metadata": {
        "colab": {
          "base_uri": "https://localhost:8080/"
        },
        "id": "3MJ1vKAJcGNq",
        "outputId": "67051dec-e94a-43d7-fa42-143ce334d68d"
      },
      "execution_count": 70,
      "outputs": [
        {
          "output_type": "stream",
          "name": "stderr",
          "text": [
            "[Parallel(n_jobs=2)]: Using backend ThreadingBackend with 2 concurrent workers.\n"
          ]
        },
        {
          "output_type": "stream",
          "name": "stdout",
          "text": [
            "Accuracy: 0.9980803065253939\n"
          ]
        },
        {
          "output_type": "stream",
          "name": "stderr",
          "text": [
            "[Parallel(n_jobs=2)]: Done  20 out of  20 | elapsed:    1.7s finished\n"
          ]
        }
      ]
    },
    {
      "cell_type": "code",
      "source": [
        "save_dataframe(x_train_000000,y_train,x_test_000000,y_test,new_features,\"17_features\")"
      ],
      "metadata": {
        "colab": {
          "base_uri": "https://localhost:8080/"
        },
        "id": "9YL6X16LeRxi",
        "outputId": "7c8044a9-e673-4daa-986f-7d5c529f846e"
      },
      "execution_count": 83,
      "outputs": [
        {
          "output_type": "stream",
          "name": "stdout",
          "text": [
            "Train dataset Saved\n",
            "Test dataset Saved\n"
          ]
        }
      ]
    },
    {
      "cell_type": "code",
      "source": [
        "# Perform again to see feature importance\n",
        "feature_imp000000 = pd.Series(rf7.feature_importances_,\n",
        "                        index=X_train_000000.columns).sort_values(ascending=False)"
      ],
      "metadata": {
        "id": "ypDxtL_jcKRx"
      },
      "execution_count": 72,
      "outputs": []
    },
    {
      "cell_type": "code",
      "source": [
        "for i in range(0,len(feature_imp000000)):\n",
        "    print(i,end =\" \")\n",
        "    print(feature_imp000000.index[i],end = \": \")\n",
        "    print(feature_imp000000[i])"
      ],
      "metadata": {
        "colab": {
          "base_uri": "https://localhost:8080/"
        },
        "id": "vA1z4MzDcNSR",
        "outputId": "5ee1dfa4-3116-40f2-f791-7aeb5de0d1d3"
      },
      "execution_count": 73,
      "outputs": [
        {
          "output_type": "stream",
          "name": "stdout",
          "text": [
            "0 Packet Length Std: 0.0919402958288149\n",
            "1 Average Packet Size: 0.08788152265314116\n",
            "2 Bwd Packet Length Mean: 0.08120767757539181\n",
            "3 Bwd Packet Length Std: 0.07794444141001207\n",
            "4 Avg Bwd Segment Size: 0.07573977420783362\n",
            "5 Fwd Packet Length Max: 0.07469786193470355\n",
            "6 Destination Port: 0.07452388262703372\n",
            "7 Total Length of Fwd Packets: 0.05617642864451986\n",
            "8 Init_Win_bytes_forward: 0.05550652377979314\n",
            "9 Subflow Fwd Bytes: 0.05544749152571902\n",
            "10 Subflow Fwd Packets: 0.04715078436290879\n",
            "11 Fwd Header Length: 0.04509582848337449\n",
            "12 Packet Length Mean: 0.04269620571621673\n",
            "13 Total Length of Bwd Packets: 0.042693629160767514\n",
            "14 Subflow Bwd Bytes: 0.03814966620330023\n",
            "15 Bwd Packet Length Max: 0.027664702151449273\n",
            "16 Packet Length Variance: 0.02548328373502027\n"
          ]
        }
      ]
    },
    {
      "cell_type": "code",
      "source": [
        "new_features = [] # list containing the new features names\n",
        "for i in range(0,len(feature_imp000000)): # for for the range of all features\n",
        "    if feature_imp000000[i] > 0.05: # check if importance is over the threshold\n",
        "        new_features.append(feature_imp000000.index[i])\n",
        "print(new_features)\n",
        "# save the new data frame\n",
        "X_train_0000000 = X_train[new_features]\n",
        "X_test_0000000 = X_test[new_features]"
      ],
      "metadata": {
        "colab": {
          "base_uri": "https://localhost:8080/"
        },
        "id": "s6qtVroUcTUL",
        "outputId": "7a52e2d2-386b-4bc8-8914-e9d31ba0e676"
      },
      "execution_count": 76,
      "outputs": [
        {
          "output_type": "stream",
          "name": "stdout",
          "text": [
            "['Packet Length Std', 'Average Packet Size', 'Bwd Packet Length Mean', 'Bwd Packet Length Std', 'Avg Bwd Segment Size', 'Fwd Packet Length Max', 'Destination Port', 'Total Length of Fwd Packets', 'Init_Win_bytes_forward', 'Subflow Fwd Bytes']\n"
          ]
        }
      ]
    },
    {
      "cell_type": "code",
      "source": [
        "# Train again and predict\n",
        "# Scale and Run again the classification training task\n",
        "scaler.fit(X_train_0000000)\n",
        "x_train_0000000 = scaler.transform(X_train_0000000)\n",
        "x_test_0000000 = scaler.transform(X_test_0000000)"
      ],
      "metadata": {
        "id": "f0EIGK0ydvlU"
      },
      "execution_count": 77,
      "outputs": []
    },
    {
      "cell_type": "code",
      "source": [
        "save_dataframe(x_train_0000000,y_train,x_test_0000000,y_test,new_features,\"10_features\")"
      ],
      "metadata": {
        "colab": {
          "base_uri": "https://localhost:8080/"
        },
        "id": "N16wIGm_e3Fa",
        "outputId": "6a4ff611-3e5d-4aa8-d502-0a76fc68e40d"
      },
      "execution_count": 80,
      "outputs": [
        {
          "output_type": "stream",
          "name": "stdout",
          "text": [
            "Train dataset Saved\n",
            "Test dataset Saved\n"
          ]
        }
      ]
    }
  ],
  "metadata": {
    "colab": {
      "provenance": []
    },
    "kernelspec": {
      "display_name": "Python 3",
      "name": "python3"
    },
    "language_info": {
      "name": "python"
    }
  },
  "nbformat": 4,
  "nbformat_minor": 0
}