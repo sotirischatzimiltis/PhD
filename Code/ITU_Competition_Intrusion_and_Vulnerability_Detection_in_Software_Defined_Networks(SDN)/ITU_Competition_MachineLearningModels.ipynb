{
  "nbformat": 4,
  "nbformat_minor": 0,
  "metadata": {
    "colab": {
      "provenance": []
    },
    "kernelspec": {
      "name": "python3",
      "display_name": "Python 3"
    },
    "language_info": {
      "name": "python"
    }
  },
  "cells": [
    {
      "cell_type": "code",
      "execution_count": 1,
      "metadata": {
        "colab": {
          "base_uri": "https://localhost:8080/"
        },
        "id": "6akR3YhaIVo5",
        "outputId": "bb3d9c43-979d-401a-8284-1f2b7dbe51d1"
      },
      "outputs": [
        {
          "output_type": "stream",
          "name": "stdout",
          "text": [
            "Mounted at /content/drive\n"
          ]
        }
      ],
      "source": [
        "# mount drive\n",
        "from google.colab import drive\n",
        "drive.mount('/content/drive')"
      ]
    },
    {
      "cell_type": "code",
      "source": [
        "import numpy as np\n",
        "import pandas as pd"
      ],
      "metadata": {
        "id": "xv9mzeJTIYkU"
      },
      "execution_count": 2,
      "outputs": []
    },
    {
      "cell_type": "markdown",
      "source": [
        "# Read Dataset"
      ],
      "metadata": {
        "id": "1q5d8I18Ig8s"
      }
    },
    {
      "cell_type": "code",
      "source": [
        "train_file_path = '/content/drive/MyDrive/ITU_Competition_Intrusion_and_Vulnerability_Detection_in_Software_Defined_Networks(SDN)/train_data.csv'\n",
        "test_file_path = '/content/drive/MyDrive/ITU_Competition_Intrusion_and_Vulnerability_Detection_in_Software_Defined_Networks(SDN)/test_data.csv'\n",
        "\n",
        "train_df = pd.read_csv(train_file_path,skipinitialspace=True)\n",
        "test_df = pd.read_csv(test_file_path,skipinitialspace=True)"
      ],
      "metadata": {
        "id": "SskRyKAOIjwE"
      },
      "execution_count": 3,
      "outputs": []
    },
    {
      "cell_type": "code",
      "source": [
        "#Split data into X(input features) and Y (labels)\n",
        "X_train = train_df.drop(train_df.columns[-15:], axis=1)\n",
        "y_train = train_df[train_df.columns[-15:]]\n",
        "\n",
        "X_test = test_df.drop(test_df.columns[-15:], axis=1)\n",
        "y_test = test_df[test_df.columns[-15:]]"
      ],
      "metadata": {
        "id": "7cLEFZ2SIzet"
      },
      "execution_count": 4,
      "outputs": []
    },
    {
      "cell_type": "markdown",
      "source": [
        "# Decision Tree"
      ],
      "metadata": {
        "id": "gAxlTslTJOSk"
      }
    },
    {
      "cell_type": "code",
      "source": [
        "print(\"Records deleted in training dataset:\",train_df.isnull().sum().sum())\n",
        "print(\"Records deleted in test dataset:\", test_df.isnull().sum().sum())"
      ],
      "metadata": {
        "colab": {
          "base_uri": "https://localhost:8080/"
        },
        "id": "52OonyxAKclW",
        "outputId": "79d530b3-12c4-47f7-ad03-b6f3531cef37"
      },
      "execution_count": 5,
      "outputs": [
        {
          "output_type": "stream",
          "name": "stdout",
          "text": [
            "Records deleted in training dataset: 0\n",
            "Records deleted in test dataset: 0\n"
          ]
        }
      ]
    },
    {
      "cell_type": "code",
      "source": [
        "from sklearn import tree\n",
        "clf = tree.DecisionTreeClassifier()\n",
        "clf = clf.fit(X_train, y_train)"
      ],
      "metadata": {
        "id": "OPsRO5OVJNy8"
      },
      "execution_count": null,
      "outputs": []
    },
    {
      "cell_type": "markdown",
      "source": [
        "# Random Forest"
      ],
      "metadata": {
        "id": "q6NF_9jOJQqM"
      }
    },
    {
      "cell_type": "code",
      "source": [],
      "metadata": {
        "id": "a3L_UvsQJSDU"
      },
      "execution_count": null,
      "outputs": []
    }
  ]
}