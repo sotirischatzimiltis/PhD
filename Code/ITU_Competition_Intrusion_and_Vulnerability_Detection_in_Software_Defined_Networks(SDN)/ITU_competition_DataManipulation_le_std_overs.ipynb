{
  "cells": [
    {
      "cell_type": "markdown",
      "source": [
        "# Preliminary functions"
      ],
      "metadata": {
        "id": "1-gjA3pXuzAb"
      }
    },
    {
      "cell_type": "code",
      "source": [
        "# mount drive\n",
        "from google.colab import drive\n",
        "drive.mount('/content/drive')"
      ],
      "metadata": {
        "colab": {
          "base_uri": "https://localhost:8080/"
        },
        "id": "fdfYsZrWOcmb",
        "outputId": "1f902ccc-3114-4100-c745-e48ad5e5e7b8"
      },
      "execution_count": 19,
      "outputs": [
        {
          "output_type": "stream",
          "name": "stdout",
          "text": [
            "Drive already mounted at /content/drive; to attempt to forcibly remount, call drive.mount(\"/content/drive\", force_remount=True).\n"
          ]
        }
      ]
    },
    {
      "cell_type": "code",
      "execution_count": 20,
      "metadata": {
        "id": "nYsSmUzvKufB"
      },
      "outputs": [],
      "source": [
        "import numpy as np\n",
        "import pandas as pd\n",
        "import seaborn as sns\n",
        "import matplotlib.pyplot as plt\n",
        "from sklearn import preprocessing\n",
        "from sklearn.preprocessing import LabelEncoder\n",
        "from sklearn.feature_selection import RFE\n",
        "from sklearn.model_selection import KFold\n",
        "# use Stratified KFold instead to maintain proportions of each class in the folds\n",
        "from sklearn.model_selection import StratifiedKFold\n",
        "from sklearn.metrics import accuracy_score\n",
        "from sklearn.ensemble import RandomForestClassifier\n",
        "from imblearn.over_sampling import SMOTE"
      ]
    },
    {
      "cell_type": "code",
      "source": [
        "def save_dataframe(x_train,y_train,x_test,y_test,features,name):\n",
        "    # Save the final dataset with the 23 features\n",
        "    X_train = pd.DataFrame(x_train)\n",
        "    X_train.columns= features\n",
        "    Y_train = pd.DataFrame(y_train)\n",
        "    train_frame = [X_train,Y_train]\n",
        "    train_final = pd.concat(train_frame,axis=1)\n",
        "    train_final.to_csv('/content/drive/MyDrive/ITU_Competition_Intrusion_and_Vulnerability_Detection_in_Software_Defined_Networks(SDN)/train_data_' + name +'.csv',index = False)\n",
        "    print(\"Train dataset Saved\")\n",
        "\n",
        "    # Save test data set as well\n",
        "    X_test = pd.DataFrame(x_test)\n",
        "    X_test.columns= features\n",
        "    Y_test = pd.DataFrame(y_test)\n",
        "    test_frame = [X_test,Y_test]\n",
        "    test_final = pd.concat(test_frame,axis=1)\n",
        "    test_final.to_csv('/content/drive/MyDrive/ITU_Competition_Intrusion_and_Vulnerability_Detection_in_Software_Defined_Networks(SDN)/test_data_'+ name+'.csv',index = False)\n",
        "    print(\"Test dataset Saved\")"
      ],
      "metadata": {
        "id": "s0_WIFCpj36k"
      },
      "execution_count": 21,
      "outputs": []
    },
    {
      "cell_type": "markdown",
      "source": [
        "# Read Files and Basic Info"
      ],
      "metadata": {
        "id": "GlE35J9ATy_W"
      }
    },
    {
      "cell_type": "code",
      "execution_count": 22,
      "metadata": {
        "colab": {
          "base_uri": "https://localhost:8080/"
        },
        "id": "yMDOqmA6LkZP",
        "outputId": "61881fa3-a1e1-43b9-f71f-fd0fa54e32b9"
      },
      "outputs": [
        {
          "output_type": "stream",
          "name": "stdout",
          "text": [
            "Data loaded successfully!\n",
            "Train Data:\n",
            "   Destination Port  Flow Duration  Total Fwd Packets  Total Backward Packets  \\\n",
            "0                80       68855579                 10                       6   \n",
            "1                53            196                  2                       2   \n",
            "2               123            118                  2                       2   \n",
            "3                80         295657                  7                      10   \n",
            "4                80       15705351                  7                       5   \n",
            "\n",
            "   Total Length of Fwd Packets  Total Length of Bwd Packets  \\\n",
            "0                         1038                        11595   \n",
            "1                           70                          174   \n",
            "2                           96                           96   \n",
            "3                         1114                        15841   \n",
            "4                          407                          452   \n",
            "\n",
            "   Fwd Packet Length Max  Fwd Packet Length Min  Fwd Packet Length Mean  \\\n",
            "0                    346                      0              103.800000   \n",
            "1                     35                     35               35.000000   \n",
            "2                     48                     48               48.000000   \n",
            "3                   1084                      0              159.142857   \n",
            "4                    377                      0               58.142857   \n",
            "\n",
            "   Fwd Packet Length Std  ...  min_seg_size_forward  Active Mean  Active Std  \\\n",
            "0             167.133879  ...                    32        998.0         0.0   \n",
            "1               0.000000  ...                    32          0.0         0.0   \n",
            "2               0.000000  ...                    20          0.0         0.0   \n",
            "3             407.829796  ...                    20          0.0         0.0   \n",
            "4             140.620563  ...                    20     360718.0         0.0   \n",
            "\n",
            "   Active Max  Active Min   Idle Mean  Idle Std  Idle Max  Idle Min     Label  \n",
            "0         998         998  68300000.0       0.0  68300000  68300000  DoS Hulk  \n",
            "1           0           0         0.0       0.0         0         0    BENIGN  \n",
            "2           0           0         0.0       0.0         0         0    BENIGN  \n",
            "3           0           0         0.0       0.0         0         0    BENIGN  \n",
            "4      360718      360718   9767208.0       0.0   9767208   9767208    BENIGN  \n",
            "\n",
            "[5 rows x 79 columns]\n",
            "\n",
            "Test Data:\n",
            "   Destination Port  Flow Duration  Total Fwd Packets  Total Backward Packets  \\\n",
            "0                80            998                  2                       0   \n",
            "1                80       63111103                  7                       0   \n",
            "2                53            202                  2                       2   \n",
            "3                80              3                  2                       0   \n",
            "4              7200             37                  1                       1   \n",
            "\n",
            "   Total Length of Fwd Packets  Total Length of Bwd Packets  \\\n",
            "0                            0                            0   \n",
            "1                            0                            0   \n",
            "2                           98                          130   \n",
            "3                            0                            0   \n",
            "4                            0                            6   \n",
            "\n",
            "   Fwd Packet Length Max  Fwd Packet Length Min  Fwd Packet Length Mean  \\\n",
            "0                      0                      0                     0.0   \n",
            "1                      0                      0                     0.0   \n",
            "2                     49                     49                    49.0   \n",
            "3                      0                      0                     0.0   \n",
            "4                      0                      0                     0.0   \n",
            "\n",
            "   Fwd Packet Length Std  ...  min_seg_size_forward  Active Mean  Active Std  \\\n",
            "0                    0.0  ...                    32          0.0         0.0   \n",
            "1                    0.0  ...                    40    7015565.0         0.0   \n",
            "2                    0.0  ...                    20          0.0         0.0   \n",
            "3                    0.0  ...                    32          0.0         0.0   \n",
            "4                    0.0  ...                    40          0.0         0.0   \n",
            "\n",
            "   Active Max  Active Min   Idle Mean    Idle Std  Idle Max  Idle Min  \\\n",
            "0           0           0         0.0         0.0         0         0   \n",
            "1     7015565     7015565  18700000.0  12200000.0  32100000   8015910   \n",
            "2           0           0         0.0         0.0         0         0   \n",
            "3           0           0         0.0         0.0         0         0   \n",
            "4           0           0         0.0         0.0         0         0   \n",
            "\n",
            "              Label  \n",
            "0          DoS Hulk  \n",
            "1  DoS Slowhttptest  \n",
            "2            BENIGN  \n",
            "3          DoS Hulk  \n",
            "4          PortScan  \n",
            "\n",
            "[5 rows x 79 columns]\n"
          ]
        }
      ],
      "source": [
        "train_file_path = '/content/drive/MyDrive/ITU_Competition_Intrusion_and_Vulnerability_Detection_in_Software_Defined_Networks(SDN)/Train_ULAK.csv'\n",
        "test_file_path = '/content/drive/MyDrive/ITU_Competition_Intrusion_and_Vulnerability_Detection_in_Software_Defined_Networks(SDN)/Test_ULAK.csv'\n",
        "\n",
        "train_df = pd.read_csv(train_file_path,skipinitialspace=True)\n",
        "test_df = pd.read_csv(test_file_path,skipinitialspace=True)\n",
        "\n",
        "if train_df is not None and test_df is not None:\n",
        "    print(\"Data loaded successfully!\")\n",
        "    print(\"Train Data:\")\n",
        "    print(train_df.head())  # Display the first few rows of the train DataFrame\n",
        "    print(\"\\nTest Data:\")\n",
        "    print(test_df.head())   # Display the first few rows of the test DataFrame"
      ]
    },
    {
      "cell_type": "code",
      "source": [
        "# Print the sizes of train and test dataframes\n",
        "print(\"Shape of Training Dataset:\", train_df.shape)\n",
        "print(\"Shape of Testing Dataset:\", test_df.shape)"
      ],
      "metadata": {
        "colab": {
          "base_uri": "https://localhost:8080/"
        },
        "id": "jqEDE7YxAPJO",
        "outputId": "7fa69775-b5b2-46ee-e32e-d9f86c21fc8c"
      },
      "execution_count": 23,
      "outputs": [
        {
          "output_type": "stream",
          "name": "stdout",
          "text": [
            "Shape of Training Dataset: (1783356, 79)\n",
            "Shape of Testing Dataset: (512077, 79)\n"
          ]
        }
      ]
    },
    {
      "cell_type": "code",
      "source": [
        "# number of each label type train df\n",
        "train_df['Label'].value_counts()"
      ],
      "metadata": {
        "colab": {
          "base_uri": "https://localhost:8080/"
        },
        "id": "0DMNvhmYWOLw",
        "outputId": "ea126bd3-0fa6-44ef-a684-79f0b008b9c0"
      },
      "execution_count": 24,
      "outputs": [
        {
          "output_type": "execute_result",
          "data": {
            "text/plain": [
              "BENIGN                        1432050\n",
              "DoS Hulk                       145575\n",
              "PortScan                       100125\n",
              "DDoS                            80656\n",
              "DoS GoldenEye                    6484\n",
              "FTP-Patator                      5000\n",
              "SSH-Patator                      3714\n",
              "DoS slowloris                    3651\n",
              "DoS Slowhttptest                 3464\n",
              "Bot                              1238\n",
              "Web Attack � Brute Force          949\n",
              "Web Attack � XSS                  410\n",
              "Infiltration                       22\n",
              "Web Attack � Sql Injection         12\n",
              "Heartbleed                          6\n",
              "Name: Label, dtype: int64"
            ]
          },
          "metadata": {},
          "execution_count": 24
        }
      ]
    },
    {
      "cell_type": "code",
      "source": [
        "# number of each label type test df\n",
        "test_df['Label'].value_counts()"
      ],
      "metadata": {
        "colab": {
          "base_uri": "https://localhost:8080/"
        },
        "id": "GPGBmJJscib7",
        "outputId": "a75d770d-1e73-461f-9668-f7e1fcf9ca46"
      },
      "execution_count": 25,
      "outputs": [
        {
          "output_type": "execute_result",
          "data": {
            "text/plain": [
              "BENIGN                        411203\n",
              "DoS Hulk                       41801\n",
              "PortScan                       28751\n",
              "DDoS                           23160\n",
              "DoS GoldenEye                   1861\n",
              "FTP-Patator                     1436\n",
              "SSH-Patator                     1067\n",
              "DoS slowloris                   1048\n",
              "DoS Slowhttptest                 994\n",
              "Bot                              355\n",
              "Web Attack � Brute Force         272\n",
              "Web Attack � XSS                 117\n",
              "Infiltration                       6\n",
              "Web Attack � Sql Injection         4\n",
              "Heartbleed                         2\n",
              "Name: Label, dtype: int64"
            ]
          },
          "metadata": {},
          "execution_count": 25
        }
      ]
    },
    {
      "cell_type": "markdown",
      "source": [
        "# Data preprocessing"
      ],
      "metadata": {
        "id": "Z3PyXfylTv_u"
      }
    },
    {
      "cell_type": "markdown",
      "source": [
        "## Drop Records Containing Infitiy Values, are Null and Nan Values"
      ],
      "metadata": {
        "id": "PBjkYAVjJtjz"
      }
    },
    {
      "cell_type": "code",
      "source": [
        "# Replace infinite number with NaN values\n",
        "train_df.replace([np.inf, -np.inf], np.nan, inplace=True)\n",
        "test_df.replace([np.inf, -np.inf], np.nan, inplace=True)\n",
        "# Drop null and NaN values\n",
        "print(\"Records deleted in training dataset:\", train_df.isnull().sum().sum())\n",
        "print(\"Records deleted in test dataset:\", test_df.isnull().sum().sum())\n",
        "\n",
        "train_df = train_df.dropna().reset_index(drop=True)\n",
        "test_df = test_df.dropna().reset_index(drop=True)"
      ],
      "metadata": {
        "colab": {
          "base_uri": "https://localhost:8080/"
        },
        "id": "PPp3i9cyIBIK",
        "outputId": "d4852756-c740-4816-9355-3443ab11c4b5"
      },
      "execution_count": 26,
      "outputs": [
        {
          "output_type": "stream",
          "name": "stdout",
          "text": [
            "Records deleted in training dataset: 3622\n",
            "Records deleted in test dataset: 1074\n"
          ]
        }
      ]
    },
    {
      "cell_type": "markdown",
      "source": [
        "## Label-Encoding to Replace Categorical Values with Numerical"
      ],
      "metadata": {
        "id": "AodBpkY-c_v1"
      }
    },
    {
      "cell_type": "code",
      "source": [
        "labels = train_df['Label'].values.reshape(-1, 1)\n",
        "# Initialize the Label Encoder\n",
        "encoder = LabelEncoder()\n",
        "# transform fit labels of train and test daframe\n",
        "train_labels = encoder.fit_transform(labels.reshape(-1,))\n",
        "test_labels = encoder.transform(test_df['Label'].values.reshape(-1,))\n",
        "label_order_classes = encoder.classes_\n",
        "train_df['Label'] = train_labels\n",
        "test_df['Label'] = test_labels"
      ],
      "metadata": {
        "id": "dSDKNFyLdEjy"
      },
      "execution_count": 27,
      "outputs": []
    },
    {
      "cell_type": "code",
      "source": [
        "print(label_order_classes)"
      ],
      "metadata": {
        "colab": {
          "base_uri": "https://localhost:8080/"
        },
        "id": "jRsvEArjrMNc",
        "outputId": "33bd1ae0-e0bd-4333-9674-6af18cc35358"
      },
      "execution_count": 28,
      "outputs": [
        {
          "output_type": "stream",
          "name": "stdout",
          "text": [
            "['BENIGN' 'Bot' 'DDoS' 'DoS GoldenEye' 'DoS Hulk' 'DoS Slowhttptest'\n",
            " 'DoS slowloris' 'FTP-Patator' 'Heartbleed' 'Infiltration' 'PortScan'\n",
            " 'SSH-Patator' 'Web Attack � Brute Force' 'Web Attack � Sql Injection'\n",
            " 'Web Attack � XSS']\n"
          ]
        }
      ]
    },
    {
      "cell_type": "code",
      "source": [
        "# Print the new sizes of train and test dataframes\n",
        "print(\"Shape of Training Dataset:\", train_df.shape)\n",
        "print(\"Shape of Testing Dataset:\", test_df.shape)"
      ],
      "metadata": {
        "colab": {
          "base_uri": "https://localhost:8080/"
        },
        "id": "Micsfg2BIomi",
        "outputId": "fa590a1d-bc0d-46ea-e085-70bc3eab333f"
      },
      "execution_count": 29,
      "outputs": [
        {
          "output_type": "stream",
          "name": "stdout",
          "text": [
            "Shape of Training Dataset: (1781545, 79)\n",
            "Shape of Testing Dataset: (511540, 79)\n"
          ]
        }
      ]
    },
    {
      "cell_type": "markdown",
      "source": [
        "## Replace -1 values with the mean of their corresponding column"
      ],
      "metadata": {
        "id": "eHmY3nkFRzyK"
      }
    },
    {
      "cell_type": "code",
      "source": [
        "# Replace -1 with NaN\n",
        "train_df.replace(-1, np.nan, inplace=True)\n",
        "test_df.replace(-1, np.nan, inplace=True)\n",
        "# Calculate the mean of each column\n",
        "column_means = train_df.mean(skipna=True)\n",
        "\n",
        "# Fill NaN values with the mean of the corresponding column\n",
        "train_df.fillna(column_means, inplace=True)\n",
        "test_df.fillna(column_means,inplace=True)"
      ],
      "metadata": {
        "id": "f5zhEP01RzSi"
      },
      "execution_count": 30,
      "outputs": []
    },
    {
      "cell_type": "markdown",
      "source": [
        "## Remove the features with zero values"
      ],
      "metadata": {
        "id": "MXdlhtsoTeWT"
      }
    },
    {
      "cell_type": "code",
      "source": [
        "columns_to_drop = ['Bwd PSH Flags', 'Bwd URG Flags', 'Fwd Avg Bytes/Bulk','Fwd Avg Packets/Bulk','Fwd Avg Bulk Rate','Bwd Avg Bytes/Bulk','Bwd Avg Packets/Bulk','Bwd Avg Bulk Rate']\n",
        "\n",
        "# Drop the specified columns from the DataFrame\n",
        "train_df.drop(columns=columns_to_drop, inplace=True)\n",
        "test_df.drop(columns=columns_to_drop,inplace=True)"
      ],
      "metadata": {
        "id": "NL__a2HSThLT"
      },
      "execution_count": 31,
      "outputs": []
    },
    {
      "cell_type": "code",
      "source": [
        "# Print the new sizes of train and test dataframes\n",
        "print(\"Shape of Training Dataset:\", train_df.shape)\n",
        "print(\"Shape of Testing Dataset:\", test_df.shape)"
      ],
      "metadata": {
        "colab": {
          "base_uri": "https://localhost:8080/"
        },
        "id": "0VjOvqwMUOpM",
        "outputId": "5a0e96b5-fd19-4ade-e54b-45f283358f15"
      },
      "execution_count": 32,
      "outputs": [
        {
          "output_type": "stream",
          "name": "stdout",
          "text": [
            "Shape of Training Dataset: (1781545, 71)\n",
            "Shape of Testing Dataset: (511540, 71)\n"
          ]
        }
      ]
    },
    {
      "cell_type": "markdown",
      "source": [
        "## Split Data"
      ],
      "metadata": {
        "id": "boYFWhCWKbR2"
      }
    },
    {
      "cell_type": "code",
      "source": [
        "# number of each label type train df\n",
        "train_df['Label'].value_counts()"
      ],
      "metadata": {
        "colab": {
          "base_uri": "https://localhost:8080/"
        },
        "id": "cCLOXL-r2WPN",
        "outputId": "7f27916f-f78e-4b85-c7c4-3ce858dee1d4"
      },
      "execution_count": 38,
      "outputs": [
        {
          "output_type": "execute_result",
          "data": {
            "text/plain": [
              "0     1430936\n",
              "4      144976\n",
              "10     100036\n",
              "2       80655\n",
              "3        6484\n",
              "7        4998\n",
              "11       3714\n",
              "6        3651\n",
              "5        3464\n",
              "1        1232\n",
              "12        949\n",
              "14        410\n",
              "9          22\n",
              "13         12\n",
              "8           6\n",
              "Name: Label, dtype: int64"
            ]
          },
          "metadata": {},
          "execution_count": 38
        }
      ]
    },
    {
      "cell_type": "code",
      "source": [
        "X_train = train_df.drop(train_df.columns[-1], axis=1)\n",
        "y_train = train_df[train_df.columns[-1]]\n",
        "\n",
        "X_test = test_df.drop(test_df.columns[-1], axis=1)\n",
        "y_test = test_df[test_df.columns[-1]]"
      ],
      "metadata": {
        "id": "MuLtIOuiKaYd"
      },
      "execution_count": 33,
      "outputs": []
    },
    {
      "cell_type": "markdown",
      "source": [
        "## Save the first version of the dataset with all features"
      ],
      "metadata": {
        "id": "qvDEtV-YUVDU"
      }
    },
    {
      "cell_type": "code",
      "source": [
        "#save without scaling\n",
        "save_dataframe(X_train,y_train,X_test,y_test,X_train.columns,'70features_nostd')"
      ],
      "metadata": {
        "colab": {
          "base_uri": "https://localhost:8080/"
        },
        "id": "ccVe7GU8bGTU",
        "outputId": "8002fd66-e770-4ee3-9be1-3dfb1e6869f1"
      },
      "execution_count": 18,
      "outputs": [
        {
          "output_type": "stream",
          "name": "stdout",
          "text": [
            "Train dataset Saved\n",
            "Test dataset Saved\n"
          ]
        }
      ]
    },
    {
      "cell_type": "code",
      "source": [
        "# scale and save\n",
        "scaler = preprocessing.StandardScaler()\n",
        "scaler.fit(X_train)\n",
        "x_train = scaler.transform(X_train)\n",
        "x_test = scaler.transform(X_test)\n",
        "save_dataframe(x_train,y_train,x_test,y_test,X_train.columns,'70features_mean')"
      ],
      "metadata": {
        "colab": {
          "base_uri": "https://localhost:8080/"
        },
        "id": "2B3zX5pIZ0sl",
        "outputId": "39abc81b-4b83-4890-8e21-a047feec6d33"
      },
      "execution_count": 16,
      "outputs": [
        {
          "output_type": "stream",
          "name": "stdout",
          "text": [
            "Train dataset Saved\n",
            "Test dataset Saved\n"
          ]
        }
      ]
    },
    {
      "cell_type": "markdown",
      "source": [
        "## Oversample categories that are undersampled:\n",
        "\n",
        "\n",
        "1.   Bot\n",
        "2.   Heartbleed\n",
        "3.   Infiltration\n",
        "4.   Web_Attack_Brute Force\n",
        "5.   Web_Attack_SqlInjection\n",
        "6.   Web_Attack_XSS\n",
        "\n",
        "\n"
      ],
      "metadata": {
        "id": "dPIx3bMZQiIu"
      }
    },
    {
      "cell_type": "code",
      "source": [
        "# Create the SMOTE object with a specific sampling strategy for each class\n",
        "# Replace the class indices (0, 1, 2) with the indices of the classes you want to over-sample\n",
        "smote = SMOTE(sampling_strategy={1: 5000,8: 5000, 9: 5000, 11:5000 ,12: 5000, 13: 5000, 14: 5000,}, random_state=42)\n",
        "\n",
        "#Apply SMOTE to the training data to create synthetic samples\n",
        "X_train_resampled, y_train_resampled = smote.fit_resample(X_train, y_train)\n"
      ],
      "metadata": {
        "id": "yQlkF7aCRGfc"
      },
      "execution_count": 34,
      "outputs": []
    },
    {
      "cell_type": "code",
      "source": [
        "X_train_resampled\n",
        "#print(y_train_resampled.shape())"
      ],
      "metadata": {
        "colab": {
          "base_uri": "https://localhost:8080/",
          "height": 540
        },
        "id": "0w0gO3Ev1buG",
        "outputId": "3afa22e2-b102-4860-c861-93fd0c0a8a84"
      },
      "execution_count": 37,
      "outputs": [
        {
          "output_type": "execute_result",
          "data": {
            "text/plain": [
              "         Destination Port  Flow Duration  Total Fwd Packets  \\\n",
              "0                      80   6.885558e+07                 10   \n",
              "1                      53   1.960000e+02                  2   \n",
              "2                     123   1.180000e+02                  2   \n",
              "3                      80   2.956570e+05                  7   \n",
              "4                      80   1.570535e+07                  7   \n",
              "...                   ...            ...                ...   \n",
              "1810195                80   5.299261e+06                  3   \n",
              "1810196                80   5.578751e+06                  3   \n",
              "1810197                80   5.133065e+06                  3   \n",
              "1810198                80   5.832812e+06                  3   \n",
              "1810199                80   5.089898e+06                  3   \n",
              "\n",
              "         Total Backward Packets  Total Length of Fwd Packets  \\\n",
              "0                             6                         1038   \n",
              "1                             2                           70   \n",
              "2                             2                           96   \n",
              "3                            10                         1114   \n",
              "4                             5                          407   \n",
              "...                         ...                          ...   \n",
              "1810195                       1                            0   \n",
              "1810196                       1                            0   \n",
              "1810197                       1                            0   \n",
              "1810198                       1                            0   \n",
              "1810199                       1                            0   \n",
              "\n",
              "         Total Length of Bwd Packets  Fwd Packet Length Max  \\\n",
              "0                              11595                    346   \n",
              "1                                174                     35   \n",
              "2                                 96                     48   \n",
              "3                              15841                   1084   \n",
              "4                                452                    377   \n",
              "...                              ...                    ...   \n",
              "1810195                            0                      0   \n",
              "1810196                            0                      0   \n",
              "1810197                            0                      0   \n",
              "1810198                            0                      0   \n",
              "1810199                            0                      0   \n",
              "\n",
              "         Fwd Packet Length Min  Fwd Packet Length Mean  Fwd Packet Length Std  \\\n",
              "0                            0              103.800000             167.133879   \n",
              "1                           35               35.000000               0.000000   \n",
              "2                           48               48.000000               0.000000   \n",
              "3                            0              159.142857             407.829796   \n",
              "4                            0               58.142857             140.620563   \n",
              "...                        ...                     ...                    ...   \n",
              "1810195                      0                0.000000               0.000000   \n",
              "1810196                      0                0.000000               0.000000   \n",
              "1810197                      0                0.000000               0.000000   \n",
              "1810198                      0                0.000000               0.000000   \n",
              "1810199                      0                0.000000               0.000000   \n",
              "\n",
              "         ...  act_data_pkt_fwd  min_seg_size_forward  Active Mean  Active Std  \\\n",
              "0        ...                 3                    32        998.0         0.0   \n",
              "1        ...                 1                    32          0.0         0.0   \n",
              "2        ...                 1                    20          0.0         0.0   \n",
              "3        ...                 6                    20          0.0         0.0   \n",
              "4        ...                 6                    20     360718.0         0.0   \n",
              "...      ...               ...                   ...          ...         ...   \n",
              "1810195  ...                 0                    32          0.0         0.0   \n",
              "1810196  ...                 0                    32          0.0         0.0   \n",
              "1810197  ...                 0                    32          0.0         0.0   \n",
              "1810198  ...                 0                    32          0.0         0.0   \n",
              "1810199  ...                 0                    32          0.0         0.0   \n",
              "\n",
              "         Active Max  Active Min   Idle Mean  Idle Std  Idle Max  Idle Min  \n",
              "0               998         998  68300000.0       0.0  68300000  68300000  \n",
              "1                 0           0         0.0       0.0         0         0  \n",
              "2                 0           0         0.0       0.0         0         0  \n",
              "3                 0           0         0.0       0.0         0         0  \n",
              "4            360718      360718   9767208.0       0.0   9767208   9767208  \n",
              "...             ...         ...         ...       ...       ...       ...  \n",
              "1810195           0           0         0.0       0.0         0         0  \n",
              "1810196           0           0         0.0       0.0         0         0  \n",
              "1810197           0           0         0.0       0.0         0         0  \n",
              "1810198           0           0         0.0       0.0         0         0  \n",
              "1810199           0           0         0.0       0.0         0         0  \n",
              "\n",
              "[1810200 rows x 70 columns]"
            ],
            "text/html": [
              "\n",
              "\n",
              "  <div id=\"df-5b8cf143-f579-4b31-b769-e7928327494c\">\n",
              "    <div class=\"colab-df-container\">\n",
              "      <div>\n",
              "<style scoped>\n",
              "    .dataframe tbody tr th:only-of-type {\n",
              "        vertical-align: middle;\n",
              "    }\n",
              "\n",
              "    .dataframe tbody tr th {\n",
              "        vertical-align: top;\n",
              "    }\n",
              "\n",
              "    .dataframe thead th {\n",
              "        text-align: right;\n",
              "    }\n",
              "</style>\n",
              "<table border=\"1\" class=\"dataframe\">\n",
              "  <thead>\n",
              "    <tr style=\"text-align: right;\">\n",
              "      <th></th>\n",
              "      <th>Destination Port</th>\n",
              "      <th>Flow Duration</th>\n",
              "      <th>Total Fwd Packets</th>\n",
              "      <th>Total Backward Packets</th>\n",
              "      <th>Total Length of Fwd Packets</th>\n",
              "      <th>Total Length of Bwd Packets</th>\n",
              "      <th>Fwd Packet Length Max</th>\n",
              "      <th>Fwd Packet Length Min</th>\n",
              "      <th>Fwd Packet Length Mean</th>\n",
              "      <th>Fwd Packet Length Std</th>\n",
              "      <th>...</th>\n",
              "      <th>act_data_pkt_fwd</th>\n",
              "      <th>min_seg_size_forward</th>\n",
              "      <th>Active Mean</th>\n",
              "      <th>Active Std</th>\n",
              "      <th>Active Max</th>\n",
              "      <th>Active Min</th>\n",
              "      <th>Idle Mean</th>\n",
              "      <th>Idle Std</th>\n",
              "      <th>Idle Max</th>\n",
              "      <th>Idle Min</th>\n",
              "    </tr>\n",
              "  </thead>\n",
              "  <tbody>\n",
              "    <tr>\n",
              "      <th>0</th>\n",
              "      <td>80</td>\n",
              "      <td>6.885558e+07</td>\n",
              "      <td>10</td>\n",
              "      <td>6</td>\n",
              "      <td>1038</td>\n",
              "      <td>11595</td>\n",
              "      <td>346</td>\n",
              "      <td>0</td>\n",
              "      <td>103.800000</td>\n",
              "      <td>167.133879</td>\n",
              "      <td>...</td>\n",
              "      <td>3</td>\n",
              "      <td>32</td>\n",
              "      <td>998.0</td>\n",
              "      <td>0.0</td>\n",
              "      <td>998</td>\n",
              "      <td>998</td>\n",
              "      <td>68300000.0</td>\n",
              "      <td>0.0</td>\n",
              "      <td>68300000</td>\n",
              "      <td>68300000</td>\n",
              "    </tr>\n",
              "    <tr>\n",
              "      <th>1</th>\n",
              "      <td>53</td>\n",
              "      <td>1.960000e+02</td>\n",
              "      <td>2</td>\n",
              "      <td>2</td>\n",
              "      <td>70</td>\n",
              "      <td>174</td>\n",
              "      <td>35</td>\n",
              "      <td>35</td>\n",
              "      <td>35.000000</td>\n",
              "      <td>0.000000</td>\n",
              "      <td>...</td>\n",
              "      <td>1</td>\n",
              "      <td>32</td>\n",
              "      <td>0.0</td>\n",
              "      <td>0.0</td>\n",
              "      <td>0</td>\n",
              "      <td>0</td>\n",
              "      <td>0.0</td>\n",
              "      <td>0.0</td>\n",
              "      <td>0</td>\n",
              "      <td>0</td>\n",
              "    </tr>\n",
              "    <tr>\n",
              "      <th>2</th>\n",
              "      <td>123</td>\n",
              "      <td>1.180000e+02</td>\n",
              "      <td>2</td>\n",
              "      <td>2</td>\n",
              "      <td>96</td>\n",
              "      <td>96</td>\n",
              "      <td>48</td>\n",
              "      <td>48</td>\n",
              "      <td>48.000000</td>\n",
              "      <td>0.000000</td>\n",
              "      <td>...</td>\n",
              "      <td>1</td>\n",
              "      <td>20</td>\n",
              "      <td>0.0</td>\n",
              "      <td>0.0</td>\n",
              "      <td>0</td>\n",
              "      <td>0</td>\n",
              "      <td>0.0</td>\n",
              "      <td>0.0</td>\n",
              "      <td>0</td>\n",
              "      <td>0</td>\n",
              "    </tr>\n",
              "    <tr>\n",
              "      <th>3</th>\n",
              "      <td>80</td>\n",
              "      <td>2.956570e+05</td>\n",
              "      <td>7</td>\n",
              "      <td>10</td>\n",
              "      <td>1114</td>\n",
              "      <td>15841</td>\n",
              "      <td>1084</td>\n",
              "      <td>0</td>\n",
              "      <td>159.142857</td>\n",
              "      <td>407.829796</td>\n",
              "      <td>...</td>\n",
              "      <td>6</td>\n",
              "      <td>20</td>\n",
              "      <td>0.0</td>\n",
              "      <td>0.0</td>\n",
              "      <td>0</td>\n",
              "      <td>0</td>\n",
              "      <td>0.0</td>\n",
              "      <td>0.0</td>\n",
              "      <td>0</td>\n",
              "      <td>0</td>\n",
              "    </tr>\n",
              "    <tr>\n",
              "      <th>4</th>\n",
              "      <td>80</td>\n",
              "      <td>1.570535e+07</td>\n",
              "      <td>7</td>\n",
              "      <td>5</td>\n",
              "      <td>407</td>\n",
              "      <td>452</td>\n",
              "      <td>377</td>\n",
              "      <td>0</td>\n",
              "      <td>58.142857</td>\n",
              "      <td>140.620563</td>\n",
              "      <td>...</td>\n",
              "      <td>6</td>\n",
              "      <td>20</td>\n",
              "      <td>360718.0</td>\n",
              "      <td>0.0</td>\n",
              "      <td>360718</td>\n",
              "      <td>360718</td>\n",
              "      <td>9767208.0</td>\n",
              "      <td>0.0</td>\n",
              "      <td>9767208</td>\n",
              "      <td>9767208</td>\n",
              "    </tr>\n",
              "    <tr>\n",
              "      <th>...</th>\n",
              "      <td>...</td>\n",
              "      <td>...</td>\n",
              "      <td>...</td>\n",
              "      <td>...</td>\n",
              "      <td>...</td>\n",
              "      <td>...</td>\n",
              "      <td>...</td>\n",
              "      <td>...</td>\n",
              "      <td>...</td>\n",
              "      <td>...</td>\n",
              "      <td>...</td>\n",
              "      <td>...</td>\n",
              "      <td>...</td>\n",
              "      <td>...</td>\n",
              "      <td>...</td>\n",
              "      <td>...</td>\n",
              "      <td>...</td>\n",
              "      <td>...</td>\n",
              "      <td>...</td>\n",
              "      <td>...</td>\n",
              "      <td>...</td>\n",
              "    </tr>\n",
              "    <tr>\n",
              "      <th>1810195</th>\n",
              "      <td>80</td>\n",
              "      <td>5.299261e+06</td>\n",
              "      <td>3</td>\n",
              "      <td>1</td>\n",
              "      <td>0</td>\n",
              "      <td>0</td>\n",
              "      <td>0</td>\n",
              "      <td>0</td>\n",
              "      <td>0.000000</td>\n",
              "      <td>0.000000</td>\n",
              "      <td>...</td>\n",
              "      <td>0</td>\n",
              "      <td>32</td>\n",
              "      <td>0.0</td>\n",
              "      <td>0.0</td>\n",
              "      <td>0</td>\n",
              "      <td>0</td>\n",
              "      <td>0.0</td>\n",
              "      <td>0.0</td>\n",
              "      <td>0</td>\n",
              "      <td>0</td>\n",
              "    </tr>\n",
              "    <tr>\n",
              "      <th>1810196</th>\n",
              "      <td>80</td>\n",
              "      <td>5.578751e+06</td>\n",
              "      <td>3</td>\n",
              "      <td>1</td>\n",
              "      <td>0</td>\n",
              "      <td>0</td>\n",
              "      <td>0</td>\n",
              "      <td>0</td>\n",
              "      <td>0.000000</td>\n",
              "      <td>0.000000</td>\n",
              "      <td>...</td>\n",
              "      <td>0</td>\n",
              "      <td>32</td>\n",
              "      <td>0.0</td>\n",
              "      <td>0.0</td>\n",
              "      <td>0</td>\n",
              "      <td>0</td>\n",
              "      <td>0.0</td>\n",
              "      <td>0.0</td>\n",
              "      <td>0</td>\n",
              "      <td>0</td>\n",
              "    </tr>\n",
              "    <tr>\n",
              "      <th>1810197</th>\n",
              "      <td>80</td>\n",
              "      <td>5.133065e+06</td>\n",
              "      <td>3</td>\n",
              "      <td>1</td>\n",
              "      <td>0</td>\n",
              "      <td>0</td>\n",
              "      <td>0</td>\n",
              "      <td>0</td>\n",
              "      <td>0.000000</td>\n",
              "      <td>0.000000</td>\n",
              "      <td>...</td>\n",
              "      <td>0</td>\n",
              "      <td>32</td>\n",
              "      <td>0.0</td>\n",
              "      <td>0.0</td>\n",
              "      <td>0</td>\n",
              "      <td>0</td>\n",
              "      <td>0.0</td>\n",
              "      <td>0.0</td>\n",
              "      <td>0</td>\n",
              "      <td>0</td>\n",
              "    </tr>\n",
              "    <tr>\n",
              "      <th>1810198</th>\n",
              "      <td>80</td>\n",
              "      <td>5.832812e+06</td>\n",
              "      <td>3</td>\n",
              "      <td>1</td>\n",
              "      <td>0</td>\n",
              "      <td>0</td>\n",
              "      <td>0</td>\n",
              "      <td>0</td>\n",
              "      <td>0.000000</td>\n",
              "      <td>0.000000</td>\n",
              "      <td>...</td>\n",
              "      <td>0</td>\n",
              "      <td>32</td>\n",
              "      <td>0.0</td>\n",
              "      <td>0.0</td>\n",
              "      <td>0</td>\n",
              "      <td>0</td>\n",
              "      <td>0.0</td>\n",
              "      <td>0.0</td>\n",
              "      <td>0</td>\n",
              "      <td>0</td>\n",
              "    </tr>\n",
              "    <tr>\n",
              "      <th>1810199</th>\n",
              "      <td>80</td>\n",
              "      <td>5.089898e+06</td>\n",
              "      <td>3</td>\n",
              "      <td>1</td>\n",
              "      <td>0</td>\n",
              "      <td>0</td>\n",
              "      <td>0</td>\n",
              "      <td>0</td>\n",
              "      <td>0.000000</td>\n",
              "      <td>0.000000</td>\n",
              "      <td>...</td>\n",
              "      <td>0</td>\n",
              "      <td>32</td>\n",
              "      <td>0.0</td>\n",
              "      <td>0.0</td>\n",
              "      <td>0</td>\n",
              "      <td>0</td>\n",
              "      <td>0.0</td>\n",
              "      <td>0.0</td>\n",
              "      <td>0</td>\n",
              "      <td>0</td>\n",
              "    </tr>\n",
              "  </tbody>\n",
              "</table>\n",
              "<p>1810200 rows × 70 columns</p>\n",
              "</div>\n",
              "      <button class=\"colab-df-convert\" onclick=\"convertToInteractive('df-5b8cf143-f579-4b31-b769-e7928327494c')\"\n",
              "              title=\"Convert this dataframe to an interactive table.\"\n",
              "              style=\"display:none;\">\n",
              "\n",
              "  <svg xmlns=\"http://www.w3.org/2000/svg\" height=\"24px\"viewBox=\"0 0 24 24\"\n",
              "       width=\"24px\">\n",
              "    <path d=\"M0 0h24v24H0V0z\" fill=\"none\"/>\n",
              "    <path d=\"M18.56 5.44l.94 2.06.94-2.06 2.06-.94-2.06-.94-.94-2.06-.94 2.06-2.06.94zm-11 1L8.5 8.5l.94-2.06 2.06-.94-2.06-.94L8.5 2.5l-.94 2.06-2.06.94zm10 10l.94 2.06.94-2.06 2.06-.94-2.06-.94-.94-2.06-.94 2.06-2.06.94z\"/><path d=\"M17.41 7.96l-1.37-1.37c-.4-.4-.92-.59-1.43-.59-.52 0-1.04.2-1.43.59L10.3 9.45l-7.72 7.72c-.78.78-.78 2.05 0 2.83L4 21.41c.39.39.9.59 1.41.59.51 0 1.02-.2 1.41-.59l7.78-7.78 2.81-2.81c.8-.78.8-2.07 0-2.86zM5.41 20L4 18.59l7.72-7.72 1.47 1.35L5.41 20z\"/>\n",
              "  </svg>\n",
              "      </button>\n",
              "\n",
              "\n",
              "\n",
              "    <div id=\"df-69d77b28-8eea-4a6a-bf41-942add9f91a2\">\n",
              "      <button class=\"colab-df-quickchart\" onclick=\"quickchart('df-69d77b28-8eea-4a6a-bf41-942add9f91a2')\"\n",
              "              title=\"Suggest charts.\"\n",
              "              style=\"display:none;\">\n",
              "\n",
              "<svg xmlns=\"http://www.w3.org/2000/svg\" height=\"24px\"viewBox=\"0 0 24 24\"\n",
              "     width=\"24px\">\n",
              "    <g>\n",
              "        <path d=\"M19 3H5c-1.1 0-2 .9-2 2v14c0 1.1.9 2 2 2h14c1.1 0 2-.9 2-2V5c0-1.1-.9-2-2-2zM9 17H7v-7h2v7zm4 0h-2V7h2v10zm4 0h-2v-4h2v4z\"/>\n",
              "    </g>\n",
              "</svg>\n",
              "      </button>\n",
              "    </div>\n",
              "\n",
              "<style>\n",
              "  .colab-df-quickchart {\n",
              "    background-color: #E8F0FE;\n",
              "    border: none;\n",
              "    border-radius: 50%;\n",
              "    cursor: pointer;\n",
              "    display: none;\n",
              "    fill: #1967D2;\n",
              "    height: 32px;\n",
              "    padding: 0 0 0 0;\n",
              "    width: 32px;\n",
              "  }\n",
              "\n",
              "  .colab-df-quickchart:hover {\n",
              "    background-color: #E2EBFA;\n",
              "    box-shadow: 0px 1px 2px rgba(60, 64, 67, 0.3), 0px 1px 3px 1px rgba(60, 64, 67, 0.15);\n",
              "    fill: #174EA6;\n",
              "  }\n",
              "\n",
              "  [theme=dark] .colab-df-quickchart {\n",
              "    background-color: #3B4455;\n",
              "    fill: #D2E3FC;\n",
              "  }\n",
              "\n",
              "  [theme=dark] .colab-df-quickchart:hover {\n",
              "    background-color: #434B5C;\n",
              "    box-shadow: 0px 1px 3px 1px rgba(0, 0, 0, 0.15);\n",
              "    filter: drop-shadow(0px 1px 2px rgba(0, 0, 0, 0.3));\n",
              "    fill: #FFFFFF;\n",
              "  }\n",
              "</style>\n",
              "\n",
              "    <script>\n",
              "      async function quickchart(key) {\n",
              "        const containerElement = document.querySelector('#' + key);\n",
              "        const charts = await google.colab.kernel.invokeFunction(\n",
              "            'suggestCharts', [key], {});\n",
              "      }\n",
              "    </script>\n",
              "\n",
              "      <script>\n",
              "\n",
              "function displayQuickchartButton(domScope) {\n",
              "  let quickchartButtonEl =\n",
              "    domScope.querySelector('#df-69d77b28-8eea-4a6a-bf41-942add9f91a2 button.colab-df-quickchart');\n",
              "  quickchartButtonEl.style.display =\n",
              "    google.colab.kernel.accessAllowed ? 'block' : 'none';\n",
              "}\n",
              "\n",
              "        displayQuickchartButton(document);\n",
              "      </script>\n",
              "      <style>\n",
              "    .colab-df-container {\n",
              "      display:flex;\n",
              "      flex-wrap:wrap;\n",
              "      gap: 12px;\n",
              "    }\n",
              "\n",
              "    .colab-df-convert {\n",
              "      background-color: #E8F0FE;\n",
              "      border: none;\n",
              "      border-radius: 50%;\n",
              "      cursor: pointer;\n",
              "      display: none;\n",
              "      fill: #1967D2;\n",
              "      height: 32px;\n",
              "      padding: 0 0 0 0;\n",
              "      width: 32px;\n",
              "    }\n",
              "\n",
              "    .colab-df-convert:hover {\n",
              "      background-color: #E2EBFA;\n",
              "      box-shadow: 0px 1px 2px rgba(60, 64, 67, 0.3), 0px 1px 3px 1px rgba(60, 64, 67, 0.15);\n",
              "      fill: #174EA6;\n",
              "    }\n",
              "\n",
              "    [theme=dark] .colab-df-convert {\n",
              "      background-color: #3B4455;\n",
              "      fill: #D2E3FC;\n",
              "    }\n",
              "\n",
              "    [theme=dark] .colab-df-convert:hover {\n",
              "      background-color: #434B5C;\n",
              "      box-shadow: 0px 1px 3px 1px rgba(0, 0, 0, 0.15);\n",
              "      filter: drop-shadow(0px 1px 2px rgba(0, 0, 0, 0.3));\n",
              "      fill: #FFFFFF;\n",
              "    }\n",
              "  </style>\n",
              "\n",
              "      <script>\n",
              "        const buttonEl =\n",
              "          document.querySelector('#df-5b8cf143-f579-4b31-b769-e7928327494c button.colab-df-convert');\n",
              "        buttonEl.style.display =\n",
              "          google.colab.kernel.accessAllowed ? 'block' : 'none';\n",
              "\n",
              "        async function convertToInteractive(key) {\n",
              "          const element = document.querySelector('#df-5b8cf143-f579-4b31-b769-e7928327494c');\n",
              "          const dataTable =\n",
              "            await google.colab.kernel.invokeFunction('convertToInteractive',\n",
              "                                                     [key], {});\n",
              "          if (!dataTable) return;\n",
              "\n",
              "          const docLinkHtml = 'Like what you see? Visit the ' +\n",
              "            '<a target=\"_blank\" href=https://colab.research.google.com/notebooks/data_table.ipynb>data table notebook</a>'\n",
              "            + ' to learn more about interactive tables.';\n",
              "          element.innerHTML = '';\n",
              "          dataTable['output_type'] = 'display_data';\n",
              "          await google.colab.output.renderOutput(dataTable, element);\n",
              "          const docLink = document.createElement('div');\n",
              "          docLink.innerHTML = docLinkHtml;\n",
              "          element.appendChild(docLink);\n",
              "        }\n",
              "      </script>\n",
              "    </div>\n",
              "  </div>\n"
            ]
          },
          "metadata": {},
          "execution_count": 37
        }
      ]
    },
    {
      "cell_type": "code",
      "source": [
        "y_train_resampled.value_counts()"
      ],
      "metadata": {
        "colab": {
          "base_uri": "https://localhost:8080/"
        },
        "id": "wSItS1jy20Bp",
        "outputId": "0380c348-5c5f-4a7e-f6aa-838deb6dc560"
      },
      "execution_count": 40,
      "outputs": [
        {
          "output_type": "execute_result",
          "data": {
            "text/plain": [
              "0     1430936\n",
              "4      144976\n",
              "10     100036\n",
              "2       80655\n",
              "3        6484\n",
              "11       5000\n",
              "14       5000\n",
              "12       5000\n",
              "13       5000\n",
              "1        5000\n",
              "9        5000\n",
              "8        5000\n",
              "7        4998\n",
              "6        3651\n",
              "5        3464\n",
              "Name: Label, dtype: int64"
            ]
          },
          "metadata": {},
          "execution_count": 40
        }
      ]
    },
    {
      "cell_type": "code",
      "source": [
        "# scale and save\n",
        "scaler = preprocessing.StandardScaler()\n",
        "scaler.fit(X_train_resampled)\n",
        "x_train = scaler.transform(X_train_resampled)\n",
        "x_test = scaler.transform(X_test)\n",
        "save_dataframe(x_train,y_train_resampled,x_test,y_test,X_train.columns,'70features_mean_resampled')"
      ],
      "metadata": {
        "colab": {
          "base_uri": "https://localhost:8080/"
        },
        "id": "3O8prKW6ztdo",
        "outputId": "9c094c75-d41d-44e8-c09e-354c68406a5e"
      },
      "execution_count": 41,
      "outputs": [
        {
          "output_type": "stream",
          "name": "stdout",
          "text": [
            "Train dataset Saved\n",
            "Test dataset Saved\n"
          ]
        }
      ]
    },
    {
      "cell_type": "markdown",
      "source": [
        "Delete initial dataframes to reduce memory consumption"
      ],
      "metadata": {
        "id": "-fj1ZZransqw"
      }
    },
    {
      "cell_type": "code",
      "source": [
        "# Delete dafarames to empty memory\n",
        "del train_df, test_df"
      ],
      "metadata": {
        "id": "eMnyEV_zNwM5"
      },
      "execution_count": null,
      "outputs": []
    },
    {
      "cell_type": "markdown",
      "source": [
        "# Manual Recursive Feature Selection using Random Forest feature importance"
      ],
      "metadata": {
        "id": "FriMoqAln7La"
      }
    },
    {
      "cell_type": "code",
      "source": [
        "# get the indexes of the five folds\n",
        "skf = StratifiedKFold(n_splits=5, shuffle=True, random_state=0)"
      ],
      "metadata": {
        "id": "1zu0S1AwsK01"
      },
      "execution_count": null,
      "outputs": []
    },
    {
      "cell_type": "markdown",
      "source": [
        "Method for Random Forest Feature Importance\n",
        "*   Uses 5-fold cross validation\n",
        "*   Keeps features until cumulative importance >= 0.90\n",
        "\n"
      ],
      "metadata": {
        "id": "BSiBrrhXUcLO"
      }
    },
    {
      "cell_type": "code",
      "source": [
        "def feature_selection(X,X_test,Y,Y_test,skf,name='default',criterion=0,cumulative=False,save=False):\n",
        "    # Scale doesn't do anythign after the\n",
        "    #first iteration since data already scaled\n",
        "    scaler = preprocessing.StandardScaler()\n",
        "    scaler.fit(X)\n",
        "    x_train = scaler.transform(X)\n",
        "    x_test = scaler.transform(X_test)\n",
        "\n",
        "    features = X.columns\n",
        "\n",
        "    feature_importance_scores = np.zeros(X.shape[1])\n",
        "\n",
        "    for train_index, val_index in skf.split(X,Y):\n",
        "        X_train, X_val = x_train[train_index],x_train[val_index]\n",
        "        y_train, y_val = Y[train_index], Y[val_index]\n",
        "\n",
        "        # Train a Random Forest classifier\n",
        "        rf = RandomForestClassifier(n_estimators=20, max_depth=None,\n",
        "                                 bootstrap=False, n_jobs=-1,\n",
        "                                 random_state=0,verbose=2)\n",
        "        rf.fit(X_train, y_train)\n",
        "        y_val_pred = rf.predict(X_val)\n",
        "        accuracy = accuracy_score(y_val, y_val_pred)\n",
        "        print(\"Accuracy:\", accuracy)\n",
        "        # Accumulate feature importance scores\n",
        "        feature_importance_scores += rf.feature_importances_\n",
        "\n",
        "    feature_importance_scores /= 5 # divide by 5 to find average F.E.S.\n",
        "\n",
        "    # Create a DataFrame to store feature importance scores\n",
        "    feature_importance_df = pd.DataFrame({'feature': features,\n",
        "                'importance': feature_importance_scores})\n",
        "    # Sort features by importance scores in descending order\n",
        "    feature_importance_df = feature_importance_df.sort_values(by='importance',\n",
        "                                    ascending=False)\n",
        "    # Keep features based on either a criterion or based on culumative importance\n",
        "    if cumulative:\n",
        "        cumulative_importance = 0\n",
        "        selected_features = []\n",
        "        indexes = []\n",
        "        for index, row in feature_importance_df.iterrows():\n",
        "            if cumulative_importance >= 0.9:\n",
        "                break\n",
        "            indexes.append(index)\n",
        "            selected_features.append(row['feature'])\n",
        "            cumulative_importance += row['importance']\n",
        "        return selected_features\n",
        "    else:\n",
        "        indexes = feature_importance_df['importance'] > criterion\n",
        "        selected_features = feature_importance_df[indexes]['feature'].tolist()\n",
        "        return selected_features\n",
        "    # save data set if wanted:\n",
        "    if save:\n",
        "       save_dataframe(x_train,Y,x_test,Y_test,features,name=name)\n",
        "    return\n"
      ],
      "metadata": {
        "id": "kJrlBmQrqyfJ"
      },
      "execution_count": null,
      "outputs": []
    },
    {
      "cell_type": "markdown",
      "source": [
        "## First Iteration\n"
      ],
      "metadata": {
        "id": "SP46Za2yoLD9"
      }
    },
    {
      "cell_type": "code",
      "source": [
        "selected_features = feature_selection(X_train,X_test,y_train,y_test,skf,name='default',criterion=0,cumulative=True,save=False)"
      ],
      "metadata": {
        "colab": {
          "base_uri": "https://localhost:8080/"
        },
        "id": "gfeNXj8Iy6W8",
        "outputId": "5c6a3b12-5d65-4a1d-89af-72132a11009c"
      },
      "execution_count": null,
      "outputs": [
        {
          "output_type": "stream",
          "name": "stderr",
          "text": [
            "[Parallel(n_jobs=-1)]: Using backend ThreadingBackend with 2 concurrent workers.\n"
          ]
        },
        {
          "output_type": "stream",
          "name": "stdout",
          "text": [
            "building tree 1 of 20\n",
            "building tree 2 of 20\n",
            "building tree 3 of 20\n",
            "building tree 4 of 20\n",
            "building tree 5 of 20\n",
            "building tree 6 of 20\n",
            "building tree 7 of 20\n",
            "building tree 8 of 20\n",
            "building tree 9 of 20\n",
            "building tree 10 of 20\n",
            "building tree 11 of 20\n",
            "building tree 12 of 20\n",
            "building tree 13 of 20\n",
            "building tree 14 of 20\n",
            "building tree 15 of 20\n",
            "building tree 16 of 20\n",
            "building tree 17 of 20\n",
            "building tree 18 of 20\n",
            "building tree 19 of 20\n",
            "building tree 20 of 20\n"
          ]
        },
        {
          "output_type": "stream",
          "name": "stderr",
          "text": [
            "[Parallel(n_jobs=-1)]: Done  20 out of  20 | elapsed:  3.0min finished\n",
            "[Parallel(n_jobs=2)]: Using backend ThreadingBackend with 2 concurrent workers.\n",
            "[Parallel(n_jobs=2)]: Done  20 out of  20 | elapsed:    1.0s finished\n"
          ]
        },
        {
          "output_type": "stream",
          "name": "stdout",
          "text": [
            "Accuracy: 0.9985826908666354\n"
          ]
        },
        {
          "output_type": "stream",
          "name": "stderr",
          "text": [
            "[Parallel(n_jobs=-1)]: Using backend ThreadingBackend with 2 concurrent workers.\n"
          ]
        },
        {
          "output_type": "stream",
          "name": "stdout",
          "text": [
            "building tree 1 of 20\n",
            "building tree 2 of 20\n",
            "building tree 3 of 20\n",
            "building tree 4 of 20\n",
            "building tree 5 of 20\n",
            "building tree 6 of 20\n",
            "building tree 7 of 20\n",
            "building tree 8 of 20\n",
            "building tree 9 of 20\n",
            "building tree 10 of 20\n",
            "building tree 11 of 20\n",
            "building tree 12 of 20\n",
            "building tree 13 of 20\n",
            "building tree 14 of 20\n",
            "building tree 15 of 20\n",
            "building tree 16 of 20\n",
            "building tree 17 of 20\n",
            "building tree 18 of 20\n",
            "building tree 19 of 20\n",
            "building tree 20 of 20\n"
          ]
        },
        {
          "output_type": "stream",
          "name": "stderr",
          "text": [
            "[Parallel(n_jobs=-1)]: Done  20 out of  20 | elapsed:  3.9min finished\n",
            "[Parallel(n_jobs=2)]: Using backend ThreadingBackend with 2 concurrent workers.\n",
            "[Parallel(n_jobs=2)]: Done  20 out of  20 | elapsed:    1.1s finished\n"
          ]
        },
        {
          "output_type": "stream",
          "name": "stdout",
          "text": [
            "Accuracy: 0.998487268073498\n"
          ]
        },
        {
          "output_type": "stream",
          "name": "stderr",
          "text": [
            "[Parallel(n_jobs=-1)]: Using backend ThreadingBackend with 2 concurrent workers.\n"
          ]
        },
        {
          "output_type": "stream",
          "name": "stdout",
          "text": [
            "building tree 1 of 20building tree 2 of 20\n",
            "\n",
            "building tree 3 of 20\n",
            "building tree 4 of 20\n",
            "building tree 5 of 20\n",
            "building tree 6 of 20\n",
            "building tree 7 of 20\n",
            "building tree 8 of 20\n",
            "building tree 9 of 20\n",
            "building tree 10 of 20\n",
            "building tree 11 of 20\n",
            "building tree 12 of 20\n",
            "building tree 13 of 20\n",
            "building tree 14 of 20\n",
            "building tree 15 of 20\n",
            "building tree 16 of 20\n",
            "building tree 17 of 20\n",
            "building tree 18 of 20\n",
            "building tree 19 of 20\n",
            "building tree 20 of 20\n"
          ]
        },
        {
          "output_type": "stream",
          "name": "stderr",
          "text": [
            "[Parallel(n_jobs=-1)]: Done  20 out of  20 | elapsed:  3.6min finished\n",
            "[Parallel(n_jobs=2)]: Using backend ThreadingBackend with 2 concurrent workers.\n",
            "[Parallel(n_jobs=2)]: Done  20 out of  20 | elapsed:    1.0s finished\n"
          ]
        },
        {
          "output_type": "stream",
          "name": "stdout",
          "text": [
            "Accuracy: 0.9985181401536307\n"
          ]
        },
        {
          "output_type": "stream",
          "name": "stderr",
          "text": [
            "[Parallel(n_jobs=-1)]: Using backend ThreadingBackend with 2 concurrent workers.\n"
          ]
        },
        {
          "output_type": "stream",
          "name": "stdout",
          "text": [
            "building tree 1 of 20building tree 2 of 20\n",
            "\n",
            "building tree 3 of 20\n",
            "building tree 4 of 20\n",
            "building tree 5 of 20\n",
            "building tree 6 of 20\n",
            "building tree 7 of 20\n",
            "building tree 8 of 20\n",
            "building tree 9 of 20\n",
            "building tree 10 of 20\n",
            "building tree 11 of 20\n",
            "building tree 12 of 20\n",
            "building tree 13 of 20\n",
            "building tree 14 of 20\n",
            "building tree 15 of 20\n",
            "building tree 16 of 20\n",
            "building tree 17 of 20\n",
            "building tree 18 of 20\n",
            "building tree 19 of 20\n",
            "building tree 20 of 20\n"
          ]
        },
        {
          "output_type": "stream",
          "name": "stderr",
          "text": [
            "[Parallel(n_jobs=-1)]: Done  20 out of  20 | elapsed:  4.1min finished\n",
            "[Parallel(n_jobs=2)]: Using backend ThreadingBackend with 2 concurrent workers.\n",
            "[Parallel(n_jobs=2)]: Done  20 out of  20 | elapsed:    1.7s finished\n"
          ]
        },
        {
          "output_type": "stream",
          "name": "stdout",
          "text": [
            "Accuracy: 0.9985097204954126\n"
          ]
        },
        {
          "output_type": "stream",
          "name": "stderr",
          "text": [
            "[Parallel(n_jobs=-1)]: Using backend ThreadingBackend with 2 concurrent workers.\n"
          ]
        },
        {
          "output_type": "stream",
          "name": "stdout",
          "text": [
            "building tree 1 of 20building tree 2 of 20\n",
            "\n",
            "building tree 3 of 20\n",
            "building tree 4 of 20\n",
            "building tree 5 of 20\n",
            "building tree 6 of 20\n",
            "building tree 7 of 20\n",
            "building tree 8 of 20\n",
            "building tree 9 of 20\n",
            "building tree 10 of 20\n",
            "building tree 11 of 20\n",
            "building tree 12 of 20\n",
            "building tree 13 of 20\n",
            "building tree 14 of 20\n",
            "building tree 15 of 20\n",
            "building tree 16 of 20\n",
            "building tree 17 of 20\n",
            "building tree 18 of 20\n",
            "building tree 19 of 20\n",
            "building tree 20 of 20\n"
          ]
        },
        {
          "output_type": "stream",
          "name": "stderr",
          "text": [
            "[Parallel(n_jobs=-1)]: Done  20 out of  20 | elapsed:  3.6min finished\n",
            "[Parallel(n_jobs=2)]: Using backend ThreadingBackend with 2 concurrent workers.\n"
          ]
        },
        {
          "output_type": "stream",
          "name": "stdout",
          "text": [
            "Accuracy: 0.998571464655678\n"
          ]
        },
        {
          "output_type": "stream",
          "name": "stderr",
          "text": [
            "[Parallel(n_jobs=2)]: Done  20 out of  20 | elapsed:    1.8s finished\n"
          ]
        }
      ]
    },
    {
      "cell_type": "code",
      "source": [
        "print(\"New features reduced to :\",len(selected_features))\n",
        "X_train = X_train.loc[:,selected_features]\n",
        "X_test = X_test.loc[:,selected_features]"
      ],
      "metadata": {
        "colab": {
          "base_uri": "https://localhost:8080/"
        },
        "id": "cYGHXKuX5rJF",
        "outputId": "b925016a-2522-4d76-9f8d-4ae3c2c3dce9"
      },
      "execution_count": null,
      "outputs": [
        {
          "output_type": "stream",
          "name": "stdout",
          "text": [
            "New features reduced to : 38\n"
          ]
        }
      ]
    },
    {
      "cell_type": "markdown",
      "source": [
        "## Second Iteration"
      ],
      "metadata": {
        "id": "sL2NcqUFzZeM"
      }
    },
    {
      "cell_type": "code",
      "source": [
        "selected_features = feature_selection(X_train,X_test,y_train,y_test,skf,name='default',criterion=0.001,cumulative=True,save=False)"
      ],
      "metadata": {
        "colab": {
          "base_uri": "https://localhost:8080/"
        },
        "id": "alqssynHzYid",
        "outputId": "055d1a0e-50f7-4419-d000-3d9a84ed9304"
      },
      "execution_count": null,
      "outputs": [
        {
          "output_type": "stream",
          "name": "stderr",
          "text": [
            "[Parallel(n_jobs=-1)]: Using backend ThreadingBackend with 2 concurrent workers.\n"
          ]
        },
        {
          "output_type": "stream",
          "name": "stdout",
          "text": [
            "building tree 1 of 20\n",
            "building tree 2 of 20\n",
            "building tree 3 of 20\n",
            "building tree 4 of 20\n",
            "building tree 5 of 20\n",
            "building tree 6 of 20\n",
            "building tree 7 of 20\n",
            "building tree 8 of 20\n",
            "building tree 9 of 20\n",
            "building tree 10 of 20\n",
            "building tree 11 of 20\n",
            "building tree 12 of 20\n",
            "building tree 13 of 20\n",
            "building tree 14 of 20\n",
            "building tree 15 of 20\n",
            "building tree 16 of 20\n",
            "building tree 17 of 20\n",
            "building tree 18 of 20\n",
            "building tree 19 of 20\n",
            "building tree 20 of 20\n"
          ]
        },
        {
          "output_type": "stream",
          "name": "stderr",
          "text": [
            "[Parallel(n_jobs=-1)]: Done  20 out of  20 | elapsed:  3.5min finished\n",
            "[Parallel(n_jobs=2)]: Using backend ThreadingBackend with 2 concurrent workers.\n",
            "[Parallel(n_jobs=2)]: Done  20 out of  20 | elapsed:    1.1s finished\n"
          ]
        },
        {
          "output_type": "stream",
          "name": "stdout",
          "text": [
            "Accuracy: 0.9987286316090809\n"
          ]
        },
        {
          "output_type": "stream",
          "name": "stderr",
          "text": [
            "[Parallel(n_jobs=-1)]: Using backend ThreadingBackend with 2 concurrent workers.\n"
          ]
        },
        {
          "output_type": "stream",
          "name": "stdout",
          "text": [
            "building tree 1 of 20building tree 2 of 20\n",
            "\n",
            "building tree 3 of 20\n",
            "building tree 4 of 20\n",
            "building tree 5 of 20\n",
            "building tree 6 of 20\n",
            "building tree 7 of 20\n",
            "building tree 8 of 20\n",
            "building tree 9 of 20\n",
            "building tree 10 of 20\n",
            "building tree 11 of 20\n",
            "building tree 12 of 20\n",
            "building tree 13 of 20\n",
            "building tree 14 of 20\n",
            "building tree 15 of 20\n",
            "building tree 16 of 20\n",
            "building tree 17 of 20\n",
            "building tree 18 of 20\n",
            "building tree 19 of 20\n",
            "building tree 20 of 20\n"
          ]
        },
        {
          "output_type": "stream",
          "name": "stderr",
          "text": [
            "[Parallel(n_jobs=-1)]: Done  20 out of  20 | elapsed:  3.9min finished\n",
            "[Parallel(n_jobs=2)]: Using backend ThreadingBackend with 2 concurrent workers.\n",
            "[Parallel(n_jobs=2)]: Done  20 out of  20 | elapsed:    1.0s finished\n"
          ]
        },
        {
          "output_type": "stream",
          "name": "stdout",
          "text": [
            "Accuracy: 0.9987623102419529\n"
          ]
        },
        {
          "output_type": "stream",
          "name": "stderr",
          "text": [
            "[Parallel(n_jobs=-1)]: Using backend ThreadingBackend with 2 concurrent workers.\n"
          ]
        },
        {
          "output_type": "stream",
          "name": "stdout",
          "text": [
            "building tree 1 of 20\n",
            "building tree 2 of 20\n",
            "building tree 3 of 20\n",
            "building tree 4 of 20\n",
            "building tree 5 of 20\n",
            "building tree 6 of 20\n",
            "building tree 7 of 20\n",
            "building tree 8 of 20\n",
            "building tree 9 of 20\n",
            "building tree 10 of 20\n",
            "building tree 11 of 20\n",
            "building tree 12 of 20\n",
            "building tree 13 of 20\n",
            "building tree 14 of 20\n",
            "building tree 15 of 20\n",
            "building tree 16 of 20\n",
            "building tree 17 of 20\n",
            "building tree 18 of 20\n",
            "building tree 19 of 20\n",
            "building tree 20 of 20\n"
          ]
        },
        {
          "output_type": "stream",
          "name": "stderr",
          "text": [
            "[Parallel(n_jobs=-1)]: Done  20 out of  20 | elapsed:  3.5min finished\n",
            "[Parallel(n_jobs=2)]: Using backend ThreadingBackend with 2 concurrent workers.\n",
            "[Parallel(n_jobs=2)]: Done  20 out of  20 | elapsed:    1.0s finished\n"
          ]
        },
        {
          "output_type": "stream",
          "name": "stdout",
          "text": [
            "Accuracy: 0.9988352806131756\n"
          ]
        },
        {
          "output_type": "stream",
          "name": "stderr",
          "text": [
            "[Parallel(n_jobs=-1)]: Using backend ThreadingBackend with 2 concurrent workers.\n"
          ]
        },
        {
          "output_type": "stream",
          "name": "stdout",
          "text": [
            "building tree 1 of 20building tree 2 of 20\n",
            "\n",
            "building tree 3 of 20\n",
            "building tree 4 of 20\n",
            "building tree 5 of 20\n",
            "building tree 6 of 20\n",
            "building tree 7 of 20\n",
            "building tree 8 of 20\n",
            "building tree 9 of 20\n",
            "building tree 10 of 20\n",
            "building tree 11 of 20\n",
            "building tree 12 of 20\n",
            "building tree 13 of 20\n",
            "building tree 14 of 20\n",
            "building tree 15 of 20\n",
            "building tree 16 of 20\n",
            "building tree 17 of 20\n",
            "building tree 18 of 20\n",
            "building tree 19 of 20\n",
            "building tree 20 of 20\n"
          ]
        },
        {
          "output_type": "stream",
          "name": "stderr",
          "text": [
            "[Parallel(n_jobs=-1)]: Done  20 out of  20 | elapsed:  3.9min finished\n",
            "[Parallel(n_jobs=2)]: Using backend ThreadingBackend with 2 concurrent workers.\n",
            "[Parallel(n_jobs=2)]: Done  20 out of  20 | elapsed:    1.0s finished\n"
          ]
        },
        {
          "output_type": "stream",
          "name": "stdout",
          "text": [
            "Accuracy: 0.9987566971364742\n"
          ]
        },
        {
          "output_type": "stream",
          "name": "stderr",
          "text": [
            "[Parallel(n_jobs=-1)]: Using backend ThreadingBackend with 2 concurrent workers.\n"
          ]
        },
        {
          "output_type": "stream",
          "name": "stdout",
          "text": [
            "building tree 1 of 20\n",
            "building tree 2 of 20\n",
            "building tree 3 of 20\n",
            "building tree 4 of 20\n",
            "building tree 5 of 20\n",
            "building tree 6 of 20\n",
            "building tree 7 of 20\n",
            "building tree 8 of 20\n",
            "building tree 9 of 20\n",
            "building tree 10 of 20\n",
            "building tree 11 of 20\n",
            "building tree 12 of 20\n",
            "building tree 13 of 20\n",
            "building tree 14 of 20\n",
            "building tree 15 of 20\n",
            "building tree 16 of 20\n",
            "building tree 17 of 20\n",
            "building tree 18 of 20\n",
            "building tree 19 of 20\n",
            "building tree 20 of 20\n"
          ]
        },
        {
          "output_type": "stream",
          "name": "stderr",
          "text": [
            "[Parallel(n_jobs=-1)]: Done  20 out of  20 | elapsed:  3.9min finished\n",
            "[Parallel(n_jobs=2)]: Using backend ThreadingBackend with 2 concurrent workers.\n"
          ]
        },
        {
          "output_type": "stream",
          "name": "stdout",
          "text": [
            "Accuracy: 0.9987033726344269\n"
          ]
        },
        {
          "output_type": "stream",
          "name": "stderr",
          "text": [
            "[Parallel(n_jobs=2)]: Done  20 out of  20 | elapsed:    1.7s finished\n"
          ]
        }
      ]
    },
    {
      "cell_type": "code",
      "source": [
        "print(\"New features reduced to :\",len(selected_features))\n",
        "X_train = X_train.loc[:,selected_features]\n",
        "X_test = X_test.loc[:,selected_features]"
      ],
      "metadata": {
        "colab": {
          "base_uri": "https://localhost:8080/"
        },
        "id": "c1SafK_G_qyg",
        "outputId": "6c258874-87da-4062-dfbb-b8cbe112ff15"
      },
      "execution_count": null,
      "outputs": [
        {
          "output_type": "stream",
          "name": "stdout",
          "text": [
            "New features reduced to : 28\n"
          ]
        }
      ]
    },
    {
      "cell_type": "markdown",
      "source": [],
      "metadata": {
        "id": "K-BUOeLf_vQh"
      }
    },
    {
      "cell_type": "markdown",
      "source": [
        "## Third Iteration"
      ],
      "metadata": {
        "id": "hrNY4eDC4ZZn"
      }
    },
    {
      "cell_type": "code",
      "source": [
        "selected_features = feature_selection(X_train,X_test,y_train,y_test,skf,name='default',cumulative=True,save=False)"
      ],
      "metadata": {
        "colab": {
          "base_uri": "https://localhost:8080/"
        },
        "id": "loHmFtYlAAaA",
        "outputId": "708b6233-9db3-4b63-94d4-e33f1f7bfd57"
      },
      "execution_count": null,
      "outputs": [
        {
          "output_type": "stream",
          "name": "stderr",
          "text": [
            "[Parallel(n_jobs=-1)]: Using backend ThreadingBackend with 2 concurrent workers.\n"
          ]
        },
        {
          "output_type": "stream",
          "name": "stdout",
          "text": [
            "building tree 1 of 20\n",
            "building tree 2 of 20\n",
            "building tree 3 of 20\n",
            "building tree 4 of 20\n",
            "building tree 5 of 20\n",
            "building tree 6 of 20\n",
            "building tree 7 of 20\n",
            "building tree 8 of 20\n",
            "building tree 9 of 20\n",
            "building tree 10 of 20\n",
            "building tree 11 of 20\n",
            "building tree 12 of 20\n",
            "building tree 13 of 20\n",
            "building tree 14 of 20\n",
            "building tree 15 of 20\n",
            "building tree 16 of 20\n",
            "building tree 17 of 20\n",
            "building tree 18 of 20\n",
            "building tree 19 of 20\n",
            "building tree 20 of 20\n"
          ]
        },
        {
          "output_type": "stream",
          "name": "stderr",
          "text": [
            "[Parallel(n_jobs=-1)]: Done  20 out of  20 | elapsed:  3.5min finished\n",
            "[Parallel(n_jobs=2)]: Using backend ThreadingBackend with 2 concurrent workers.\n",
            "[Parallel(n_jobs=2)]: Done  20 out of  20 | elapsed:    1.0s finished\n"
          ]
        },
        {
          "output_type": "stream",
          "name": "stdout",
          "text": [
            "Accuracy: 0.9981897734831284\n"
          ]
        },
        {
          "output_type": "stream",
          "name": "stderr",
          "text": [
            "[Parallel(n_jobs=-1)]: Using backend ThreadingBackend with 2 concurrent workers.\n"
          ]
        },
        {
          "output_type": "stream",
          "name": "stdout",
          "text": [
            "building tree 1 of 20building tree 2 of 20\n",
            "\n",
            "building tree 3 of 20\n",
            "building tree 4 of 20\n",
            "building tree 5 of 20\n",
            "building tree 6 of 20\n",
            "building tree 7 of 20\n",
            "building tree 8 of 20\n",
            "building tree 9 of 20\n",
            "building tree 10 of 20\n",
            "building tree 11 of 20\n",
            "building tree 12 of 20\n",
            "building tree 13 of 20\n",
            "building tree 14 of 20\n",
            "building tree 15 of 20\n",
            "building tree 16 of 20\n",
            "building tree 17 of 20\n",
            "building tree 18 of 20\n",
            "building tree 19 of 20\n",
            "building tree 20 of 20\n"
          ]
        },
        {
          "output_type": "stream",
          "name": "stderr",
          "text": [
            "[Parallel(n_jobs=-1)]: Done  20 out of  20 | elapsed:  2.9min finished\n",
            "[Parallel(n_jobs=2)]: Using backend ThreadingBackend with 2 concurrent workers.\n",
            "[Parallel(n_jobs=2)]: Done  20 out of  20 | elapsed:    1.3s finished\n"
          ]
        },
        {
          "output_type": "stream",
          "name": "stdout",
          "text": [
            "Accuracy: 0.998153288297517\n"
          ]
        },
        {
          "output_type": "stream",
          "name": "stderr",
          "text": [
            "[Parallel(n_jobs=-1)]: Using backend ThreadingBackend with 2 concurrent workers.\n"
          ]
        },
        {
          "output_type": "stream",
          "name": "stdout",
          "text": [
            "building tree 1 of 20\n",
            "building tree 2 of 20\n",
            "building tree 3 of 20\n",
            "building tree 4 of 20\n",
            "building tree 5 of 20\n",
            "building tree 6 of 20\n",
            "building tree 7 of 20\n",
            "building tree 8 of 20\n",
            "building tree 9 of 20\n",
            "building tree 10 of 20\n",
            "building tree 11 of 20\n",
            "building tree 12 of 20\n",
            "building tree 13 of 20\n",
            "building tree 14 of 20\n",
            "building tree 15 of 20\n",
            "building tree 16 of 20\n",
            "building tree 17 of 20\n",
            "building tree 18 of 20\n",
            "building tree 19 of 20\n",
            "building tree 20 of 20\n"
          ]
        },
        {
          "output_type": "stream",
          "name": "stderr",
          "text": [
            "[Parallel(n_jobs=-1)]: Done  20 out of  20 | elapsed:  3.0min finished\n",
            "[Parallel(n_jobs=2)]: Using backend ThreadingBackend with 2 concurrent workers.\n",
            "[Parallel(n_jobs=2)]: Done  20 out of  20 | elapsed:    1.0s finished\n"
          ]
        },
        {
          "output_type": "stream",
          "name": "stdout",
          "text": [
            "Accuracy: 0.998161707955735\n"
          ]
        },
        {
          "output_type": "stream",
          "name": "stderr",
          "text": [
            "[Parallel(n_jobs=-1)]: Using backend ThreadingBackend with 2 concurrent workers.\n"
          ]
        },
        {
          "output_type": "stream",
          "name": "stdout",
          "text": [
            "building tree 1 of 20\n",
            "building tree 2 of 20\n",
            "building tree 3 of 20\n",
            "building tree 4 of 20\n",
            "building tree 5 of 20\n",
            "building tree 6 of 20\n",
            "building tree 7 of 20\n",
            "building tree 8 of 20\n",
            "building tree 9 of 20\n",
            "building tree 10 of 20\n",
            "building tree 11 of 20\n",
            "building tree 12 of 20\n",
            "building tree 13 of 20\n",
            "building tree 14 of 20\n",
            "building tree 15 of 20\n",
            "building tree 16 of 20\n",
            "building tree 17 of 20\n",
            "building tree 18 of 20\n",
            "building tree 19 of 20\n",
            "building tree 20 of 20\n"
          ]
        },
        {
          "output_type": "stream",
          "name": "stderr",
          "text": [
            "[Parallel(n_jobs=-1)]: Done  20 out of  20 | elapsed:  3.1min finished\n",
            "[Parallel(n_jobs=2)]: Using backend ThreadingBackend with 2 concurrent workers.\n",
            "[Parallel(n_jobs=2)]: Done  20 out of  20 | elapsed:    1.0s finished\n"
          ]
        },
        {
          "output_type": "stream",
          "name": "stdout",
          "text": [
            "Accuracy: 0.9981083834536877\n"
          ]
        },
        {
          "output_type": "stream",
          "name": "stderr",
          "text": [
            "[Parallel(n_jobs=-1)]: Using backend ThreadingBackend with 2 concurrent workers.\n"
          ]
        },
        {
          "output_type": "stream",
          "name": "stdout",
          "text": [
            "building tree 1 of 20building tree 2 of 20\n",
            "\n",
            "building tree 3 of 20\n",
            "building tree 4 of 20\n",
            "building tree 5 of 20\n",
            "building tree 6 of 20\n",
            "building tree 7 of 20\n",
            "building tree 8 of 20\n",
            "building tree 9 of 20\n",
            "building tree 10 of 20\n",
            "building tree 11 of 20\n",
            "building tree 12 of 20\n",
            "building tree 13 of 20\n",
            "building tree 14 of 20\n",
            "building tree 15 of 20\n",
            "building tree 16 of 20\n",
            "building tree 17 of 20\n",
            "building tree 18 of 20\n",
            "building tree 19 of 20\n",
            "building tree 20 of 20\n"
          ]
        },
        {
          "output_type": "stream",
          "name": "stderr",
          "text": [
            "[Parallel(n_jobs=-1)]: Done  20 out of  20 | elapsed:  3.1min finished\n",
            "[Parallel(n_jobs=2)]: Using backend ThreadingBackend with 2 concurrent workers.\n"
          ]
        },
        {
          "output_type": "stream",
          "name": "stdout",
          "text": [
            "Accuracy: 0.9982178390105217\n"
          ]
        },
        {
          "output_type": "stream",
          "name": "stderr",
          "text": [
            "[Parallel(n_jobs=2)]: Done  20 out of  20 | elapsed:    1.0s finished\n"
          ]
        }
      ]
    },
    {
      "cell_type": "code",
      "source": [
        "print(\"New features reduced to :\",len(selected_features))\n",
        "X_train = X_train.loc[:,selected_features]\n",
        "X_test = X_test.loc[:,selected_features]"
      ],
      "metadata": {
        "colab": {
          "base_uri": "https://localhost:8080/"
        },
        "id": "WfGDhXL4AKpA",
        "outputId": "cc3b0606-89d0-4708-f926-4d42fa75aeb7"
      },
      "execution_count": null,
      "outputs": [
        {
          "output_type": "stream",
          "name": "stdout",
          "text": [
            "New features reduced to : 21\n"
          ]
        }
      ]
    },
    {
      "cell_type": "markdown",
      "source": [
        "## Fourth Iteration"
      ],
      "metadata": {
        "id": "HQGvRPlkBfRo"
      }
    },
    {
      "cell_type": "code",
      "source": [
        "selected_features = feature_selection(X_train,X_test,y_train,y_test,skf,name='default',cumulative=True,save=False)"
      ],
      "metadata": {
        "colab": {
          "base_uri": "https://localhost:8080/"
        },
        "id": "XOhF9EOqBep4",
        "outputId": "4e0cf046-a7ef-4fc1-e0ec-27032df5abf9"
      },
      "execution_count": null,
      "outputs": [
        {
          "output_type": "stream",
          "name": "stderr",
          "text": [
            "[Parallel(n_jobs=-1)]: Using backend ThreadingBackend with 2 concurrent workers.\n"
          ]
        },
        {
          "output_type": "stream",
          "name": "stdout",
          "text": [
            "building tree 1 of 20building tree 2 of 20\n",
            "\n",
            "building tree 3 of 20\n",
            "building tree 4 of 20\n",
            "building tree 5 of 20\n",
            "building tree 6 of 20\n",
            "building tree 7 of 20\n",
            "building tree 8 of 20\n",
            "building tree 9 of 20\n",
            "building tree 10 of 20\n",
            "building tree 11 of 20\n",
            "building tree 12 of 20\n",
            "building tree 13 of 20\n",
            "building tree 14 of 20\n",
            "building tree 15 of 20\n",
            "building tree 16 of 20\n",
            "building tree 17 of 20\n",
            "building tree 18 of 20\n",
            "building tree 19 of 20\n",
            "building tree 20 of 20\n"
          ]
        },
        {
          "output_type": "stream",
          "name": "stderr",
          "text": [
            "[Parallel(n_jobs=-1)]: Done  20 out of  20 | elapsed:  2.3min finished\n",
            "[Parallel(n_jobs=2)]: Using backend ThreadingBackend with 2 concurrent workers.\n",
            "[Parallel(n_jobs=2)]: Done  20 out of  20 | elapsed:    1.0s finished\n"
          ]
        },
        {
          "output_type": "stream",
          "name": "stdout",
          "text": [
            "Accuracy: 0.9978726330235834\n"
          ]
        },
        {
          "output_type": "stream",
          "name": "stderr",
          "text": [
            "[Parallel(n_jobs=-1)]: Using backend ThreadingBackend with 2 concurrent workers.\n"
          ]
        },
        {
          "output_type": "stream",
          "name": "stdout",
          "text": [
            "building tree 1 of 20building tree 2 of 20\n",
            "\n",
            "building tree 3 of 20\n",
            "building tree 4 of 20\n",
            "building tree 5 of 20\n",
            "building tree 6 of 20\n",
            "building tree 7 of 20\n",
            "building tree 8 of 20\n",
            "building tree 9 of 20\n",
            "building tree 10 of 20\n",
            "building tree 11 of 20\n",
            "building tree 12 of 20\n",
            "building tree 13 of 20\n",
            "building tree 14 of 20\n",
            "building tree 15 of 20\n",
            "building tree 16 of 20\n",
            "building tree 17 of 20\n",
            "building tree 18 of 20\n",
            "building tree 19 of 20\n",
            "building tree 20 of 20\n"
          ]
        },
        {
          "output_type": "stream",
          "name": "stderr",
          "text": [
            "[Parallel(n_jobs=-1)]: Done  20 out of  20 | elapsed:  2.3min finished\n",
            "[Parallel(n_jobs=2)]: Using backend ThreadingBackend with 2 concurrent workers.\n",
            "[Parallel(n_jobs=2)]: Done  20 out of  20 | elapsed:    1.0s finished\n"
          ]
        },
        {
          "output_type": "stream",
          "name": "stdout",
          "text": [
            "Accuracy: 0.9978445674961901\n"
          ]
        },
        {
          "output_type": "stream",
          "name": "stderr",
          "text": [
            "[Parallel(n_jobs=-1)]: Using backend ThreadingBackend with 2 concurrent workers.\n"
          ]
        },
        {
          "output_type": "stream",
          "name": "stdout",
          "text": [
            "building tree 1 of 20\n",
            "building tree 2 of 20\n",
            "building tree 3 of 20\n",
            "building tree 4 of 20\n",
            "building tree 5 of 20\n",
            "building tree 6 of 20\n",
            "building tree 7 of 20\n",
            "building tree 8 of 20\n",
            "building tree 9 of 20\n",
            "building tree 10 of 20\n",
            "building tree 11 of 20\n",
            "building tree 12 of 20\n",
            "building tree 13 of 20\n",
            "building tree 14 of 20\n",
            "building tree 15 of 20\n",
            "building tree 16 of 20\n",
            "building tree 17 of 20\n",
            "building tree 18 of 20\n",
            "building tree 19 of 20\n",
            "building tree 20 of 20\n"
          ]
        },
        {
          "output_type": "stream",
          "name": "stderr",
          "text": [
            "[Parallel(n_jobs=-1)]: Done  20 out of  20 | elapsed:  2.4min finished\n",
            "[Parallel(n_jobs=2)]: Using backend ThreadingBackend with 2 concurrent workers.\n",
            "[Parallel(n_jobs=2)]: Done  20 out of  20 | elapsed:    1.5s finished\n"
          ]
        },
        {
          "output_type": "stream",
          "name": "stdout",
          "text": [
            "Accuracy: 0.997768790572228\n"
          ]
        },
        {
          "output_type": "stream",
          "name": "stderr",
          "text": [
            "[Parallel(n_jobs=-1)]: Using backend ThreadingBackend with 2 concurrent workers.\n"
          ]
        },
        {
          "output_type": "stream",
          "name": "stdout",
          "text": [
            "building tree 1 of 20\n",
            "building tree 2 of 20\n",
            "building tree 3 of 20\n",
            "building tree 4 of 20\n",
            "building tree 5 of 20\n",
            "building tree 6 of 20\n",
            "building tree 7 of 20\n",
            "building tree 8 of 20\n",
            "building tree 9 of 20\n",
            "building tree 10 of 20\n",
            "building tree 11 of 20\n",
            "building tree 12 of 20\n",
            "building tree 13 of 20\n",
            "building tree 14 of 20\n",
            "building tree 15 of 20\n",
            "building tree 16 of 20\n",
            "building tree 17 of 20\n",
            "building tree 18 of 20\n",
            "building tree 19 of 20\n",
            "building tree 20 of 20\n"
          ]
        },
        {
          "output_type": "stream",
          "name": "stderr",
          "text": [
            "[Parallel(n_jobs=-1)]: Done  20 out of  20 | elapsed:  2.6min finished\n",
            "[Parallel(n_jobs=2)]: Using backend ThreadingBackend with 2 concurrent workers.\n",
            "[Parallel(n_jobs=2)]: Done  20 out of  20 | elapsed:    1.1s finished\n"
          ]
        },
        {
          "output_type": "stream",
          "name": "stdout",
          "text": [
            "Accuracy: 0.9977800167831854\n"
          ]
        },
        {
          "output_type": "stream",
          "name": "stderr",
          "text": [
            "[Parallel(n_jobs=-1)]: Using backend ThreadingBackend with 2 concurrent workers.\n"
          ]
        },
        {
          "output_type": "stream",
          "name": "stdout",
          "text": [
            "building tree 1 of 20\n",
            "building tree 2 of 20\n",
            "building tree 3 of 20\n",
            "building tree 4 of 20\n",
            "building tree 5 of 20\n",
            "building tree 6 of 20\n",
            "building tree 7 of 20\n",
            "building tree 8 of 20\n",
            "building tree 9 of 20\n",
            "building tree 10 of 20\n",
            "building tree 11 of 20\n",
            "building tree 12 of 20\n",
            "building tree 13 of 20\n",
            "building tree 14 of 20\n",
            "building tree 15 of 20\n",
            "building tree 16 of 20\n",
            "building tree 17 of 20\n",
            "building tree 18 of 20\n",
            "building tree 19 of 20\n",
            "building tree 20 of 20\n"
          ]
        },
        {
          "output_type": "stream",
          "name": "stderr",
          "text": [
            "[Parallel(n_jobs=-1)]: Done  20 out of  20 | elapsed:  2.9min finished\n",
            "[Parallel(n_jobs=2)]: Using backend ThreadingBackend with 2 concurrent workers.\n",
            "[Parallel(n_jobs=2)]: Done  20 out of  20 | elapsed:    2.0s finished\n"
          ]
        },
        {
          "output_type": "stream",
          "name": "stdout",
          "text": [
            "Accuracy: 0.9978782461290622\n"
          ]
        }
      ]
    },
    {
      "cell_type": "code",
      "source": [
        "print(\"New features reduced to :\",len(selected_features))\n",
        "X_train = X_train.loc[:,selected_features]\n",
        "X_test = X_test.loc[:,selected_features]"
      ],
      "metadata": {
        "colab": {
          "base_uri": "https://localhost:8080/"
        },
        "id": "b2fg2_QsBlZg",
        "outputId": "5b2d5cd5-f72d-4c27-f1f3-fdbf6ff97148"
      },
      "execution_count": null,
      "outputs": [
        {
          "output_type": "stream",
          "name": "stdout",
          "text": [
            "New features reduced to : 17\n"
          ]
        }
      ]
    },
    {
      "cell_type": "markdown",
      "source": [
        "## Fifth Iteration"
      ],
      "metadata": {
        "id": "H-SecevlBixx"
      }
    },
    {
      "cell_type": "code",
      "source": [
        "selected_features = feature_selection(X_train,X_test,y_train,y_test,skf,name='default',cumulative=True,save=False)"
      ],
      "metadata": {
        "colab": {
          "base_uri": "https://localhost:8080/"
        },
        "id": "r5qe4RwLBnB_",
        "outputId": "12f0eafa-f950-40bf-ea21-aff8e3c55fd1"
      },
      "execution_count": null,
      "outputs": [
        {
          "output_type": "stream",
          "name": "stderr",
          "text": [
            "[Parallel(n_jobs=-1)]: Using backend ThreadingBackend with 2 concurrent workers.\n"
          ]
        },
        {
          "output_type": "stream",
          "name": "stdout",
          "text": [
            "building tree 1 of 20\n",
            "building tree 2 of 20\n",
            "building tree 3 of 20\n",
            "building tree 4 of 20\n",
            "building tree 5 of 20\n",
            "building tree 6 of 20\n",
            "building tree 7 of 20\n",
            "building tree 8 of 20\n",
            "building tree 9 of 20\n",
            "building tree 10 of 20\n",
            "building tree 11 of 20\n",
            "building tree 12 of 20\n",
            "building tree 13 of 20\n",
            "building tree 14 of 20\n",
            "building tree 15 of 20\n",
            "building tree 16 of 20\n",
            "building tree 17 of 20\n",
            "building tree 18 of 20\n",
            "building tree 19 of 20\n",
            "building tree 20 of 20\n"
          ]
        },
        {
          "output_type": "stream",
          "name": "stderr",
          "text": [
            "[Parallel(n_jobs=-1)]: Done  20 out of  20 | elapsed:  3.0min finished\n",
            "[Parallel(n_jobs=2)]: Using backend ThreadingBackend with 2 concurrent workers.\n",
            "[Parallel(n_jobs=2)]: Done  20 out of  20 | elapsed:    1.7s finished\n"
          ]
        },
        {
          "output_type": "stream",
          "name": "stdout",
          "text": [
            "Accuracy: 0.997726692281138\n"
          ]
        },
        {
          "output_type": "stream",
          "name": "stderr",
          "text": [
            "[Parallel(n_jobs=-1)]: Using backend ThreadingBackend with 2 concurrent workers.\n"
          ]
        },
        {
          "output_type": "stream",
          "name": "stdout",
          "text": [
            "building tree 1 of 20\n",
            "building tree 2 of 20\n",
            "building tree 3 of 20\n",
            "building tree 4 of 20\n",
            "building tree 5 of 20\n",
            "building tree 6 of 20\n",
            "building tree 7 of 20\n",
            "building tree 8 of 20\n",
            "building tree 9 of 20\n",
            "building tree 10 of 20\n",
            "building tree 11 of 20\n",
            "building tree 12 of 20\n",
            "building tree 13 of 20\n",
            "building tree 14 of 20\n",
            "building tree 15 of 20\n",
            "building tree 16 of 20\n",
            "building tree 17 of 20\n",
            "building tree 18 of 20\n",
            "building tree 19 of 20\n",
            "building tree 20 of 20\n"
          ]
        },
        {
          "output_type": "stream",
          "name": "stderr",
          "text": [
            "[Parallel(n_jobs=-1)]: Done  20 out of  20 | elapsed:  2.5min finished\n",
            "[Parallel(n_jobs=2)]: Using backend ThreadingBackend with 2 concurrent workers.\n",
            "[Parallel(n_jobs=2)]: Done  20 out of  20 | elapsed:    1.2s finished\n"
          ]
        },
        {
          "output_type": "stream",
          "name": "stdout",
          "text": [
            "Accuracy: 0.9976677546736119\n"
          ]
        },
        {
          "output_type": "stream",
          "name": "stderr",
          "text": [
            "[Parallel(n_jobs=-1)]: Using backend ThreadingBackend with 2 concurrent workers.\n"
          ]
        },
        {
          "output_type": "stream",
          "name": "stdout",
          "text": [
            "building tree 1 of 20building tree 2 of 20\n",
            "\n",
            "building tree 3 of 20\n",
            "building tree 4 of 20\n",
            "building tree 5 of 20\n",
            "building tree 6 of 20\n",
            "building tree 7 of 20\n",
            "building tree 8 of 20\n",
            "building tree 9 of 20\n",
            "building tree 10 of 20\n",
            "building tree 11 of 20\n",
            "building tree 12 of 20\n",
            "building tree 13 of 20\n",
            "building tree 14 of 20\n",
            "building tree 15 of 20\n",
            "building tree 16 of 20\n",
            "building tree 17 of 20\n",
            "building tree 18 of 20\n",
            "building tree 19 of 20\n",
            "building tree 20 of 20\n"
          ]
        },
        {
          "output_type": "stream",
          "name": "stderr",
          "text": [
            "[Parallel(n_jobs=-1)]: Done  20 out of  20 | elapsed:  2.5min finished\n",
            "[Parallel(n_jobs=2)]: Using backend ThreadingBackend with 2 concurrent workers.\n",
            "[Parallel(n_jobs=2)]: Done  20 out of  20 | elapsed:    1.0s finished\n"
          ]
        },
        {
          "output_type": "stream",
          "name": "stdout",
          "text": [
            "Accuracy: 0.9975751384332139\n"
          ]
        },
        {
          "output_type": "stream",
          "name": "stderr",
          "text": [
            "[Parallel(n_jobs=-1)]: Using backend ThreadingBackend with 2 concurrent workers.\n"
          ]
        },
        {
          "output_type": "stream",
          "name": "stdout",
          "text": [
            "building tree 1 of 20building tree 2 of 20\n",
            "\n",
            "building tree 3 of 20\n",
            "building tree 4 of 20\n",
            "building tree 5 of 20\n",
            "building tree 6 of 20\n",
            "building tree 7 of 20\n",
            "building tree 8 of 20\n",
            "building tree 9 of 20\n",
            "building tree 10 of 20\n",
            "building tree 11 of 20\n",
            "building tree 12 of 20\n",
            "building tree 13 of 20\n",
            "building tree 14 of 20\n",
            "building tree 15 of 20\n",
            "building tree 16 of 20\n",
            "building tree 17 of 20\n",
            "building tree 18 of 20\n",
            "building tree 19 of 20\n",
            "building tree 20 of 20\n"
          ]
        },
        {
          "output_type": "stream",
          "name": "stderr",
          "text": [
            "[Parallel(n_jobs=-1)]: Done  20 out of  20 | elapsed:  2.9min finished\n",
            "[Parallel(n_jobs=2)]: Using backend ThreadingBackend with 2 concurrent workers.\n",
            "[Parallel(n_jobs=2)]: Done  20 out of  20 | elapsed:    1.0s finished\n"
          ]
        },
        {
          "output_type": "stream",
          "name": "stdout",
          "text": [
            "Accuracy: 0.9976228498297826\n"
          ]
        },
        {
          "output_type": "stream",
          "name": "stderr",
          "text": [
            "[Parallel(n_jobs=-1)]: Using backend ThreadingBackend with 2 concurrent workers.\n"
          ]
        },
        {
          "output_type": "stream",
          "name": "stdout",
          "text": [
            "building tree 1 of 20\n",
            "building tree 2 of 20\n",
            "building tree 3 of 20\n",
            "building tree 4 of 20\n",
            "building tree 5 of 20\n",
            "building tree 6 of 20\n",
            "building tree 7 of 20\n",
            "building tree 8 of 20\n",
            "building tree 9 of 20\n",
            "building tree 10 of 20\n",
            "building tree 11 of 20\n",
            "building tree 12 of 20\n",
            "building tree 13 of 20\n",
            "building tree 14 of 20\n",
            "building tree 15 of 20\n",
            "building tree 16 of 20\n",
            "building tree 17 of 20\n",
            "building tree 18 of 20\n",
            "building tree 19 of 20\n",
            "building tree 20 of 20\n"
          ]
        },
        {
          "output_type": "stream",
          "name": "stderr",
          "text": [
            "[Parallel(n_jobs=-1)]: Done  20 out of  20 | elapsed:  2.2min finished\n",
            "[Parallel(n_jobs=2)]: Using backend ThreadingBackend with 2 concurrent workers.\n"
          ]
        },
        {
          "output_type": "stream",
          "name": "stdout",
          "text": [
            "Accuracy: 0.9976200432770432\n"
          ]
        },
        {
          "output_type": "stream",
          "name": "stderr",
          "text": [
            "[Parallel(n_jobs=2)]: Done  20 out of  20 | elapsed:    1.6s finished\n"
          ]
        }
      ]
    },
    {
      "cell_type": "code",
      "source": [
        "print(\"New features reduced to :\",len(selected_features))\n",
        "X_train = X_train.loc[:,selected_features]\n",
        "X_test = X_test.loc[:,selected_features]"
      ],
      "metadata": {
        "colab": {
          "base_uri": "https://localhost:8080/"
        },
        "id": "U7nYd-hCBk_3",
        "outputId": "02cb346f-5a6f-4d41-b231-c5fddde980a8"
      },
      "execution_count": null,
      "outputs": [
        {
          "output_type": "stream",
          "name": "stdout",
          "text": [
            "New features reduced to : 15\n"
          ]
        }
      ]
    },
    {
      "cell_type": "markdown",
      "source": [
        "## Sixth Iteration"
      ],
      "metadata": {
        "id": "Wk-hx0UGBpY_"
      }
    },
    {
      "cell_type": "code",
      "source": [
        "selected_features = feature_selection(X_train,X_test,y_train,y_test,skf,name='default',cumulative=True,save=False)"
      ],
      "metadata": {
        "colab": {
          "base_uri": "https://localhost:8080/"
        },
        "id": "ziiQX8YsBren",
        "outputId": "eed444d8-dcb1-4290-a0c2-a2e8f868c870"
      },
      "execution_count": null,
      "outputs": [
        {
          "output_type": "stream",
          "name": "stderr",
          "text": [
            "[Parallel(n_jobs=-1)]: Using backend ThreadingBackend with 2 concurrent workers.\n"
          ]
        },
        {
          "output_type": "stream",
          "name": "stdout",
          "text": [
            "building tree 1 of 20building tree 2 of 20\n",
            "\n",
            "building tree 3 of 20\n",
            "building tree 4 of 20\n",
            "building tree 5 of 20\n",
            "building tree 6 of 20\n",
            "building tree 7 of 20\n",
            "building tree 8 of 20\n",
            "building tree 9 of 20\n",
            "building tree 10 of 20\n",
            "building tree 11 of 20\n",
            "building tree 12 of 20\n",
            "building tree 13 of 20\n",
            "building tree 14 of 20\n",
            "building tree 15 of 20\n",
            "building tree 16 of 20\n",
            "building tree 17 of 20\n",
            "building tree 18 of 20\n",
            "building tree 19 of 20\n",
            "building tree 20 of 20\n"
          ]
        },
        {
          "output_type": "stream",
          "name": "stderr",
          "text": [
            "[Parallel(n_jobs=-1)]: Done  20 out of  20 | elapsed:  1.8min finished\n",
            "[Parallel(n_jobs=2)]: Using backend ThreadingBackend with 2 concurrent workers.\n",
            "[Parallel(n_jobs=2)]: Done  20 out of  20 | elapsed:    1.0s finished\n"
          ]
        },
        {
          "output_type": "stream",
          "name": "stdout",
          "text": [
            "Accuracy: 0.9977098529647019\n"
          ]
        },
        {
          "output_type": "stream",
          "name": "stderr",
          "text": [
            "[Parallel(n_jobs=-1)]: Using backend ThreadingBackend with 2 concurrent workers.\n"
          ]
        },
        {
          "output_type": "stream",
          "name": "stdout",
          "text": [
            "building tree 1 of 20building tree 2 of 20\n",
            "\n",
            "building tree 3 of 20\n",
            "building tree 4 of 20\n",
            "building tree 5 of 20\n",
            "building tree 6 of 20\n",
            "building tree 7 of 20\n",
            "building tree 8 of 20\n",
            "building tree 9 of 20\n",
            "building tree 10 of 20\n",
            "building tree 11 of 20\n",
            "building tree 12 of 20\n",
            "building tree 13 of 20\n",
            "building tree 14 of 20\n",
            "building tree 15 of 20\n",
            "building tree 16 of 20\n",
            "building tree 17 of 20\n",
            "building tree 18 of 20\n",
            "building tree 19 of 20\n",
            "building tree 20 of 20\n"
          ]
        },
        {
          "output_type": "stream",
          "name": "stderr",
          "text": [
            "[Parallel(n_jobs=-1)]: Done  20 out of  20 | elapsed:  1.8min finished\n",
            "[Parallel(n_jobs=2)]: Using backend ThreadingBackend with 2 concurrent workers.\n",
            "[Parallel(n_jobs=2)]: Done  20 out of  20 | elapsed:    1.0s finished\n"
          ]
        },
        {
          "output_type": "stream",
          "name": "stdout",
          "text": [
            "Accuracy: 0.9976565284626546\n"
          ]
        },
        {
          "output_type": "stream",
          "name": "stderr",
          "text": [
            "[Parallel(n_jobs=-1)]: Using backend ThreadingBackend with 2 concurrent workers.\n"
          ]
        },
        {
          "output_type": "stream",
          "name": "stdout",
          "text": [
            "building tree 1 of 20\n",
            "building tree 2 of 20\n",
            "building tree 3 of 20\n",
            "building tree 4 of 20\n",
            "building tree 5 of 20\n",
            "building tree 6 of 20\n",
            "building tree 7 of 20\n",
            "building tree 8 of 20\n",
            "building tree 9 of 20\n",
            "building tree 10 of 20\n",
            "building tree 11 of 20\n",
            "building tree 12 of 20\n",
            "building tree 13 of 20\n",
            "building tree 14 of 20\n",
            "building tree 15 of 20\n",
            "building tree 16 of 20\n",
            "building tree 17 of 20\n",
            "building tree 18 of 20\n",
            "building tree 19 of 20\n",
            "building tree 20 of 20\n"
          ]
        },
        {
          "output_type": "stream",
          "name": "stderr",
          "text": [
            "[Parallel(n_jobs=-1)]: Done  20 out of  20 | elapsed:  1.9min finished\n",
            "[Parallel(n_jobs=2)]: Using backend ThreadingBackend with 2 concurrent workers.\n",
            "[Parallel(n_jobs=2)]: Done  20 out of  20 | elapsed:    1.0s finished\n"
          ]
        },
        {
          "output_type": "stream",
          "name": "stdout",
          "text": [
            "Accuracy: 0.9975891711969106\n"
          ]
        },
        {
          "output_type": "stream",
          "name": "stderr",
          "text": [
            "[Parallel(n_jobs=-1)]: Using backend ThreadingBackend with 2 concurrent workers.\n"
          ]
        },
        {
          "output_type": "stream",
          "name": "stdout",
          "text": [
            "building tree 1 of 20\n",
            "building tree 2 of 20\n",
            "building tree 3 of 20\n",
            "building tree 4 of 20\n",
            "building tree 5 of 20\n",
            "building tree 6 of 20\n",
            "building tree 7 of 20\n",
            "building tree 8 of 20\n",
            "building tree 9 of 20\n",
            "building tree 10 of 20\n",
            "building tree 11 of 20\n",
            "building tree 12 of 20\n",
            "building tree 13 of 20\n",
            "building tree 14 of 20\n",
            "building tree 15 of 20\n",
            "building tree 16 of 20\n",
            "building tree 17 of 20\n",
            "building tree 18 of 20\n",
            "building tree 19 of 20\n",
            "building tree 20 of 20\n"
          ]
        },
        {
          "output_type": "stream",
          "name": "stderr",
          "text": [
            "[Parallel(n_jobs=-1)]: Done  20 out of  20 | elapsed:  1.8min finished\n",
            "[Parallel(n_jobs=2)]: Using backend ThreadingBackend with 2 concurrent workers.\n",
            "[Parallel(n_jobs=2)]: Done  20 out of  20 | elapsed:    1.0s finished\n"
          ]
        },
        {
          "output_type": "stream",
          "name": "stdout",
          "text": [
            "Accuracy: 0.9976228498297826\n"
          ]
        },
        {
          "output_type": "stream",
          "name": "stderr",
          "text": [
            "[Parallel(n_jobs=-1)]: Using backend ThreadingBackend with 2 concurrent workers.\n"
          ]
        },
        {
          "output_type": "stream",
          "name": "stdout",
          "text": [
            "building tree 1 of 20\n",
            "building tree 2 of 20\n",
            "building tree 3 of 20\n",
            "building tree 4 of 20\n",
            "building tree 5 of 20\n",
            "building tree 6 of 20\n",
            "building tree 7 of 20\n",
            "building tree 8 of 20\n",
            "building tree 9 of 20\n",
            "building tree 10 of 20\n",
            "building tree 11 of 20\n",
            "building tree 12 of 20\n",
            "building tree 13 of 20\n",
            "building tree 14 of 20\n",
            "building tree 15 of 20\n",
            "building tree 16 of 20\n",
            "building tree 17 of 20\n",
            "building tree 18 of 20\n",
            "building tree 19 of 20\n",
            "building tree 20 of 20\n"
          ]
        },
        {
          "output_type": "stream",
          "name": "stderr",
          "text": [
            "[Parallel(n_jobs=-1)]: Done  20 out of  20 | elapsed:  2.2min finished\n",
            "[Parallel(n_jobs=2)]: Using backend ThreadingBackend with 2 concurrent workers.\n"
          ]
        },
        {
          "output_type": "stream",
          "name": "stdout",
          "text": [
            "Accuracy: 0.9976228498297826\n"
          ]
        },
        {
          "output_type": "stream",
          "name": "stderr",
          "text": [
            "[Parallel(n_jobs=2)]: Done  20 out of  20 | elapsed:    1.0s finished\n"
          ]
        }
      ]
    },
    {
      "cell_type": "code",
      "source": [
        "print(\"New features reduced to :\",len(selected_features))\n",
        "X_train = X_train.loc[:,selected_features]\n",
        "X_test = X_test.loc[:,selected_features]"
      ],
      "metadata": {
        "colab": {
          "base_uri": "https://localhost:8080/"
        },
        "id": "HbXkiLs5BtQX",
        "outputId": "58f75d11-fdd1-4fa0-f608-a2692d67e61f"
      },
      "execution_count": null,
      "outputs": [
        {
          "output_type": "stream",
          "name": "stdout",
          "text": [
            "New features reduced to : 13\n"
          ]
        }
      ]
    },
    {
      "cell_type": "code",
      "source": [
        "model = RandomForestClassifier(n_estimators=20, max_depth=None,\n",
        "                                 bootstrap=False, n_jobs=-1,\n",
        "                                 random_state=0,verbose=2)\n",
        "model.fit(X_train,y_train)\n",
        "y_pred = model.predict(X_test)\n",
        "accuracy = accuracy_score(y_test, y_pred)\n",
        "print(\"Model accuracy on the test set:\", accuracy)"
      ],
      "metadata": {
        "colab": {
          "base_uri": "https://localhost:8080/"
        },
        "id": "Ggq7Xn7QWneF",
        "outputId": "7ef6a29f-ed26-4067-acc3-4ae8cd718a2c"
      },
      "execution_count": null,
      "outputs": [
        {
          "output_type": "stream",
          "name": "stderr",
          "text": [
            "[Parallel(n_jobs=-1)]: Using backend ThreadingBackend with 2 concurrent workers.\n"
          ]
        },
        {
          "output_type": "stream",
          "name": "stdout",
          "text": [
            "building tree 1 of 20\n",
            "building tree 2 of 20\n",
            "building tree 3 of 20\n",
            "building tree 4 of 20\n",
            "building tree 5 of 20\n",
            "building tree 6 of 20\n",
            "building tree 7 of 20\n",
            "building tree 8 of 20\n",
            "building tree 9 of 20\n",
            "building tree 10 of 20\n",
            "building tree 11 of 20\n",
            "building tree 12 of 20\n",
            "building tree 13 of 20\n",
            "building tree 14 of 20\n",
            "building tree 15 of 20\n",
            "building tree 16 of 20\n",
            "building tree 17 of 20\n",
            "building tree 18 of 20\n",
            "building tree 19 of 20\n",
            "building tree 20 of 20\n"
          ]
        },
        {
          "output_type": "stream",
          "name": "stderr",
          "text": [
            "[Parallel(n_jobs=-1)]: Done  20 out of  20 | elapsed:  2.4min finished\n",
            "[Parallel(n_jobs=2)]: Using backend ThreadingBackend with 2 concurrent workers.\n"
          ]
        },
        {
          "output_type": "stream",
          "name": "stdout",
          "text": [
            "Model accuracy on the test set: 0.9976697814442663\n"
          ]
        },
        {
          "output_type": "stream",
          "name": "stderr",
          "text": [
            "[Parallel(n_jobs=2)]: Done  20 out of  20 | elapsed:    1.6s finished\n"
          ]
        }
      ]
    },
    {
      "cell_type": "code",
      "source": [
        "# print final features\n",
        "print(selected_features)"
      ],
      "metadata": {
        "colab": {
          "base_uri": "https://localhost:8080/"
        },
        "id": "bZBd8W8qXbjO",
        "outputId": "70146c41-a4ba-4eb5-fa5c-3652b1c43bf6"
      },
      "execution_count": null,
      "outputs": [
        {
          "output_type": "stream",
          "name": "stdout",
          "text": [
            "['Bwd Packet Length Mean', 'Packet Length Std', 'Total Length of Fwd Packets', 'Bwd Packet Length Std', 'Subflow Fwd Bytes', 'Avg Bwd Segment Size', 'Packet Length Variance', 'Subflow Bwd Bytes', 'Flow IAT Mean', 'Destination Port', 'Init_Win_bytes_forward', 'Total Length of Bwd Packets', 'Fwd Header Length']\n"
          ]
        }
      ]
    }
  ],
  "metadata": {
    "colab": {
      "provenance": []
    },
    "kernelspec": {
      "display_name": "Python 3",
      "name": "python3"
    },
    "language_info": {
      "name": "python"
    }
  },
  "nbformat": 4,
  "nbformat_minor": 0
}